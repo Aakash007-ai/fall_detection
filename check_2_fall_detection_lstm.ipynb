{
  "nbformat": 4,
  "nbformat_minor": 0,
  "metadata": {
    "colab": {
      "provenance": [],
      "gpuType": "T4",
      "include_colab_link": true
    },
    "kernelspec": {
      "name": "python3",
      "display_name": "Python 3"
    },
    "language_info": {
      "name": "python"
    },
    "accelerator": "GPU",
    "gpuClass": "standard"
  },
  "cells": [
    {
      "cell_type": "markdown",
      "metadata": {
        "id": "view-in-github",
        "colab_type": "text"
      },
      "source": [
        "<a href=\"https://colab.research.google.com/github/Aakash007-ai/fall_detection/blob/main/check_2_fall_detection_lstm.ipynb\" target=\"_parent\"><img src=\"https://colab.research.google.com/assets/colab-badge.svg\" alt=\"Open In Colab\"/></a>"
      ]
    },
    {
      "cell_type": "code",
      "source": [
        "!pip install tensorflow\n",
        "!pip install keras\n",
        "!pip install pandas\n",
        "!pip install numpy\n"
      ],
      "metadata": {
        "colab": {
          "base_uri": "https://localhost:8080/"
        },
        "id": "S_TidjoHwusc",
        "outputId": "8a9182c2-f918-45be-b1e1-6f2ca173955b"
      },
      "execution_count": 2,
      "outputs": [
        {
          "output_type": "stream",
          "name": "stdout",
          "text": [
            "Looking in indexes: https://pypi.org/simple, https://us-python.pkg.dev/colab-wheels/public/simple/\n",
            "Requirement already satisfied: tensorflow in /usr/local/lib/python3.10/dist-packages (2.12.0)\n",
            "Requirement already satisfied: absl-py>=1.0.0 in /usr/local/lib/python3.10/dist-packages (from tensorflow) (1.4.0)\n",
            "Requirement already satisfied: astunparse>=1.6.0 in /usr/local/lib/python3.10/dist-packages (from tensorflow) (1.6.3)\n",
            "Requirement already satisfied: flatbuffers>=2.0 in /usr/local/lib/python3.10/dist-packages (from tensorflow) (23.3.3)\n",
            "Requirement already satisfied: gast<=0.4.0,>=0.2.1 in /usr/local/lib/python3.10/dist-packages (from tensorflow) (0.4.0)\n",
            "Requirement already satisfied: google-pasta>=0.1.1 in /usr/local/lib/python3.10/dist-packages (from tensorflow) (0.2.0)\n",
            "Requirement already satisfied: grpcio<2.0,>=1.24.3 in /usr/local/lib/python3.10/dist-packages (from tensorflow) (1.54.0)\n",
            "Requirement already satisfied: h5py>=2.9.0 in /usr/local/lib/python3.10/dist-packages (from tensorflow) (3.8.0)\n",
            "Requirement already satisfied: jax>=0.3.15 in /usr/local/lib/python3.10/dist-packages (from tensorflow) (0.4.8)\n",
            "Requirement already satisfied: keras<2.13,>=2.12.0 in /usr/local/lib/python3.10/dist-packages (from tensorflow) (2.12.0)\n",
            "Requirement already satisfied: libclang>=13.0.0 in /usr/local/lib/python3.10/dist-packages (from tensorflow) (16.0.0)\n",
            "Requirement already satisfied: numpy<1.24,>=1.22 in /usr/local/lib/python3.10/dist-packages (from tensorflow) (1.22.4)\n",
            "Requirement already satisfied: opt-einsum>=2.3.2 in /usr/local/lib/python3.10/dist-packages (from tensorflow) (3.3.0)\n",
            "Requirement already satisfied: packaging in /usr/local/lib/python3.10/dist-packages (from tensorflow) (23.1)\n",
            "Requirement already satisfied: protobuf!=4.21.0,!=4.21.1,!=4.21.2,!=4.21.3,!=4.21.4,!=4.21.5,<5.0.0dev,>=3.20.3 in /usr/local/lib/python3.10/dist-packages (from tensorflow) (3.20.3)\n",
            "Requirement already satisfied: setuptools in /usr/local/lib/python3.10/dist-packages (from tensorflow) (67.7.2)\n",
            "Requirement already satisfied: six>=1.12.0 in /usr/local/lib/python3.10/dist-packages (from tensorflow) (1.16.0)\n",
            "Requirement already satisfied: tensorboard<2.13,>=2.12 in /usr/local/lib/python3.10/dist-packages (from tensorflow) (2.12.2)\n",
            "Requirement already satisfied: tensorflow-estimator<2.13,>=2.12.0 in /usr/local/lib/python3.10/dist-packages (from tensorflow) (2.12.0)\n",
            "Requirement already satisfied: termcolor>=1.1.0 in /usr/local/lib/python3.10/dist-packages (from tensorflow) (2.3.0)\n",
            "Requirement already satisfied: typing-extensions>=3.6.6 in /usr/local/lib/python3.10/dist-packages (from tensorflow) (4.5.0)\n",
            "Requirement already satisfied: wrapt<1.15,>=1.11.0 in /usr/local/lib/python3.10/dist-packages (from tensorflow) (1.14.1)\n",
            "Requirement already satisfied: tensorflow-io-gcs-filesystem>=0.23.1 in /usr/local/lib/python3.10/dist-packages (from tensorflow) (0.32.0)\n",
            "Requirement already satisfied: wheel<1.0,>=0.23.0 in /usr/local/lib/python3.10/dist-packages (from astunparse>=1.6.0->tensorflow) (0.40.0)\n",
            "Requirement already satisfied: ml-dtypes>=0.0.3 in /usr/local/lib/python3.10/dist-packages (from jax>=0.3.15->tensorflow) (0.1.0)\n",
            "Requirement already satisfied: scipy>=1.7 in /usr/local/lib/python3.10/dist-packages (from jax>=0.3.15->tensorflow) (1.10.1)\n",
            "Requirement already satisfied: google-auth<3,>=1.6.3 in /usr/local/lib/python3.10/dist-packages (from tensorboard<2.13,>=2.12->tensorflow) (2.17.3)\n",
            "Requirement already satisfied: google-auth-oauthlib<1.1,>=0.5 in /usr/local/lib/python3.10/dist-packages (from tensorboard<2.13,>=2.12->tensorflow) (1.0.0)\n",
            "Requirement already satisfied: markdown>=2.6.8 in /usr/local/lib/python3.10/dist-packages (from tensorboard<2.13,>=2.12->tensorflow) (3.4.3)\n",
            "Requirement already satisfied: requests<3,>=2.21.0 in /usr/local/lib/python3.10/dist-packages (from tensorboard<2.13,>=2.12->tensorflow) (2.27.1)\n",
            "Requirement already satisfied: tensorboard-data-server<0.8.0,>=0.7.0 in /usr/local/lib/python3.10/dist-packages (from tensorboard<2.13,>=2.12->tensorflow) (0.7.0)\n",
            "Requirement already satisfied: tensorboard-plugin-wit>=1.6.0 in /usr/local/lib/python3.10/dist-packages (from tensorboard<2.13,>=2.12->tensorflow) (1.8.1)\n",
            "Requirement already satisfied: werkzeug>=1.0.1 in /usr/local/lib/python3.10/dist-packages (from tensorboard<2.13,>=2.12->tensorflow) (2.3.0)\n",
            "Requirement already satisfied: cachetools<6.0,>=2.0.0 in /usr/local/lib/python3.10/dist-packages (from google-auth<3,>=1.6.3->tensorboard<2.13,>=2.12->tensorflow) (5.3.0)\n",
            "Requirement already satisfied: pyasn1-modules>=0.2.1 in /usr/local/lib/python3.10/dist-packages (from google-auth<3,>=1.6.3->tensorboard<2.13,>=2.12->tensorflow) (0.3.0)\n",
            "Requirement already satisfied: rsa<5,>=3.1.4 in /usr/local/lib/python3.10/dist-packages (from google-auth<3,>=1.6.3->tensorboard<2.13,>=2.12->tensorflow) (4.9)\n",
            "Requirement already satisfied: requests-oauthlib>=0.7.0 in /usr/local/lib/python3.10/dist-packages (from google-auth-oauthlib<1.1,>=0.5->tensorboard<2.13,>=2.12->tensorflow) (1.3.1)\n",
            "Requirement already satisfied: urllib3<1.27,>=1.21.1 in /usr/local/lib/python3.10/dist-packages (from requests<3,>=2.21.0->tensorboard<2.13,>=2.12->tensorflow) (1.26.15)\n",
            "Requirement already satisfied: certifi>=2017.4.17 in /usr/local/lib/python3.10/dist-packages (from requests<3,>=2.21.0->tensorboard<2.13,>=2.12->tensorflow) (2022.12.7)\n",
            "Requirement already satisfied: charset-normalizer~=2.0.0 in /usr/local/lib/python3.10/dist-packages (from requests<3,>=2.21.0->tensorboard<2.13,>=2.12->tensorflow) (2.0.12)\n",
            "Requirement already satisfied: idna<4,>=2.5 in /usr/local/lib/python3.10/dist-packages (from requests<3,>=2.21.0->tensorboard<2.13,>=2.12->tensorflow) (3.4)\n",
            "Requirement already satisfied: MarkupSafe>=2.1.1 in /usr/local/lib/python3.10/dist-packages (from werkzeug>=1.0.1->tensorboard<2.13,>=2.12->tensorflow) (2.1.2)\n",
            "Requirement already satisfied: pyasn1<0.6.0,>=0.4.6 in /usr/local/lib/python3.10/dist-packages (from pyasn1-modules>=0.2.1->google-auth<3,>=1.6.3->tensorboard<2.13,>=2.12->tensorflow) (0.5.0)\n",
            "Requirement already satisfied: oauthlib>=3.0.0 in /usr/local/lib/python3.10/dist-packages (from requests-oauthlib>=0.7.0->google-auth-oauthlib<1.1,>=0.5->tensorboard<2.13,>=2.12->tensorflow) (3.2.2)\n",
            "Looking in indexes: https://pypi.org/simple, https://us-python.pkg.dev/colab-wheels/public/simple/\n",
            "Requirement already satisfied: keras in /usr/local/lib/python3.10/dist-packages (2.12.0)\n",
            "Looking in indexes: https://pypi.org/simple, https://us-python.pkg.dev/colab-wheels/public/simple/\n",
            "Requirement already satisfied: pandas in /usr/local/lib/python3.10/dist-packages (1.5.3)\n",
            "Requirement already satisfied: python-dateutil>=2.8.1 in /usr/local/lib/python3.10/dist-packages (from pandas) (2.8.2)\n",
            "Requirement already satisfied: pytz>=2020.1 in /usr/local/lib/python3.10/dist-packages (from pandas) (2022.7.1)\n",
            "Requirement already satisfied: numpy>=1.21.0 in /usr/local/lib/python3.10/dist-packages (from pandas) (1.22.4)\n",
            "Requirement already satisfied: six>=1.5 in /usr/local/lib/python3.10/dist-packages (from python-dateutil>=2.8.1->pandas) (1.16.0)\n",
            "Looking in indexes: https://pypi.org/simple, https://us-python.pkg.dev/colab-wheels/public/simple/\n",
            "Requirement already satisfied: numpy in /usr/local/lib/python3.10/dist-packages (1.22.4)\n"
          ]
        }
      ]
    },
    {
      "cell_type": "code",
      "execution_count": 3,
      "metadata": {
        "colab": {
          "base_uri": "https://localhost:8080/",
          "height": 36
        },
        "id": "1EXrxHqTqZdA",
        "outputId": "3b4671e8-2131-40f1-be6b-43fa00fdfde0"
      },
      "outputs": [
        {
          "output_type": "execute_result",
          "data": {
            "text/plain": [
              "'2.12.0'"
            ],
            "application/vnd.google.colaboratory.intrinsic+json": {
              "type": "string"
            }
          },
          "metadata": {},
          "execution_count": 3
        }
      ],
      "source": [
        "import keras\n",
        "keras.__version__"
      ]
    },
    {
      "cell_type": "code",
      "source": [
        "!pip install tensorflow-addons\n"
      ],
      "metadata": {
        "colab": {
          "base_uri": "https://localhost:8080/"
        },
        "id": "3Y5IMZ7dxO2Z",
        "outputId": "e819511c-bff1-471f-9932-e51386c0e90f"
      },
      "execution_count": 4,
      "outputs": [
        {
          "output_type": "stream",
          "name": "stdout",
          "text": [
            "Looking in indexes: https://pypi.org/simple, https://us-python.pkg.dev/colab-wheels/public/simple/\n",
            "Collecting tensorflow-addons\n",
            "  Downloading tensorflow_addons-0.20.0-cp310-cp310-manylinux_2_17_x86_64.manylinux2014_x86_64.whl (591 kB)\n",
            "\u001b[2K     \u001b[90m━━━━━━━━━━━━━━━━━━━━━━━━━━━━━━━━━━━━━━━\u001b[0m \u001b[32m591.0/591.0 kB\u001b[0m \u001b[31m8.6 MB/s\u001b[0m eta \u001b[36m0:00:00\u001b[0m\n",
            "\u001b[?25hRequirement already satisfied: packaging in /usr/local/lib/python3.10/dist-packages (from tensorflow-addons) (23.1)\n",
            "Collecting typeguard<3.0.0,>=2.7 (from tensorflow-addons)\n",
            "  Downloading typeguard-2.13.3-py3-none-any.whl (17 kB)\n",
            "Installing collected packages: typeguard, tensorflow-addons\n",
            "Successfully installed tensorflow-addons-0.20.0 typeguard-2.13.3\n"
          ]
        }
      ]
    },
    {
      "cell_type": "code",
      "source": [
        "from keras import models\n",
        "from keras import layers\n",
        "from keras import metrics\n",
        "from keras import optimizers\n",
        "\n",
        "import numpy as np\n",
        "import json\n",
        "import os\n",
        "import csv\n",
        "import pandas as pd\n",
        "import tensorflow_addons as tfa"
      ],
      "metadata": {
        "colab": {
          "base_uri": "https://localhost:8080/"
        },
        "id": "mXrKG6gqv44_",
        "outputId": "3e69cdb5-a4c9-4da8-8ea7-b2bdad11a8a3"
      },
      "execution_count": 5,
      "outputs": [
        {
          "output_type": "stream",
          "name": "stderr",
          "text": [
            "/usr/local/lib/python3.10/dist-packages/tensorflow_addons/utils/tfa_eol_msg.py:23: UserWarning: \n",
            "\n",
            "TensorFlow Addons (TFA) has ended development and introduction of new features.\n",
            "TFA has entered a minimal maintenance and release mode until a planned end of life in May 2024.\n",
            "Please modify downstream libraries to take dependencies from other repositories in our TensorFlow community (e.g. Keras, Keras-CV, and Keras-NLP). \n",
            "\n",
            "For more information see: https://github.com/tensorflow/addons/issues/2807 \n",
            "\n",
            "  warnings.warn(\n"
          ]
        }
      ]
    },
    {
      "cell_type": "code",
      "source": [
        "# !git clone https://github.com/Aakash007-ai/fall_detection.git"
      ],
      "metadata": {
        "id": "KngJyRfDqBry"
      },
      "execution_count": 6,
      "outputs": []
    },
    {
      "cell_type": "code",
      "source": [
        "#mount drive"
      ],
      "metadata": {
        "id": "_8oJ3EPxxWvk"
      },
      "execution_count": 7,
      "outputs": []
    },
    {
      "cell_type": "code",
      "source": [
        "# read the video data csv\n",
        "# it is faster than running the above code each time\n",
        "\n",
        "#to use drive use this commented section\n",
        "ur_path = '/content/drive/My Drive/final_project/initial_csv/ur_data.csv'\n",
        "mc_fall_path = '/content/drive/My Drive/final_project/initial_csv/mc_fall_data.csv'\n",
        "mc_notfall_path = '/content/drive/My Drive/final_project/initial_csv/mc_notfall_data.csv'\n",
        "youtube_fall_path = '/content/drive/My Drive/final_project/initial_csv//youtube_fall_data.csv'\n",
        "youtube_notfall_path = '/content/drive/My Drive/final_project/initial_csv/youtube_notfall_data.csv'\n",
        "\n",
        "# ur_path = '/content/fall_detection/initial_csv/ur_data.csv'\n",
        "# mc_fall_path = '/content/fall_detection/initial_csv/mc_fall_data.csv'\n",
        "# mc_notfall_path = '/content/fall_detection/initial_csv/mc_notfall_data.csv'\n",
        "# youtube_fall_path = '/content/fall_detection/initial_csv//youtube_fall_data.csv'\n",
        "# youtube_notfall_path = '/content/fall_detection/initial_csv/youtube_notfall_data.csv'\n",
        "\n",
        "def read_data(path):\n",
        "  video_data = []\n",
        "  with open(path, mode='r') as csv_file:\n",
        "    reader = csv.reader(csv_file)\n",
        "    for row in reader:\n",
        "      video_data.append(row)\n",
        "  return video_data\n",
        "\n",
        "ur_data = read_data(ur_path)\n",
        "mc_fall_data = read_data(mc_fall_path)\n",
        "mc_notfall_data = read_data(mc_notfall_path)\n",
        "youtube_fall_data = read_data(youtube_fall_path)\n",
        "youtube_notfall_data = read_data(youtube_notfall_path)\n",
        "\n",
        "print(ur_data[0])\n",
        "print(len(ur_data[0]))\n",
        "print(mc_fall_data[0])\n",
        "print(mc_notfall_data[0])\n",
        "print(youtube_fall_data[0])\n",
        "print(youtube_notfall_data[0])"
      ],
      "metadata": {
        "colab": {
          "base_uri": "https://localhost:8080/"
        },
        "id": "NXWyDzok0_5h",
        "outputId": "012d94db-5a68-424d-eebe-a77bf4e47591"
      },
      "execution_count": 8,
      "outputs": [
        {
          "output_type": "stream",
          "name": "stdout",
          "text": [
            "['520.972', '128.178', '0.833728', '544.571', '130.782', '0.739747', '540.636', '132.754', '0.726633', '553.086', '154.999', '0.800764', '541.285', '166.155', '0.742877', '549.144', '129.467', '0.745059', '572.703', '155.035', '0.841464', '543.266', '171.369', '0.817947', '572.067', '169.415', '0.607432', '564.874', '166.16', '0.534525', '526.875', '181.191', '0.862423', '554.389', '217.851', '0.612664', '577.962', '170.732', '0.619415', '535.402', '188.398', '0.760066', '560.284', '220.479', '0.65847', '545.882', '232.266', '0.604373', '553.078', '232.915', '0.532739', '566.184', '222.453', '0.655722', '541.939', '229.002', '0.399536', '541.943', '227.687', '0.344383', '560.285', '217.223', '0.153482', 'fall-16-cam0_000000000016_keypoints']\n",
            "64\n",
            "['504.171', '238.019', '0.119379', '481.995', '237.979', '0.647555', '471.564', '247.106', '0.6547', '485.918', '299.334', '0.780827', '525.04', '307.158', '0.770417', '495.036', '228.845', '0.474206', '519.863', '220.995', '0.283234', '539.41', '214.505', '0.246275', '478.096', '275.843', '0.378863', '474.176', '284.967', '0.370422', '528.986', '277.118', '0.213783', '0.0', '0.0', '0.0', '485.934', '266.741', '0.363281', '517.291', '258.887', '0.198486', '530.273', '274.524', '0.0747612', '542.03', '277.126', '0.114463', '539.417', '277.116', '0.0888912', '532.899', '274.487', '0.0731438', '0.0', '0.0', '0.0', '0.0', '0.0', '0.0', '0.0', '0.0', '0.0', '55_000000000000_keypoints']\n",
            "['643.854', '174.088', '0.796968', '652.912', '202.706', '0.916605', '633.362', '192.272', '0.886062', '609.831', '214.468', '0.928492', '579.903', '235.396', '0.884458', '672.491', '213.16', '0.871428', '664.737', '253.631', '0.843892', '653.025', '284.941', '0.864034', '625.542', '257.608', '0.738263', '612.549', '253.669', '0.758785', '602.079', '296.765', '0.733292', '590.279', '330.665', '0.457905', '637.277', '265.416', '0.734225', '605.954', '303.234', '0.712669', '566.825', '341.124', '0.72449', '548.572', '350.196', '0.637416', '557.634', '352.806', '0.630046', '561.622', '348.878', '0.52683', '0.0', '0.0', '0.0', '0.0', '0.0', '0.0', '590.367', '337.146', '0.274113', '60_000000000000_keypoints']\n",
            "['0.0', '0.0', '0.0', '343.849', '66.0223', '0.188148', '357.543', '65.0651', '0.218538', '363.4', '88.5165', '0.191749', '372.217', '105.197', '0.108987', '332.118', '66.0279', '0.150296', '0.0', '0.0', '0.0', '0.0', '0.0', '0.0', '326.252', '114.944', '0.284664', '338.962', '115.929', '0.30854', '347.785', '137.438', '0.560074', '343.839', '168.782', '0.551124', '312.554', '112.013', '0.206529', '318.401', '133.526', '0.458152', '302.762', '158.97', '0.660171', '317.411', '170.707', '0.600659', '315.461', '168.761', '0.53913', '296.89', '159.959', '0.631556', '349.714', '174.611', '0.319546', '348.751', '175.614', '0.397619', '340.902', '175.568', '0.545259', '20_000000000000_keypoints']\n",
            "['127.682', '35.6818', '0.86715', '160.95', '62.1388', '0.695363', '175.59', '57.2496', '0.554826', '0.0', '0.0', '0.0', '0.0', '0.0', '0.0', '149.194', '66.9858', '0.726184', '158.946', '134.519', '0.703452', '139.42', '185.404', '0.765717', '178.547', '178.524', '0.46768', '191.251', '177.548', '0.420402', '186.383', '242.124', '0.614888', '199.029', '301.81', '0.717645', '168.757', '179.502', '0.463228', '152.142', '247.998', '0.627453', '131.588', '310.611', '0.561644', '104.176', '303.749', '0.359979', '107.144', '308.644', '0.370667', '132.562', '323.297', '0.445868', '161.897', '314.483', '0.600495', '165.821', '311.581', '0.493078', '205.908', '309.59', '0.598985', '7_000000000000_keypoints']\n"
          ]
        }
      ]
    },
    {
      "cell_type": "code",
      "source": [
        "# normalize data according to the size of videos in different dataset\n",
        "def normalize(list, width, height):\n",
        "  for record in list:\n",
        "    for i in range(0, 63, 3):\n",
        "        record[i] = float(record[i])/ width\n",
        "        record[i + 1] = float(record[i + 1]) / height\n",
        "\n",
        "normalize(ur_data, 640, 240)\n",
        "normalize(mc_fall_data, 720, 480)\n",
        "normalize(mc_notfall_data, 720, 480)\n",
        "normalize(youtube_fall_data, 640, 360)\n",
        "normalize(youtube_notfall_data, 640, 360)\n"
      ],
      "metadata": {
        "id": "M0q1f90N1rfY"
      },
      "execution_count": 9,
      "outputs": []
    },
    {
      "cell_type": "code",
      "source": [
        "print(ur_data[0])\n",
        "print(len(ur_data[0]))\n",
        "print(mc_fall_data[0])\n",
        "print(mc_notfall_data[0])\n",
        "print(youtube_fall_data[0])\n",
        "print(youtube_notfall_data[0])"
      ],
      "metadata": {
        "colab": {
          "base_uri": "https://localhost:8080/"
        },
        "id": "FyY7Xcjt1u6s",
        "outputId": "649d2343-7701-4700-e382-babbe7e4b38f"
      },
      "execution_count": 10,
      "outputs": [
        {
          "output_type": "stream",
          "name": "stdout",
          "text": [
            "[0.81401875, 0.534075, '0.833728', 0.8508921875000001, 0.544925, '0.739747', 0.8447437499999999, 0.5531416666666666, '0.726633', 0.864196875, 0.6458291666666667, '0.800764', 0.8457578124999999, 0.6923125, '0.742877', 0.8580375, 0.5394458333333334, '0.745059', 0.8948484375, 0.6459791666666667, '0.841464', 0.848853125, 0.7140375, '0.817947', 0.8938546875, 0.7058958333333333, '0.607432', 0.882615625, 0.6923333333333334, '0.534525', 0.8232421875, 0.7549625, '0.862423', 0.8662328125000001, 0.9077125, '0.612664', 0.903065625, 0.7113833333333334, '0.619415', 0.8365656250000001, 0.7849916666666666, '0.760066', 0.87544375, 0.9186625, '0.65847', 0.8529406249999999, 0.9677749999999999, '0.604373', 0.864184375, 0.9704791666666667, '0.532739', 0.8846624999999999, 0.9268875, '0.655722', 0.8467796875, 0.954175, '0.399536', 0.8467859375, 0.9486958333333334, '0.344383', 0.8754453124999999, 0.9050958333333334, '0.153482', 'fall-16-cam0_000000000016_keypoints']\n",
            "64\n",
            "[0.7002375, 0.49587291666666666, '0.119379', 0.6694375, 0.49578958333333334, '0.647555', 0.65495, 0.5148041666666666, '0.6547', 0.6748861111111111, 0.6236125, '0.780827', 0.7292222222222222, 0.6399125, '0.770417', 0.68755, 0.4767604166666667, '0.474206', 0.7220319444444445, 0.46040625, '0.283234', 0.7491805555555555, 0.44688541666666665, '0.246275', 0.6640222222222222, 0.5746729166666668, '0.378863', 0.6585777777777777, 0.5936812499999999, '0.370422', 0.7347027777777778, 0.5773291666666667, '0.213783', 0.0, 0.0, '0.0', 0.6749083333333333, 0.5557104166666667, '0.363281', 0.7184597222222223, 0.5393479166666667, '0.198486', 0.7364902777777778, 0.571925, '0.0747612', 0.7528194444444444, 0.5773458333333333, '0.114463', 0.7491902777777778, 0.577325, '0.0888912', 0.7401375, 0.5718479166666667, '0.0731438', 0.0, 0.0, '0.0', 0.0, 0.0, '0.0', 0.0, 0.0, '0.0', '55_000000000000_keypoints']\n",
            "[0.8942416666666667, 0.3626833333333333, '0.796968', 0.9068222222222223, 0.42230416666666665, '0.916605', 0.8796694444444444, 0.4005666666666666, '0.886062', 0.8469875, 0.4468083333333333, '0.928492', 0.8054208333333334, 0.4904083333333333, '0.884458', 0.9340152777777777, 0.44408333333333333, '0.871428', 0.9232458333333333, 0.5283979166666667, '0.843892', 0.9069791666666667, 0.5936270833333332, '0.864034', 0.8688083333333334, 0.5366833333333333, '0.738263', 0.8507625, 0.5284770833333333, '0.758785', 0.8362208333333333, 0.6182604166666666, '0.733292', 0.8198319444444444, 0.6888854166666667, '0.457905', 0.8851069444444445, 0.5529499999999999, '0.734225', 0.8416027777777777, 0.6317375, '0.712669', 0.7872569444444445, 0.7106750000000001, '0.72449', 0.7619055555555556, 0.7295750000000001, '0.637416', 0.7744916666666667, 0.7350125, '0.630046', 0.7800305555555554, 0.7268291666666666, '0.52683', 0.0, 0.0, '0.0', 0.0, 0.0, '0.0', 0.8199541666666667, 0.7023875, '0.274113', '60_000000000000_keypoints']\n",
            "[0.0, 0.0, '0.0', 0.5372640625, 0.18339527777777778, '0.188148', 0.5586609375, 0.1807363888888889, '0.218538', 0.5678124999999999, 0.24587916666666665, '0.191749', 0.5815890625, 0.2922138888888889, '0.108987', 0.518934375, 0.18341083333333333, '0.150296', 0.0, 0.0, '0.0', 0.0, 0.0, '0.0', 0.50976875, 0.3192888888888889, '0.284664', 0.529628125, 0.322025, '0.30854', 0.5434140625, 0.3817722222222222, '0.560074', 0.5372484375, 0.4688388888888889, '0.551124', 0.48836562499999997, 0.31114722222222224, '0.206529', 0.4975015625, 0.3709055555555556, '0.458152', 0.473065625, 0.4415833333333333, '0.660171', 0.4959546875, 0.4741861111111111, '0.600659', 0.49290781250000004, 0.46878055555555553, '0.53913', 0.463890625, 0.44433055555555556, '0.631556', 0.546428125, 0.4850305555555555, '0.319546', 0.5449234374999999, 0.4878166666666667, '0.397619', 0.5326593749999999, 0.48768888888888895, '0.545259', '20_000000000000_keypoints']\n",
            "[0.199503125, 0.09911611111111111, '0.86715', 0.251484375, 0.17260777777777778, '0.695363', 0.274359375, 0.15902666666666668, '0.554826', 0.0, 0.0, '0.0', 0.0, 0.0, '0.0', 0.233115625, 0.18607166666666666, '0.726184', 0.248353125, 0.3736638888888889, '0.703452', 0.21784374999999997, 0.5150111111111111, '0.765717', 0.2789796875, 0.4959, '0.46768', 0.2988296875, 0.4931888888888889, '0.420402', 0.2912234375, 0.6725666666666666, '0.614888', 0.3109828125, 0.8383611111111111, '0.717645', 0.26368281250000003, 0.4986166666666667, '0.463228', 0.237721875, 0.6888833333333333, '0.627453', 0.20560625, 0.8628083333333333, '0.561644', 0.162775, 0.8437472222222223, '0.359979', 0.16741250000000002, 0.8573444444444445, '0.370667', 0.20712812500000002, 0.8980472222222223, '0.445868', 0.2529640625, 0.8735638888888889, '0.600495', 0.2590953125, 0.8655027777777778, '0.493078', 0.32173124999999997, 0.8599722222222221, '0.598985', '7_000000000000_keypoints']\n"
          ]
        }
      ]
    },
    {
      "cell_type": "code",
      "source": [
        "# read target label of UR dataset.\n",
        "\n",
        "target = []\n",
        "path1 = '/content/drive/My Drive/final_project/target_ur/urfall-cam0-falls.csv'\n",
        "path2 = '/content/drive/My Drive/final_project/target_ur/urfall-cam0-adls.csv'\n",
        "# in these csv of UR dataset, \n",
        "# '-1' means person is not lying, '1' means person is lying on the ground; '0' is temporary pose, when person \"is falling\"\n",
        "\n",
        "def input_fall(path):\n",
        "  with open(path, mode='r') as csv_file:\n",
        "    reader = csv.reader(csv_file)\n",
        "    for row in reader:\n",
        "      record = []\n",
        "      record.append(row[0])\n",
        "      record.append(row[1])\n",
        "      label = row[2]\n",
        "      if label == '1' or label == '0':\n",
        "        record.append(1)        \n",
        "      else:\n",
        "        record.append(0)\n",
        "      # each record: [<video_id>, <frame_id>, label], eg: ['fall-17', '22', 0] \n",
        "      target.append(record)\n",
        "\n",
        "# though laying in the video, but it is not fall, so I mark 0 as label\n",
        "def input_adl(path):\n",
        "  with open(path, mode='r') as csv_file:\n",
        "    reader = csv.reader(csv_file)\n",
        "    for row in reader:\n",
        "      record = []\n",
        "      record.append(row[0])\n",
        "      record.append(row[1])\n",
        "      record.append(0)\n",
        "      target.append(record)\n",
        "\n",
        "input_fall(path1)\n",
        "print(\"falls of UR dataset\", len(target))\n",
        "\n",
        "input_adl(path2)\n",
        "\n",
        "df = pd.DataFrame.from_records(target)\n",
        "df.to_csv (r'/content/drive/My Drive/final_project/target/target_data.csv', index = False, header=False) #target_data.csv\n"
      ],
      "metadata": {
        "colab": {
          "base_uri": "https://localhost:8080/"
        },
        "id": "wW8G5ztW1wgM",
        "outputId": "bd9a7e7f-7cec-4e05-d006-624622d3fe4a"
      },
      "execution_count": 11,
      "outputs": [
        {
          "output_type": "stream",
          "name": "stdout",
          "text": [
            "falls of UR dataset 2995\n"
          ]
        }
      ]
    },
    {
      "cell_type": "code",
      "source": [
        "# make dictionary of target of ur dataset\n",
        "target_csv_path = '/content/drive/My Drive/final_project/target/target_data.csv'\n",
        "idx = 0\n",
        "idx_dict = {}\n",
        "\n",
        "with open(target_csv_path, mode='r') as csv_file:\n",
        "  reader = csv.reader(csv_file)\n",
        "  for row in reader:\n",
        "    # each row: [<video_id>, <frame_id>, label], eg: ['fall-17', '22', 0] \n",
        "    idx_dict['.'.join(row[:2])] = idx  # {'fall-17.22' : 112}\n",
        "    idx += 1"
      ],
      "metadata": {
        "id": "bwRTQSNk2jvH"
      },
      "execution_count": 12,
      "outputs": []
    },
    {
      "cell_type": "code",
      "source": [
        "# match body landmark data with label data of ur dataset\n",
        "bodylandmark = []\n",
        "label = []\n",
        "frame_name = []\n",
        "\n",
        "for landmark in ur_data:\n",
        "  video_name = landmark[-1].split('_')  # 'fall-01-cam0_000000000004'\n",
        "  a = video_name[0].split('-')\n",
        "  video_type = a[0] # 'fall'\n",
        "  video_id = a[1]   # '01'\n",
        "  frame_id = str(int(video_name[1])) # '000000000004' become '4'\n",
        "  try:\n",
        "    a = '.'.join([video_id, frame_id])\n",
        "    b = '-'.join([video_type, a])\n",
        "    label.append(target[idx_dict[b]][-1])\n",
        "    bl = landmark[:-1]\n",
        "    # convert string into float\n",
        "    bl = list(map(float,bl))\n",
        "    bodylandmark.append(bl)\n",
        "    frameName = landmark[-1]\n",
        "    frame_name.append(frameName)\n",
        "  except:\n",
        "    continue\n",
        "\n",
        "print(\"bodylandmark record sample of ur dataset:\" )\n",
        "print(bodylandmark[0])\n",
        "print(\"label of ur dataset: \", len(label))\n",
        "print(\"bodylandmark of ur dataset: \", len(bodylandmark))\n",
        "print(frame_name[0])"
      ],
      "metadata": {
        "colab": {
          "base_uri": "https://localhost:8080/"
        },
        "id": "GW3VZwml2ydQ",
        "outputId": "e24dd7aa-f964-476b-f88d-4441e9ef6d58"
      },
      "execution_count": 13,
      "outputs": [
        {
          "output_type": "stream",
          "name": "stdout",
          "text": [
            "bodylandmark record sample of ur dataset:\n",
            "[0.81401875, 0.534075, 0.833728, 0.8508921875000001, 0.544925, 0.739747, 0.8447437499999999, 0.5531416666666666, 0.726633, 0.864196875, 0.6458291666666667, 0.800764, 0.8457578124999999, 0.6923125, 0.742877, 0.8580375, 0.5394458333333334, 0.745059, 0.8948484375, 0.6459791666666667, 0.841464, 0.848853125, 0.7140375, 0.817947, 0.8938546875, 0.7058958333333333, 0.607432, 0.882615625, 0.6923333333333334, 0.534525, 0.8232421875, 0.7549625, 0.862423, 0.8662328125000001, 0.9077125, 0.612664, 0.903065625, 0.7113833333333334, 0.619415, 0.8365656250000001, 0.7849916666666666, 0.760066, 0.87544375, 0.9186625, 0.65847, 0.8529406249999999, 0.9677749999999999, 0.604373, 0.864184375, 0.9704791666666667, 0.532739, 0.8846624999999999, 0.9268875, 0.655722, 0.8467796875, 0.954175, 0.399536, 0.8467859375, 0.9486958333333334, 0.344383, 0.8754453124999999, 0.9050958333333334, 0.153482]\n",
            "label of ur dataset:  11475\n",
            "bodylandmark of ur dataset:  11475\n",
            "fall-16-cam0_000000000016_keypoints\n"
          ]
        }
      ]
    },
    {
      "cell_type": "code",
      "source": [
        "# add data of MC dataset to the whole dataset\n",
        "# For MC dataset, all frames in fall data should be label 1, \n",
        "# and all frames in notfall data should be label 0.\n",
        "for record in mc_fall_data:\n",
        "  bl = record[:-1]\n",
        "  bl = list(map(float,bl))\n",
        "  bodylandmark.append(bl)\n",
        "  label.append(1)\n",
        "  frameName = record[-1]\n",
        "  frame_name.append(frameName)\n",
        "\n",
        "for record in mc_notfall_data:\n",
        "  bl = record[:-1]\n",
        "  bl = list(map(float,bl))\n",
        "  bodylandmark.append(bl)\n",
        "  label.append(0)\n",
        "  frameName = record[-1]\n",
        "  frame_name.append(frameName)\n"
      ],
      "metadata": {
        "id": "6HEWr-gH2-f-"
      },
      "execution_count": 14,
      "outputs": []
    },
    {
      "cell_type": "code",
      "source": [
        "# add data of youtube dataset to the whole dataset\n",
        "# For youtube dataset, all frames in fall data should be label 1, \n",
        "# and all frames in notfall data should be label 0.\n",
        "for record in youtube_fall_data:\n",
        "  bl = record[:-1]\n",
        "  bl = list(map(float,bl))\n",
        "  bodylandmark.append(bl)\n",
        "  label.append(1)\n",
        "  frameName = record[-1]\n",
        "  frame_name.append(frameName)\n",
        "\n",
        "for record in youtube_notfall_data:\n",
        "  bl = record[:-1]\n",
        "  bl = list(map(float,bl))\n",
        "  bodylandmark.append(bl)\n",
        "  label.append(0)\n",
        "  frameName = record[-1]\n",
        "  frame_name.append(frameName)\n"
      ],
      "metadata": {
        "id": "RI1lxf0c3COE"
      },
      "execution_count": 15,
      "outputs": []
    },
    {
      "cell_type": "code",
      "source": [
        "# make bodylandmark and label to be a same data frame\n",
        "all_data = []\n",
        "\n",
        "for i in range(len(bodylandmark)):\n",
        "  all_data.append([label[i]])\n",
        "  all_data[i] = all_data[i] + bodylandmark[i]\n",
        "\n",
        "print(all_data[0])\n",
        "print(len(all_data))\n",
        "print(len(all_data[0]))"
      ],
      "metadata": {
        "colab": {
          "base_uri": "https://localhost:8080/"
        },
        "id": "Q8phNek73HSX",
        "outputId": "031760b2-16c3-4cf2-fbf0-1ab9b9ac5972"
      },
      "execution_count": 16,
      "outputs": [
        {
          "output_type": "stream",
          "name": "stdout",
          "text": [
            "[0, 0.81401875, 0.534075, 0.833728, 0.8508921875000001, 0.544925, 0.739747, 0.8447437499999999, 0.5531416666666666, 0.726633, 0.864196875, 0.6458291666666667, 0.800764, 0.8457578124999999, 0.6923125, 0.742877, 0.8580375, 0.5394458333333334, 0.745059, 0.8948484375, 0.6459791666666667, 0.841464, 0.848853125, 0.7140375, 0.817947, 0.8938546875, 0.7058958333333333, 0.607432, 0.882615625, 0.6923333333333334, 0.534525, 0.8232421875, 0.7549625, 0.862423, 0.8662328125000001, 0.9077125, 0.612664, 0.903065625, 0.7113833333333334, 0.619415, 0.8365656250000001, 0.7849916666666666, 0.760066, 0.87544375, 0.9186625, 0.65847, 0.8529406249999999, 0.9677749999999999, 0.604373, 0.864184375, 0.9704791666666667, 0.532739, 0.8846624999999999, 0.9268875, 0.655722, 0.8467796875, 0.954175, 0.399536, 0.8467859375, 0.9486958333333334, 0.344383, 0.8754453124999999, 0.9050958333333334, 0.153482]\n",
            "35279\n",
            "64\n"
          ]
        }
      ]
    },
    {
      "cell_type": "code",
      "source": [
        "# know the majority and minority\n",
        "fall = label.count(1)\n",
        "not_fall = label.count(0)\n",
        "print(fall)\n",
        "print(not_fall)"
      ],
      "metadata": {
        "colab": {
          "base_uri": "https://localhost:8080/"
        },
        "id": "R0DjUSYl3KNo",
        "outputId": "37aca769-d711-4399-eeef-f9cba849fb4b"
      },
      "execution_count": 17,
      "outputs": [
        {
          "output_type": "stream",
          "name": "stdout",
          "text": [
            "13128\n",
            "22151\n"
          ]
        }
      ]
    },
    {
      "cell_type": "code",
      "source": [
        "# up-sampling to make the data balance\n",
        "# Separate majority and minority classes\n",
        "df = pd.DataFrame.from_records(all_data)\n",
        "header = ['label']\n",
        "for i in range(63):\n",
        "  header.append(i)\n",
        "\n",
        "df.columns = header\n",
        "df_majority = df[df.label==0]\n",
        "df_minority = df[df.label==1]\n",
        "print(\"before re-sampling, not fall vs fall: \")\n",
        "print(df['label'].value_counts())\n",
        "\n",
        "from sklearn.utils import resample\n",
        "print(\"begin to re sample...\")\n",
        "# Upsample minority class\n",
        "df_minority_upsampled = resample(df_minority, \n",
        "                                 replace=True,      # sample with replacement\n",
        "                                 n_samples=not_fall)    # to match majority class\n",
        "                                  \n",
        "# Combine majority class with upsampled minority class\n",
        "df_upsampled = pd.concat([df_majority, df_minority_upsampled])\n",
        " \n",
        "print(\"after re-sampling...\")\n",
        "# Display new class counts\n",
        "df_upsampled.label.value_counts()"
      ],
      "metadata": {
        "colab": {
          "base_uri": "https://localhost:8080/"
        },
        "id": "jryJ2GBM3Mqk",
        "outputId": "e8bddc01-c22b-48da-9f9b-6954f5fec541"
      },
      "execution_count": 18,
      "outputs": [
        {
          "output_type": "stream",
          "name": "stdout",
          "text": [
            "before re-sampling, not fall vs fall: \n",
            "0    22151\n",
            "1    13128\n",
            "Name: label, dtype: int64\n",
            "begin to re sample...\n",
            "after re-sampling...\n"
          ]
        },
        {
          "output_type": "execute_result",
          "data": {
            "text/plain": [
              "0    22151\n",
              "1    22151\n",
              "Name: label, dtype: int64"
            ]
          },
          "metadata": {},
          "execution_count": 18
        }
      ]
    },
    {
      "cell_type": "code",
      "source": [
        "all_data = df_upsampled.values\n",
        "\n",
        "print(all_data[0])\n",
        "print(len(all_data[0]))\n",
        "print(\"number of all data:\", len(all_data))"
      ],
      "metadata": {
        "colab": {
          "base_uri": "https://localhost:8080/"
        },
        "id": "cJMESK9u3PKl",
        "outputId": "a12c5d3c-d6fb-4dea-8c4c-71fafe71fcb1"
      },
      "execution_count": 19,
      "outputs": [
        {
          "output_type": "stream",
          "name": "stdout",
          "text": [
            "[0.         0.81401875 0.534075   0.833728   0.85089219 0.544925\n",
            " 0.739747   0.84474375 0.55314167 0.726633   0.86419687 0.64582917\n",
            " 0.800764   0.84575781 0.6923125  0.742877   0.8580375  0.53944583\n",
            " 0.745059   0.89484844 0.64597917 0.841464   0.84885312 0.7140375\n",
            " 0.817947   0.89385469 0.70589583 0.607432   0.88261563 0.69233333\n",
            " 0.534525   0.82324219 0.7549625  0.862423   0.86623281 0.9077125\n",
            " 0.612664   0.90306562 0.71138333 0.619415   0.83656563 0.78499167\n",
            " 0.760066   0.87544375 0.9186625  0.65847    0.85294062 0.967775\n",
            " 0.604373   0.86418438 0.97047917 0.532739   0.8846625  0.9268875\n",
            " 0.655722   0.84677969 0.954175   0.399536   0.84678594 0.94869583\n",
            " 0.344383   0.87544531 0.90509583 0.153482  ]\n",
            "64\n",
            "number of all data: 44302\n"
          ]
        }
      ]
    },
    {
      "cell_type": "code",
      "source": [
        "# split data into train and test set\n",
        "np.random.shuffle(all_data)\n",
        "split_point = len(all_data) // 9\n",
        "print(\"split point:\", split_point)\n",
        "test_data = all_data[:split_point]\n",
        "train_data = all_data[split_point: ]\n",
        "\n",
        "print(\"number of test data:\", len(test_data))\n",
        "print(\"number of train data:\",len(train_data))\n",
        "\n",
        "print(train_data[0])"
      ],
      "metadata": {
        "colab": {
          "base_uri": "https://localhost:8080/"
        },
        "id": "i2W1O3NR3UKe",
        "outputId": "ed7ae29d-8be3-42ad-85cc-31a0a5ddbdae"
      },
      "execution_count": 20,
      "outputs": [
        {
          "output_type": "stream",
          "name": "stdout",
          "text": [
            "split point: 4922\n",
            "number of test data: 4922\n",
            "number of train data: 39380\n",
            "[1.         0.74015417 0.45234167 0.0805455  0.7039125  0.43873333\n",
            " 0.24118    0.71477361 0.42243542 0.265461   0.         0.\n",
            " 0.         0.         0.         0.         0.         0.\n",
            " 0.         0.         0.         0.         0.         0.\n",
            " 0.         0.58790417 0.42231667 0.356718   0.58610417 0.41968333\n",
            " 0.217735   0.50998472 0.42515417 0.140081   0.44296389 0.46875208\n",
            " 0.0604429  0.58067639 0.41426667 0.431536   0.49543611 0.4170125\n",
            " 0.712621   0.44103889 0.46861458 0.806859   0.41388333 0.44681458\n",
            " 0.670624   0.41398056 0.455075   0.641098   0.43745139 0.48497917\n",
            " 0.649837   0.         0.         0.         0.         0.\n",
            " 0.         0.         0.         0.        ]\n"
          ]
        }
      ]
    },
    {
      "cell_type": "code",
      "source": [
        "print(len(train_data))\n",
        "print(len(train_data[0]))\n",
        "\n",
        "# new_data = train_data[:,:4]+train_data[:,7:25]"
      ],
      "metadata": {
        "id": "H_8M6zN63_bt",
        "colab": {
          "base_uri": "https://localhost:8080/"
        },
        "outputId": "056a0bd2-041f-44f9-9e39-8fbfc717a48b"
      },
      "execution_count": 21,
      "outputs": [
        {
          "output_type": "stream",
          "name": "stdout",
          "text": [
            "39380\n",
            "64\n"
          ]
        }
      ]
    },
    {
      "cell_type": "markdown",
      "source": [
        "#grouping_important_features"
      ],
      "metadata": {
        "id": "8_jbw-ZOhPOU"
      }
    },
    {
      "cell_type": "code",
      "source": [
        "first = train_data[:,:4]\n",
        "len(first[0])\n",
        "print(first.shape)"
      ],
      "metadata": {
        "colab": {
          "base_uri": "https://localhost:8080/"
        },
        "id": "MEVQoG6vLGnZ",
        "outputId": "25fd1d01-e133-412d-e7a0-5c4038930ecc"
      },
      "execution_count": 22,
      "outputs": [
        {
          "output_type": "stream",
          "name": "stdout",
          "text": [
            "(39380, 4)\n"
          ]
        }
      ]
    },
    {
      "cell_type": "code",
      "source": [
        "second = train_data[:,7:25]\n",
        "len(second[0])"
      ],
      "metadata": {
        "colab": {
          "base_uri": "https://localhost:8080/"
        },
        "id": "TKfV-nlaMOVf",
        "outputId": "f8d23307-1d21-47bc-bd74-ccc4c1dc9c44"
      },
      "execution_count": 23,
      "outputs": [
        {
          "output_type": "execute_result",
          "data": {
            "text/plain": [
              "18"
            ]
          },
          "metadata": {},
          "execution_count": 23
        }
      ]
    },
    {
      "cell_type": "code",
      "source": [
        "third = train_data[:,28:49]\n",
        "len(third[0])"
      ],
      "metadata": {
        "colab": {
          "base_uri": "https://localhost:8080/"
        },
        "id": "hPXqNI4MMnK4",
        "outputId": "987c3759-1bf7-468d-c23c-42db14bf7653"
      },
      "execution_count": 24,
      "outputs": [
        {
          "output_type": "execute_result",
          "data": {
            "text/plain": [
              "21"
            ]
          },
          "metadata": {},
          "execution_count": 24
        }
      ]
    },
    {
      "cell_type": "code",
      "source": [
        "fourth = train_data[:,52:58]\n",
        "len(fourth[0])"
      ],
      "metadata": {
        "colab": {
          "base_uri": "https://localhost:8080/"
        },
        "id": "H7zi3RMqM4z5",
        "outputId": "fa86dd3f-5724-4178-e580-fadb1c6296f4"
      },
      "execution_count": 25,
      "outputs": [
        {
          "output_type": "execute_result",
          "data": {
            "text/plain": [
              "6"
            ]
          },
          "metadata": {},
          "execution_count": 25
        }
      ]
    },
    {
      "cell_type": "code",
      "source": [
        "fifth = train_data[:,61:64]\n",
        "len(fifth[0])"
      ],
      "metadata": {
        "colab": {
          "base_uri": "https://localhost:8080/"
        },
        "id": "frfMnv9ONHM3",
        "outputId": "d1a741c1-4274-4b1c-f757-d65cfdf49fef"
      },
      "execution_count": 26,
      "outputs": [
        {
          "output_type": "execute_result",
          "data": {
            "text/plain": [
              "3"
            ]
          },
          "metadata": {},
          "execution_count": 26
        }
      ]
    },
    {
      "cell_type": "code",
      "source": [
        "import numpy as np\n",
        "\n",
        "# assume train_data is your 2D list of size (39380,64)\n",
        "selected_cols = np.concatenate((train_data[:, :4], train_data[:, 7:25], train_data[:, 28:49], train_data[:, 52:58], train_data[:, 61:64]), axis=1)\n"
      ],
      "metadata": {
        "id": "eNQ7jHKRUdic"
      },
      "execution_count": 27,
      "outputs": []
    },
    {
      "cell_type": "code",
      "source": [
        "# # assume train_data is your 2D list of size (39380,64)\n",
        "# selected_cols = train_data[:, :4] + train_data[:, 7:25] + train_data[:, 28:49] + train_data[:, 52:58] + train_data[:, 61:64]"
      ],
      "metadata": {
        "id": "z0PmlZULUG3E"
      },
      "execution_count": 28,
      "outputs": []
    },
    {
      "cell_type": "code",
      "source": [
        "# train_data = []\n",
        "# train_data = [row1+row2 for row1,row2 in zip(first,second) ]"
      ],
      "metadata": {
        "id": "d_pCW-trRDID"
      },
      "execution_count": 29,
      "outputs": []
    },
    {
      "cell_type": "code",
      "source": [
        "# # concatenate the two lists\n",
        "# train_data = []\n",
        "# concatenated_list = []\n",
        "# for i in range(len(first)):\n",
        "#     train_data.append(first[i] + second[i] + third[i] + fourth[i] + fifth[i])\n",
        "\n",
        "# # print the concatenated list\n",
        "# print(len(train_data))\n",
        "# print(len(train_data[0]))"
      ],
      "metadata": {
        "id": "qGQ7dGd9O8WV"
      },
      "execution_count": 30,
      "outputs": []
    },
    {
      "cell_type": "code",
      "source": [
        "print(len(selected_cols))\n",
        "print(len(selected_cols[0]))"
      ],
      "metadata": {
        "colab": {
          "base_uri": "https://localhost:8080/"
        },
        "id": "rgYvraLrUjr3",
        "outputId": "59ccb9da-06f3-4566-fc61-5d6b0e98b438"
      },
      "execution_count": 31,
      "outputs": [
        {
          "output_type": "stream",
          "name": "stdout",
          "text": [
            "39380\n",
            "52\n"
          ]
        }
      ]
    },
    {
      "cell_type": "code",
      "source": [
        "# train_data = first + second +third +fourth +fifth`\n",
        "# print(len(train_data[0]))\n",
        "# print(len(train_data))\n",
        "# train_data"
      ],
      "metadata": {
        "id": "yOpQgfacJEVF"
      },
      "execution_count": 32,
      "outputs": []
    },
    {
      "cell_type": "code",
      "source": [
        "train_data = []\n",
        "train_data = selected_cols"
      ],
      "metadata": {
        "id": "bufDx1axVqRC"
      },
      "execution_count": 33,
      "outputs": []
    },
    {
      "cell_type": "code",
      "source": [
        "print(len(train_data[0]))\n",
        "print(len(train_data))"
      ],
      "metadata": {
        "colab": {
          "base_uri": "https://localhost:8080/"
        },
        "id": "x2UyaHTKVv8p",
        "outputId": "d413a12a-4ddb-4878-96f9-3337be68b2ec"
      },
      "execution_count": 34,
      "outputs": [
        {
          "output_type": "stream",
          "name": "stdout",
          "text": [
            "52\n",
            "39380\n"
          ]
        }
      ]
    },
    {
      "cell_type": "code",
      "source": [
        "# solution 1: train model using lstm\n",
        "from tensorflow.keras.layers import LSTM\n",
        "from tensorflow.keras import callbacks\n",
        "from tensorflow.keras import layers\n",
        "from numpy import array\n",
        "from tensorflow.keras.models import Sequential\n",
        "\n",
        "def scheduler(epoch):\n",
        "  if epoch < 10:\n",
        "    return 0.001\n",
        "  else:\n",
        "    return 0.001 * np.exp(0.1 * (10 - epoch))\n",
        "  \n",
        "x_train = []\n",
        "y_train = []\n",
        "\n",
        "for record in train_data:\n",
        "  x_train.append(record[1:]) # [x,63] size x is 39380\n",
        "  label = int(record[0])\n",
        "  y_train.append(label) \n",
        "\n",
        "def train_lstm_model(x_train, y_train):\n",
        "  x_train = array(x_train)\n",
        "  x_train = x_train.reshape((len(x_train), 1, len(x_train[0])))\n",
        "  print(\"x_train.shape\", x_train.shape)\n",
        "  print(x_train[0])\n",
        "\n",
        "  y_train = array(y_train)\n",
        "  print(\"y_train.shape\", y_train.shape)\n",
        "\n",
        "  # imrpove log: use batch size 16 and add one more lstm layer\n",
        "\n",
        "  lstm_model = Sequential()\n",
        "  lstm_model.add(LSTM(16, \n",
        "                input_shape=(1, 51),#62\n",
        "                return_sequences=True))\n",
        "  lstm_model.add(LSTM(16, ))\n",
        "  lstm_model.add(layers.Dense(1, activation='sigmoid'))\n",
        "  lstm_model.compile(optimizer='rmsprop',\n",
        "                loss='binary_crossentropy',\n",
        "                metrics=['acc',\n",
        "                        metrics.AUC(), \n",
        "                        metrics.FalseNegatives(),\n",
        "                        metrics.Recall(),\n",
        "                        metrics.Precision(),\n",
        "                        metrics.FalseNegatives(),\n",
        "                        metrics.TrueNegatives(),\n",
        "                        metrics.FalsePositives(),\n",
        "                        metrics.TruePositives()])\n",
        "  lstm_history = lstm_model.fit(x_train, y_train,\n",
        "                      epochs=100,\n",
        "                      batch_size=16,\n",
        "                      validation_split=0.2,\n",
        "                      callbacks=[callbacks.EarlyStopping(monitor='val_loss', patience=5),\n",
        "                      callbacks.LearningRateScheduler(scheduler)])\n",
        "  print(\"finish training lstm model\")\n",
        "  return lstm_model, lstm_history\n",
        "\n",
        "lstm_model, lstm_history = train_lstm_model(x_train, y_train)"
      ],
      "metadata": {
        "id": "b4jTicFy3XRu",
        "colab": {
          "base_uri": "https://localhost:8080/"
        },
        "outputId": "951cf6cc-d20d-4248-85d6-4d7186dc5422"
      },
      "execution_count": 35,
      "outputs": [
        {
          "output_type": "stream",
          "name": "stdout",
          "text": [
            "x_train.shape (39380, 1, 51)\n",
            "[[0.74015417 0.45234167 0.0805455  0.71477361 0.42243542 0.265461\n",
            "  0.         0.         0.         0.         0.         0.\n",
            "  0.         0.         0.         0.         0.         0.\n",
            "  0.         0.         0.         0.58610417 0.41968333 0.217735\n",
            "  0.50998472 0.42515417 0.140081   0.44296389 0.46875208 0.0604429\n",
            "  0.58067639 0.41426667 0.431536   0.49543611 0.4170125  0.712621\n",
            "  0.44103889 0.46861458 0.806859   0.41388333 0.44681458 0.670624\n",
            "  0.43745139 0.48497917 0.649837   0.         0.         0.\n",
            "  0.         0.         0.        ]]\n",
            "y_train.shape (39380,)\n",
            "Epoch 1/100\n",
            "1969/1969 [==============================] - 32s 8ms/step - loss: 0.4269 - acc: 0.7991 - auc: 0.8822 - false_negatives: 2474.0000 - recall: 0.8422 - precision: 0.7740 - false_negatives_1: 2474.0000 - true_negatives: 11974.0000 - false_positives: 3854.0000 - true_positives: 13202.0000 - val_loss: 0.3386 - val_acc: 0.8490 - val_auc: 0.9326 - val_false_negatives: 280.0000 - val_recall: 0.9294 - val_precision: 0.8023 - val_false_negatives_1: 280.0000 - val_true_negatives: 2999.0000 - val_false_positives: 909.0000 - val_true_positives: 3688.0000 - lr: 0.0010\n",
            "Epoch 2/100\n",
            "1969/1969 [==============================] - 14s 7ms/step - loss: 0.3225 - acc: 0.8588 - auc: 0.9379 - false_negatives: 1180.0000 - recall: 0.9247 - precision: 0.8161 - false_negatives_1: 1180.0000 - true_negatives: 12561.0000 - false_positives: 3267.0000 - true_positives: 14496.0000 - val_loss: 0.2938 - val_acc: 0.8814 - val_auc: 0.9473 - val_false_negatives: 312.0000 - val_recall: 0.9214 - val_precision: 0.8546 - val_false_negatives_1: 312.0000 - val_true_negatives: 3286.0000 - val_false_positives: 622.0000 - val_true_positives: 3656.0000 - lr: 0.0010\n",
            "Epoch 3/100\n",
            "1969/1969 [==============================] - 14s 7ms/step - loss: 0.2922 - acc: 0.8845 - auc: 0.9488 - false_negatives: 1134.0000 - recall: 0.9277 - precision: 0.8530 - false_negatives_1: 1134.0000 - true_negatives: 13322.0000 - false_positives: 2506.0000 - true_positives: 14542.0000 - val_loss: 0.3049 - val_acc: 0.8735 - val_auc: 0.9499 - val_false_negatives: 589.0000 - val_recall: 0.8516 - val_precision: 0.8925 - val_false_negatives_1: 589.0000 - val_true_negatives: 3501.0000 - val_false_positives: 407.0000 - val_true_positives: 3379.0000 - lr: 0.0010\n",
            "Epoch 4/100\n",
            "1969/1969 [==============================] - 14s 7ms/step - loss: 0.2707 - acc: 0.8948 - auc: 0.9557 - false_negatives: 1124.0000 - recall: 0.9283 - precision: 0.8691 - false_negatives_1: 1124.0000 - true_negatives: 13637.0000 - false_positives: 2191.0000 - true_positives: 14552.0000 - val_loss: 0.2495 - val_acc: 0.9019 - val_auc: 0.9630 - val_false_negatives: 232.0000 - val_recall: 0.9415 - val_precision: 0.8735 - val_false_negatives_1: 232.0000 - val_true_negatives: 3367.0000 - val_false_positives: 541.0000 - val_true_positives: 3736.0000 - lr: 0.0010\n",
            "Epoch 5/100\n",
            "1969/1969 [==============================] - 14s 7ms/step - loss: 0.2555 - acc: 0.9003 - auc: 0.9603 - false_negatives: 1104.0000 - recall: 0.9296 - precision: 0.8773 - false_negatives_1: 1104.0000 - true_negatives: 13790.0000 - false_positives: 2038.0000 - true_positives: 14572.0000 - val_loss: 0.2710 - val_acc: 0.8801 - val_auc: 0.9600 - val_false_negatives: 195.0000 - val_recall: 0.9509 - val_precision: 0.8344 - val_false_negatives_1: 195.0000 - val_true_negatives: 3159.0000 - val_false_positives: 749.0000 - val_true_positives: 3773.0000 - lr: 0.0010\n",
            "Epoch 6/100\n",
            "1969/1969 [==============================] - 13s 7ms/step - loss: 0.2445 - acc: 0.9049 - auc: 0.9634 - false_negatives: 1091.0000 - recall: 0.9304 - precision: 0.8845 - false_negatives_1: 1091.0000 - true_negatives: 13923.0000 - false_positives: 1905.0000 - true_positives: 14585.0000 - val_loss: 0.2273 - val_acc: 0.9107 - val_auc: 0.9687 - val_false_negatives: 208.0000 - val_recall: 0.9476 - val_precision: 0.8837 - val_false_negatives_1: 208.0000 - val_true_negatives: 3413.0000 - val_false_positives: 495.0000 - val_true_positives: 3760.0000 - lr: 0.0010\n",
            "Epoch 7/100\n",
            "1969/1969 [==============================] - 14s 7ms/step - loss: 0.2348 - acc: 0.9072 - auc: 0.9661 - false_negatives: 1091.0000 - recall: 0.9304 - precision: 0.8883 - false_negatives_1: 1091.0000 - true_negatives: 13994.0000 - false_positives: 1834.0000 - true_positives: 14585.0000 - val_loss: 0.2394 - val_acc: 0.9031 - val_auc: 0.9672 - val_false_negatives: 424.0000 - val_recall: 0.8931 - val_precision: 0.9127 - val_false_negatives_1: 424.0000 - val_true_negatives: 3569.0000 - val_false_positives: 339.0000 - val_true_positives: 3544.0000 - lr: 0.0010\n",
            "Epoch 8/100\n",
            "1969/1969 [==============================] - 15s 8ms/step - loss: 0.2275 - acc: 0.9097 - auc: 0.9679 - false_negatives: 1054.0000 - recall: 0.9328 - precision: 0.8909 - false_negatives_1: 1054.0000 - true_negatives: 14037.0000 - false_positives: 1791.0000 - true_positives: 14622.0000 - val_loss: 0.2102 - val_acc: 0.9180 - val_auc: 0.9724 - val_false_negatives: 255.0000 - val_recall: 0.9357 - val_precision: 0.9047 - val_false_negatives_1: 255.0000 - val_true_negatives: 3517.0000 - val_false_positives: 391.0000 - val_true_positives: 3713.0000 - lr: 0.0010\n",
            "Epoch 9/100\n",
            "1969/1969 [==============================] - 14s 7ms/step - loss: 0.2189 - acc: 0.9130 - auc: 0.9702 - false_negatives: 1017.0000 - recall: 0.9351 - precision: 0.8948 - false_negatives_1: 1017.0000 - true_negatives: 14104.0000 - false_positives: 1724.0000 - true_positives: 14659.0000 - val_loss: 0.2112 - val_acc: 0.9154 - val_auc: 0.9726 - val_false_negatives: 314.0000 - val_recall: 0.9209 - val_precision: 0.9121 - val_false_negatives_1: 314.0000 - val_true_negatives: 3556.0000 - val_false_positives: 352.0000 - val_true_positives: 3654.0000 - lr: 0.0010\n",
            "Epoch 10/100\n",
            "1969/1969 [==============================] - 15s 7ms/step - loss: 0.2140 - acc: 0.9161 - auc: 0.9709 - false_negatives: 985.0000 - recall: 0.9372 - precision: 0.8985 - false_negatives_1: 985.0000 - true_negatives: 14169.0000 - false_positives: 1659.0000 - true_positives: 14691.0000 - val_loss: 0.2017 - val_acc: 0.9180 - val_auc: 0.9747 - val_false_negatives: 214.0000 - val_recall: 0.9461 - val_precision: 0.8968 - val_false_negatives_1: 214.0000 - val_true_negatives: 3476.0000 - val_false_positives: 432.0000 - val_true_positives: 3754.0000 - lr: 0.0010\n",
            "Epoch 11/100\n",
            "1969/1969 [==============================] - 15s 7ms/step - loss: 0.2097 - acc: 0.9174 - auc: 0.9720 - false_negatives: 999.0000 - recall: 0.9363 - precision: 0.9016 - false_negatives_1: 999.0000 - true_negatives: 14226.0000 - false_positives: 1602.0000 - true_positives: 14677.0000 - val_loss: 0.1976 - val_acc: 0.9203 - val_auc: 0.9752 - val_false_negatives: 220.0000 - val_recall: 0.9446 - val_precision: 0.9018 - val_false_negatives_1: 220.0000 - val_true_negatives: 3500.0000 - val_false_positives: 408.0000 - val_true_positives: 3748.0000 - lr: 0.0010\n",
            "Epoch 12/100\n",
            "1969/1969 [==============================] - 14s 7ms/step - loss: 0.2030 - acc: 0.9212 - auc: 0.9736 - false_negatives: 948.0000 - recall: 0.9395 - precision: 0.9056 - false_negatives_1: 948.0000 - true_negatives: 14293.0000 - false_positives: 1535.0000 - true_positives: 14728.0000 - val_loss: 0.1924 - val_acc: 0.9241 - val_auc: 0.9761 - val_false_negatives: 207.0000 - val_recall: 0.9478 - val_precision: 0.9058 - val_false_negatives_1: 207.0000 - val_true_negatives: 3517.0000 - val_false_positives: 391.0000 - val_true_positives: 3761.0000 - lr: 9.0484e-04\n",
            "Epoch 13/100\n",
            "1969/1969 [==============================] - 15s 7ms/step - loss: 0.1990 - acc: 0.9208 - auc: 0.9746 - false_negatives: 951.0000 - recall: 0.9393 - precision: 0.9050 - false_negatives_1: 951.0000 - true_negatives: 14283.0000 - false_positives: 1545.0000 - true_positives: 14725.0000 - val_loss: 0.1886 - val_acc: 0.9233 - val_auc: 0.9770 - val_false_negatives: 246.0000 - val_recall: 0.9380 - val_precision: 0.9123 - val_false_negatives_1: 246.0000 - val_true_negatives: 3550.0000 - val_false_positives: 358.0000 - val_true_positives: 3722.0000 - lr: 8.1873e-04\n",
            "Epoch 14/100\n",
            "1969/1969 [==============================] - 14s 7ms/step - loss: 0.1948 - acc: 0.9227 - auc: 0.9757 - false_negatives: 931.0000 - recall: 0.9406 - precision: 0.9075 - false_negatives_1: 931.0000 - true_negatives: 14325.0000 - false_positives: 1503.0000 - true_positives: 14745.0000 - val_loss: 0.1890 - val_acc: 0.9241 - val_auc: 0.9772 - val_false_negatives: 185.0000 - val_recall: 0.9534 - val_precision: 0.9016 - val_false_negatives_1: 185.0000 - val_true_negatives: 3495.0000 - val_false_positives: 413.0000 - val_true_positives: 3783.0000 - lr: 7.4082e-04\n",
            "Epoch 15/100\n",
            "1969/1969 [==============================] - 14s 7ms/step - loss: 0.1913 - acc: 0.9241 - auc: 0.9762 - false_negatives: 913.0000 - recall: 0.9418 - precision: 0.9091 - false_negatives_1: 913.0000 - true_negatives: 14351.0000 - false_positives: 1477.0000 - true_positives: 14763.0000 - val_loss: 0.1850 - val_acc: 0.9256 - val_auc: 0.9788 - val_false_negatives: 274.0000 - val_recall: 0.9309 - val_precision: 0.9221 - val_false_negatives_1: 274.0000 - val_true_negatives: 3596.0000 - val_false_positives: 312.0000 - val_true_positives: 3694.0000 - lr: 6.7032e-04\n",
            "Epoch 16/100\n",
            "1969/1969 [==============================] - 14s 7ms/step - loss: 0.1874 - acc: 0.9270 - auc: 0.9774 - false_negatives: 878.0000 - recall: 0.9440 - precision: 0.9123 - false_negatives_1: 878.0000 - true_negatives: 14405.0000 - false_positives: 1423.0000 - true_positives: 14798.0000 - val_loss: 0.1856 - val_acc: 0.9253 - val_auc: 0.9788 - val_false_negatives: 278.0000 - val_recall: 0.9299 - val_precision: 0.9225 - val_false_negatives_1: 278.0000 - val_true_negatives: 3598.0000 - val_false_positives: 310.0000 - val_true_positives: 3690.0000 - lr: 6.0653e-04\n",
            "Epoch 17/100\n",
            "1969/1969 [==============================] - 15s 8ms/step - loss: 0.1854 - acc: 0.9275 - auc: 0.9776 - false_negatives: 884.0000 - recall: 0.9436 - precision: 0.9135 - false_negatives_1: 884.0000 - true_negatives: 14427.0000 - false_positives: 1401.0000 - true_positives: 14792.0000 - val_loss: 0.1790 - val_acc: 0.9266 - val_auc: 0.9796 - val_false_negatives: 259.0000 - val_recall: 0.9347 - val_precision: 0.9208 - val_false_negatives_1: 259.0000 - val_true_negatives: 3589.0000 - val_false_positives: 319.0000 - val_true_positives: 3709.0000 - lr: 5.4881e-04\n",
            "Epoch 18/100\n",
            "1969/1969 [==============================] - 14s 7ms/step - loss: 0.1824 - acc: 0.9277 - auc: 0.9783 - false_negatives: 872.0000 - recall: 0.9444 - precision: 0.9133 - false_negatives_1: 872.0000 - true_negatives: 14423.0000 - false_positives: 1405.0000 - true_positives: 14804.0000 - val_loss: 0.1841 - val_acc: 0.9242 - val_auc: 0.9786 - val_false_negatives: 172.0000 - val_recall: 0.9567 - val_precision: 0.8993 - val_false_negatives_1: 172.0000 - val_true_negatives: 3483.0000 - val_false_positives: 425.0000 - val_true_positives: 3796.0000 - lr: 4.9659e-04\n",
            "Epoch 19/100\n",
            "1969/1969 [==============================] - 14s 7ms/step - loss: 0.1803 - acc: 0.9291 - auc: 0.9789 - false_negatives: 856.0000 - recall: 0.9454 - precision: 0.9149 - false_negatives_1: 856.0000 - true_negatives: 14450.0000 - false_positives: 1378.0000 - true_positives: 14820.0000 - val_loss: 0.1770 - val_acc: 0.9292 - val_auc: 0.9792 - val_false_negatives: 184.0000 - val_recall: 0.9536 - val_precision: 0.9101 - val_false_negatives_1: 184.0000 - val_true_negatives: 3534.0000 - val_false_positives: 374.0000 - val_true_positives: 3784.0000 - lr: 4.4933e-04\n",
            "Epoch 20/100\n",
            "1969/1969 [==============================] - 14s 7ms/step - loss: 0.1791 - acc: 0.9288 - auc: 0.9792 - false_negatives: 858.0000 - recall: 0.9453 - precision: 0.9145 - false_negatives_1: 858.0000 - true_negatives: 14443.0000 - false_positives: 1385.0000 - true_positives: 14818.0000 - val_loss: 0.1765 - val_acc: 0.9288 - val_auc: 0.9806 - val_false_negatives: 259.0000 - val_recall: 0.9347 - val_precision: 0.9247 - val_false_negatives_1: 259.0000 - val_true_negatives: 3606.0000 - val_false_positives: 302.0000 - val_true_positives: 3709.0000 - lr: 4.0657e-04\n",
            "Epoch 21/100\n",
            "1969/1969 [==============================] - 14s 7ms/step - loss: 0.1766 - acc: 0.9299 - auc: 0.9795 - false_negatives: 839.0000 - recall: 0.9465 - precision: 0.9156 - false_negatives_1: 839.0000 - true_negatives: 14460.0000 - false_positives: 1368.0000 - true_positives: 14837.0000 - val_loss: 0.1732 - val_acc: 0.9312 - val_auc: 0.9807 - val_false_negatives: 222.0000 - val_recall: 0.9441 - val_precision: 0.9213 - val_false_negatives_1: 222.0000 - val_true_negatives: 3588.0000 - val_false_positives: 320.0000 - val_true_positives: 3746.0000 - lr: 3.6788e-04\n",
            "Epoch 22/100\n",
            "1969/1969 [==============================] - 15s 7ms/step - loss: 0.1755 - acc: 0.9307 - auc: 0.9798 - false_negatives: 829.0000 - recall: 0.9471 - precision: 0.9164 - false_negatives_1: 829.0000 - true_negatives: 14473.0000 - false_positives: 1355.0000 - true_positives: 14847.0000 - val_loss: 0.1713 - val_acc: 0.9294 - val_auc: 0.9809 - val_false_negatives: 233.0000 - val_recall: 0.9413 - val_precision: 0.9204 - val_false_negatives_1: 233.0000 - val_true_negatives: 3585.0000 - val_false_positives: 323.0000 - val_true_positives: 3735.0000 - lr: 3.3287e-04\n",
            "Epoch 23/100\n",
            "1969/1969 [==============================] - 14s 7ms/step - loss: 0.1743 - acc: 0.9311 - auc: 0.9800 - false_negatives: 832.0000 - recall: 0.9469 - precision: 0.9173 - false_negatives_1: 832.0000 - true_negatives: 14489.0000 - false_positives: 1339.0000 - true_positives: 14844.0000 - val_loss: 0.1699 - val_acc: 0.9313 - val_auc: 0.9809 - val_false_negatives: 200.0000 - val_recall: 0.9496 - val_precision: 0.9170 - val_false_negatives_1: 200.0000 - val_true_negatives: 3567.0000 - val_false_positives: 341.0000 - val_true_positives: 3768.0000 - lr: 3.0119e-04\n",
            "Epoch 24/100\n",
            "1969/1969 [==============================] - 15s 8ms/step - loss: 0.1728 - acc: 0.9314 - auc: 0.9805 - false_negatives: 820.0000 - recall: 0.9477 - precision: 0.9173 - false_negatives_1: 820.0000 - true_negatives: 14488.0000 - false_positives: 1340.0000 - true_positives: 14856.0000 - val_loss: 0.1704 - val_acc: 0.9309 - val_auc: 0.9812 - val_false_negatives: 221.0000 - val_recall: 0.9443 - val_precision: 0.9206 - val_false_negatives_1: 221.0000 - val_true_negatives: 3585.0000 - val_false_positives: 323.0000 - val_true_positives: 3747.0000 - lr: 2.7253e-04\n",
            "Epoch 25/100\n",
            "1969/1969 [==============================] - 14s 7ms/step - loss: 0.1717 - acc: 0.9313 - auc: 0.9807 - false_negatives: 815.0000 - recall: 0.9480 - precision: 0.9168 - false_negatives_1: 815.0000 - true_negatives: 14480.0000 - false_positives: 1348.0000 - true_positives: 14861.0000 - val_loss: 0.1699 - val_acc: 0.9314 - val_auc: 0.9812 - val_false_negatives: 192.0000 - val_recall: 0.9516 - val_precision: 0.9156 - val_false_negatives_1: 192.0000 - val_true_negatives: 3560.0000 - val_false_positives: 348.0000 - val_true_positives: 3776.0000 - lr: 2.4660e-04\n",
            "Epoch 26/100\n",
            "1969/1969 [==============================] - 15s 7ms/step - loss: 0.1706 - acc: 0.9326 - auc: 0.9809 - false_negatives: 800.0000 - recall: 0.9490 - precision: 0.9183 - false_negatives_1: 800.0000 - true_negatives: 14504.0000 - false_positives: 1324.0000 - true_positives: 14876.0000 - val_loss: 0.1672 - val_acc: 0.9317 - val_auc: 0.9819 - val_false_negatives: 221.0000 - val_recall: 0.9443 - val_precision: 0.9220 - val_false_negatives_1: 221.0000 - val_true_negatives: 3591.0000 - val_false_positives: 317.0000 - val_true_positives: 3747.0000 - lr: 2.2313e-04\n",
            "Epoch 27/100\n",
            "1969/1969 [==============================] - 14s 7ms/step - loss: 0.1697 - acc: 0.9330 - auc: 0.9813 - false_negatives: 811.0000 - recall: 0.9483 - precision: 0.9195 - false_negatives_1: 811.0000 - true_negatives: 14527.0000 - false_positives: 1301.0000 - true_positives: 14865.0000 - val_loss: 0.1677 - val_acc: 0.9316 - val_auc: 0.9816 - val_false_negatives: 186.0000 - val_recall: 0.9531 - val_precision: 0.9146 - val_false_negatives_1: 186.0000 - val_true_negatives: 3555.0000 - val_false_positives: 353.0000 - val_true_positives: 3782.0000 - lr: 2.0190e-04\n",
            "Epoch 28/100\n",
            "1969/1969 [==============================] - 14s 7ms/step - loss: 0.1694 - acc: 0.9334 - auc: 0.9812 - false_negatives: 792.0000 - recall: 0.9495 - precision: 0.9193 - false_negatives_1: 792.0000 - true_negatives: 14521.0000 - false_positives: 1307.0000 - true_positives: 14884.0000 - val_loss: 0.1671 - val_acc: 0.9323 - val_auc: 0.9819 - val_false_negatives: 209.0000 - val_recall: 0.9473 - val_precision: 0.9206 - val_false_negatives_1: 209.0000 - val_true_negatives: 3584.0000 - val_false_positives: 324.0000 - val_true_positives: 3759.0000 - lr: 1.8268e-04\n",
            "Epoch 29/100\n",
            "1969/1969 [==============================] - 14s 7ms/step - loss: 0.1681 - acc: 0.9333 - auc: 0.9816 - false_negatives: 797.0000 - recall: 0.9492 - precision: 0.9195 - false_negatives_1: 797.0000 - true_negatives: 14525.0000 - false_positives: 1303.0000 - true_positives: 14879.0000 - val_loss: 0.1678 - val_acc: 0.9308 - val_auc: 0.9815 - val_false_negatives: 197.0000 - val_recall: 0.9504 - val_precision: 0.9155 - val_false_negatives_1: 197.0000 - val_true_negatives: 3560.0000 - val_false_positives: 348.0000 - val_true_positives: 3771.0000 - lr: 1.6530e-04\n",
            "Epoch 30/100\n",
            "1969/1969 [==============================] - 14s 7ms/step - loss: 0.1678 - acc: 0.9333 - auc: 0.9816 - false_negatives: 803.0000 - recall: 0.9488 - precision: 0.9197 - false_negatives_1: 803.0000 - true_negatives: 14529.0000 - false_positives: 1299.0000 - true_positives: 14873.0000 - val_loss: 0.1680 - val_acc: 0.9314 - val_auc: 0.9819 - val_false_negatives: 225.0000 - val_recall: 0.9433 - val_precision: 0.9224 - val_false_negatives_1: 225.0000 - val_true_negatives: 3593.0000 - val_false_positives: 315.0000 - val_true_positives: 3743.0000 - lr: 1.4957e-04\n",
            "Epoch 31/100\n",
            "1969/1969 [==============================] - 14s 7ms/step - loss: 0.1672 - acc: 0.9334 - auc: 0.9817 - false_negatives: 785.0000 - recall: 0.9499 - precision: 0.9189 - false_negatives_1: 785.0000 - true_negatives: 14514.0000 - false_positives: 1314.0000 - true_positives: 14891.0000 - val_loss: 0.1670 - val_acc: 0.9332 - val_auc: 0.9821 - val_false_negatives: 220.0000 - val_recall: 0.9446 - val_precision: 0.9245 - val_false_negatives_1: 220.0000 - val_true_negatives: 3602.0000 - val_false_positives: 306.0000 - val_true_positives: 3748.0000 - lr: 1.3534e-04\n",
            "Epoch 32/100\n",
            "1969/1969 [==============================] - 14s 7ms/step - loss: 0.1664 - acc: 0.9334 - auc: 0.9820 - false_negatives: 791.0000 - recall: 0.9495 - precision: 0.9193 - false_negatives_1: 791.0000 - true_negatives: 14521.0000 - false_positives: 1307.0000 - true_positives: 14885.0000 - val_loss: 0.1669 - val_acc: 0.9328 - val_auc: 0.9817 - val_false_negatives: 175.0000 - val_recall: 0.9559 - val_precision: 0.9146 - val_false_negatives_1: 175.0000 - val_true_negatives: 3554.0000 - val_false_positives: 354.0000 - val_true_positives: 3793.0000 - lr: 1.2246e-04\n",
            "Epoch 33/100\n",
            "1969/1969 [==============================] - 14s 7ms/step - loss: 0.1661 - acc: 0.9336 - auc: 0.9819 - false_negatives: 788.0000 - recall: 0.9497 - precision: 0.9195 - false_negatives_1: 788.0000 - true_negatives: 14525.0000 - false_positives: 1303.0000 - true_positives: 14888.0000 - val_loss: 0.1648 - val_acc: 0.9323 - val_auc: 0.9820 - val_false_negatives: 192.0000 - val_recall: 0.9516 - val_precision: 0.9172 - val_false_negatives_1: 192.0000 - val_true_negatives: 3567.0000 - val_false_positives: 341.0000 - val_true_positives: 3776.0000 - lr: 1.1080e-04\n",
            "Epoch 34/100\n",
            "1969/1969 [==============================] - 14s 7ms/step - loss: 0.1658 - acc: 0.9335 - auc: 0.9820 - false_negatives: 801.0000 - recall: 0.9489 - precision: 0.9200 - false_negatives_1: 801.0000 - true_negatives: 14534.0000 - false_positives: 1294.0000 - true_positives: 14875.0000 - val_loss: 0.1652 - val_acc: 0.9316 - val_auc: 0.9821 - val_false_negatives: 194.0000 - val_recall: 0.9511 - val_precision: 0.9162 - val_false_negatives_1: 194.0000 - val_true_negatives: 3563.0000 - val_false_positives: 345.0000 - val_true_positives: 3774.0000 - lr: 1.0026e-04\n",
            "Epoch 35/100\n",
            "1969/1969 [==============================] - 14s 7ms/step - loss: 0.1653 - acc: 0.9341 - auc: 0.9821 - false_negatives: 778.0000 - recall: 0.9504 - precision: 0.9199 - false_negatives_1: 778.0000 - true_negatives: 14531.0000 - false_positives: 1297.0000 - true_positives: 14898.0000 - val_loss: 0.1650 - val_acc: 0.9308 - val_auc: 0.9823 - val_false_negatives: 209.0000 - val_recall: 0.9473 - val_precision: 0.9179 - val_false_negatives_1: 209.0000 - val_true_negatives: 3572.0000 - val_false_positives: 336.0000 - val_true_positives: 3759.0000 - lr: 9.0718e-05\n",
            "Epoch 36/100\n",
            "1969/1969 [==============================] - 14s 7ms/step - loss: 0.1652 - acc: 0.9338 - auc: 0.9822 - false_negatives: 791.0000 - recall: 0.9495 - precision: 0.9201 - false_negatives_1: 791.0000 - true_negatives: 14535.0000 - false_positives: 1293.0000 - true_positives: 14885.0000 - val_loss: 0.1661 - val_acc: 0.9321 - val_auc: 0.9819 - val_false_negatives: 182.0000 - val_recall: 0.9541 - val_precision: 0.9147 - val_false_negatives_1: 182.0000 - val_true_negatives: 3555.0000 - val_false_positives: 353.0000 - val_true_positives: 3786.0000 - lr: 8.2085e-05\n",
            "Epoch 37/100\n",
            "1969/1969 [==============================] - 14s 7ms/step - loss: 0.1647 - acc: 0.9338 - auc: 0.9822 - false_negatives: 789.0000 - recall: 0.9497 - precision: 0.9198 - false_negatives_1: 789.0000 - true_negatives: 14530.0000 - false_positives: 1298.0000 - true_positives: 14887.0000 - val_loss: 0.1641 - val_acc: 0.9328 - val_auc: 0.9823 - val_false_negatives: 199.0000 - val_recall: 0.9498 - val_precision: 0.9195 - val_false_negatives_1: 199.0000 - val_true_negatives: 3578.0000 - val_false_positives: 330.0000 - val_true_positives: 3769.0000 - lr: 7.4274e-05\n",
            "Epoch 38/100\n",
            "1969/1969 [==============================] - 14s 7ms/step - loss: 0.1645 - acc: 0.9340 - auc: 0.9823 - false_negatives: 788.0000 - recall: 0.9497 - precision: 0.9201 - false_negatives_1: 788.0000 - true_negatives: 14536.0000 - false_positives: 1292.0000 - true_positives: 14888.0000 - val_loss: 0.1637 - val_acc: 0.9332 - val_auc: 0.9823 - val_false_negatives: 196.0000 - val_recall: 0.9506 - val_precision: 0.9196 - val_false_negatives_1: 196.0000 - val_true_negatives: 3578.0000 - val_false_positives: 330.0000 - val_true_positives: 3772.0000 - lr: 6.7206e-05\n",
            "Epoch 39/100\n",
            "1969/1969 [==============================] - 14s 7ms/step - loss: 0.1641 - acc: 0.9343 - auc: 0.9824 - false_negatives: 779.0000 - recall: 0.9503 - precision: 0.9203 - false_negatives_1: 779.0000 - true_negatives: 14538.0000 - false_positives: 1290.0000 - true_positives: 14897.0000 - val_loss: 0.1637 - val_acc: 0.9322 - val_auc: 0.9826 - val_false_negatives: 219.0000 - val_recall: 0.9448 - val_precision: 0.9225 - val_false_negatives_1: 219.0000 - val_true_negatives: 3593.0000 - val_false_positives: 315.0000 - val_true_positives: 3749.0000 - lr: 6.0810e-05\n",
            "Epoch 40/100\n",
            "1969/1969 [==============================] - 15s 7ms/step - loss: 0.1639 - acc: 0.9345 - auc: 0.9824 - false_negatives: 785.0000 - recall: 0.9499 - precision: 0.9210 - false_negatives_1: 785.0000 - true_negatives: 14551.0000 - false_positives: 1277.0000 - true_positives: 14891.0000 - val_loss: 0.1648 - val_acc: 0.9331 - val_auc: 0.9820 - val_false_negatives: 179.0000 - val_recall: 0.9549 - val_precision: 0.9159 - val_false_negatives_1: 179.0000 - val_true_negatives: 3560.0000 - val_false_positives: 348.0000 - val_true_positives: 3789.0000 - lr: 5.5023e-05\n",
            "Epoch 41/100\n",
            "1969/1969 [==============================] - 15s 8ms/step - loss: 0.1638 - acc: 0.9349 - auc: 0.9825 - false_negatives: 771.0000 - recall: 0.9508 - precision: 0.9209 - false_negatives_1: 771.0000 - true_negatives: 14548.0000 - false_positives: 1280.0000 - true_positives: 14905.0000 - val_loss: 0.1636 - val_acc: 0.9322 - val_auc: 0.9825 - val_false_negatives: 201.0000 - val_recall: 0.9493 - val_precision: 0.9188 - val_false_negatives_1: 201.0000 - val_true_negatives: 3575.0000 - val_false_positives: 333.0000 - val_true_positives: 3767.0000 - lr: 4.9787e-05\n",
            "Epoch 42/100\n",
            "1969/1969 [==============================] - 14s 7ms/step - loss: 0.1637 - acc: 0.9352 - auc: 0.9824 - false_negatives: 767.0000 - recall: 0.9511 - precision: 0.9212 - false_negatives_1: 767.0000 - true_negatives: 14553.0000 - false_positives: 1275.0000 - true_positives: 14909.0000 - val_loss: 0.1634 - val_acc: 0.9331 - val_auc: 0.9826 - val_false_negatives: 207.0000 - val_recall: 0.9478 - val_precision: 0.9216 - val_false_negatives_1: 207.0000 - val_true_negatives: 3588.0000 - val_false_positives: 320.0000 - val_true_positives: 3761.0000 - lr: 4.5049e-05\n",
            "Epoch 43/100\n",
            "1969/1969 [==============================] - 14s 7ms/step - loss: 0.1636 - acc: 0.9350 - auc: 0.9823 - false_negatives: 768.0000 - recall: 0.9510 - precision: 0.9209 - false_negatives_1: 768.0000 - true_negatives: 14548.0000 - false_positives: 1280.0000 - true_positives: 14908.0000 - val_loss: 0.1629 - val_acc: 0.9331 - val_auc: 0.9827 - val_false_negatives: 213.0000 - val_recall: 0.9463 - val_precision: 0.9228 - val_false_negatives_1: 213.0000 - val_true_negatives: 3594.0000 - val_false_positives: 314.0000 - val_true_positives: 3755.0000 - lr: 4.0762e-05\n",
            "Epoch 44/100\n",
            "1969/1969 [==============================] - 15s 7ms/step - loss: 0.1633 - acc: 0.9350 - auc: 0.9826 - false_negatives: 779.0000 - recall: 0.9503 - precision: 0.9214 - false_negatives_1: 779.0000 - true_negatives: 14558.0000 - false_positives: 1270.0000 - true_positives: 14897.0000 - val_loss: 0.1632 - val_acc: 0.9333 - val_auc: 0.9822 - val_false_negatives: 187.0000 - val_recall: 0.9529 - val_precision: 0.9179 - val_false_negatives_1: 187.0000 - val_true_negatives: 3570.0000 - val_false_positives: 338.0000 - val_true_positives: 3781.0000 - lr: 3.6883e-05\n",
            "Epoch 45/100\n",
            "1969/1969 [==============================] - 15s 7ms/step - loss: 0.1631 - acc: 0.9347 - auc: 0.9825 - false_negatives: 771.0000 - recall: 0.9508 - precision: 0.9206 - false_negatives_1: 771.0000 - true_negatives: 14543.0000 - false_positives: 1285.0000 - true_positives: 14905.0000 - val_loss: 0.1631 - val_acc: 0.9331 - val_auc: 0.9827 - val_false_negatives: 212.0000 - val_recall: 0.9466 - val_precision: 0.9226 - val_false_negatives_1: 212.0000 - val_true_negatives: 3593.0000 - val_false_positives: 315.0000 - val_true_positives: 3756.0000 - lr: 3.3373e-05\n",
            "Epoch 46/100\n",
            "1969/1969 [==============================] - 14s 7ms/step - loss: 0.1630 - acc: 0.9348 - auc: 0.9825 - false_negatives: 771.0000 - recall: 0.9508 - precision: 0.9207 - false_negatives_1: 771.0000 - true_negatives: 14545.0000 - false_positives: 1283.0000 - true_positives: 14905.0000 - val_loss: 0.1630 - val_acc: 0.9333 - val_auc: 0.9827 - val_false_negatives: 212.0000 - val_recall: 0.9466 - val_precision: 0.9231 - val_false_negatives_1: 212.0000 - val_true_negatives: 3595.0000 - val_false_positives: 313.0000 - val_true_positives: 3756.0000 - lr: 3.0197e-05\n",
            "Epoch 47/100\n",
            "1969/1969 [==============================] - 14s 7ms/step - loss: 0.1630 - acc: 0.9347 - auc: 0.9826 - false_negatives: 785.0000 - recall: 0.9499 - precision: 0.9213 - false_negatives_1: 785.0000 - true_negatives: 14556.0000 - false_positives: 1272.0000 - true_positives: 14891.0000 - val_loss: 0.1625 - val_acc: 0.9333 - val_auc: 0.9827 - val_false_negatives: 202.0000 - val_recall: 0.9491 - val_precision: 0.9210 - val_false_negatives_1: 202.0000 - val_true_negatives: 3585.0000 - val_false_positives: 323.0000 - val_true_positives: 3766.0000 - lr: 2.7324e-05\n",
            "Epoch 48/100\n",
            "1969/1969 [==============================] - 14s 7ms/step - loss: 0.1628 - acc: 0.9350 - auc: 0.9825 - false_negatives: 771.0000 - recall: 0.9508 - precision: 0.9211 - false_negatives_1: 771.0000 - true_negatives: 14552.0000 - false_positives: 1276.0000 - true_positives: 14905.0000 - val_loss: 0.1631 - val_acc: 0.9331 - val_auc: 0.9823 - val_false_negatives: 189.0000 - val_recall: 0.9524 - val_precision: 0.9179 - val_false_negatives_1: 189.0000 - val_true_negatives: 3570.0000 - val_false_positives: 338.0000 - val_true_positives: 3779.0000 - lr: 2.4724e-05\n",
            "Epoch 49/100\n",
            "1969/1969 [==============================] - 14s 7ms/step - loss: 0.1628 - acc: 0.9349 - auc: 0.9825 - false_negatives: 765.0000 - recall: 0.9512 - precision: 0.9207 - false_negatives_1: 765.0000 - true_negatives: 14543.0000 - false_positives: 1285.0000 - true_positives: 14911.0000 - val_loss: 0.1626 - val_acc: 0.9331 - val_auc: 0.9825 - val_false_negatives: 195.0000 - val_recall: 0.9509 - val_precision: 0.9191 - val_false_negatives_1: 195.0000 - val_true_negatives: 3576.0000 - val_false_positives: 332.0000 - val_true_positives: 3773.0000 - lr: 2.2371e-05\n",
            "Epoch 50/100\n",
            "1969/1969 [==============================] - 14s 7ms/step - loss: 0.1626 - acc: 0.9348 - auc: 0.9826 - false_negatives: 771.0000 - recall: 0.9508 - precision: 0.9207 - false_negatives_1: 771.0000 - true_negatives: 14545.0000 - false_positives: 1283.0000 - true_positives: 14905.0000 - val_loss: 0.1625 - val_acc: 0.9327 - val_auc: 0.9827 - val_false_negatives: 212.0000 - val_recall: 0.9466 - val_precision: 0.9219 - val_false_negatives_1: 212.0000 - val_true_negatives: 3590.0000 - val_false_positives: 318.0000 - val_true_positives: 3756.0000 - lr: 2.0242e-05\n",
            "Epoch 51/100\n",
            "1969/1969 [==============================] - 15s 8ms/step - loss: 0.1625 - acc: 0.9348 - auc: 0.9826 - false_negatives: 777.0000 - recall: 0.9504 - precision: 0.9211 - false_negatives_1: 777.0000 - true_negatives: 14552.0000 - false_positives: 1276.0000 - true_positives: 14899.0000 - val_loss: 0.1625 - val_acc: 0.9331 - val_auc: 0.9827 - val_false_negatives: 197.0000 - val_recall: 0.9504 - val_precision: 0.9195 - val_false_negatives_1: 197.0000 - val_true_negatives: 3578.0000 - val_false_positives: 330.0000 - val_true_positives: 3771.0000 - lr: 1.8316e-05\n",
            "Epoch 52/100\n",
            "1969/1969 [==============================] - 14s 7ms/step - loss: 0.1625 - acc: 0.9350 - auc: 0.9826 - false_negatives: 774.0000 - recall: 0.9506 - precision: 0.9212 - false_negatives_1: 774.0000 - true_negatives: 14553.0000 - false_positives: 1275.0000 - true_positives: 14902.0000 - val_loss: 0.1624 - val_acc: 0.9332 - val_auc: 0.9827 - val_false_negatives: 201.0000 - val_recall: 0.9493 - val_precision: 0.9206 - val_false_negatives_1: 201.0000 - val_true_negatives: 3583.0000 - val_false_positives: 325.0000 - val_true_positives: 3767.0000 - lr: 1.6573e-05\n",
            "Epoch 53/100\n",
            "1969/1969 [==============================] - 15s 8ms/step - loss: 0.1624 - acc: 0.9350 - auc: 0.9826 - false_negatives: 774.0000 - recall: 0.9506 - precision: 0.9212 - false_negatives_1: 774.0000 - true_negatives: 14553.0000 - false_positives: 1275.0000 - true_positives: 14902.0000 - val_loss: 0.1626 - val_acc: 0.9331 - val_auc: 0.9828 - val_false_negatives: 211.0000 - val_recall: 0.9468 - val_precision: 0.9224 - val_false_negatives_1: 211.0000 - val_true_negatives: 3592.0000 - val_false_positives: 316.0000 - val_true_positives: 3757.0000 - lr: 1.4996e-05\n",
            "Epoch 54/100\n",
            "1969/1969 [==============================] - 14s 7ms/step - loss: 0.1623 - acc: 0.9350 - auc: 0.9827 - false_negatives: 771.0000 - recall: 0.9508 - precision: 0.9211 - false_negatives_1: 771.0000 - true_negatives: 14551.0000 - false_positives: 1277.0000 - true_positives: 14905.0000 - val_loss: 0.1624 - val_acc: 0.9333 - val_auc: 0.9828 - val_false_negatives: 207.0000 - val_recall: 0.9478 - val_precision: 0.9220 - val_false_negatives_1: 207.0000 - val_true_negatives: 3590.0000 - val_false_positives: 318.0000 - val_true_positives: 3761.0000 - lr: 1.3569e-05\n",
            "Epoch 55/100\n",
            "1969/1969 [==============================] - 15s 8ms/step - loss: 0.1623 - acc: 0.9351 - auc: 0.9827 - false_negatives: 767.0000 - recall: 0.9511 - precision: 0.9210 - false_negatives_1: 767.0000 - true_negatives: 14550.0000 - false_positives: 1278.0000 - true_positives: 14909.0000 - val_loss: 0.1625 - val_acc: 0.9330 - val_auc: 0.9828 - val_false_negatives: 212.0000 - val_recall: 0.9466 - val_precision: 0.9224 - val_false_negatives_1: 212.0000 - val_true_negatives: 3592.0000 - val_false_positives: 316.0000 - val_true_positives: 3756.0000 - lr: 1.2277e-05\n",
            "Epoch 56/100\n",
            "1969/1969 [==============================] - 15s 8ms/step - loss: 0.1622 - acc: 0.9350 - auc: 0.9827 - false_negatives: 777.0000 - recall: 0.9504 - precision: 0.9215 - false_negatives_1: 777.0000 - true_negatives: 14558.0000 - false_positives: 1270.0000 - true_positives: 14899.0000 - val_loss: 0.1625 - val_acc: 0.9331 - val_auc: 0.9827 - val_false_negatives: 209.0000 - val_recall: 0.9473 - val_precision: 0.9220 - val_false_negatives_1: 209.0000 - val_true_negatives: 3590.0000 - val_false_positives: 318.0000 - val_true_positives: 3759.0000 - lr: 1.1109e-05\n",
            "Epoch 57/100\n",
            "1969/1969 [==============================] - 15s 8ms/step - loss: 0.1623 - acc: 0.9348 - auc: 0.9827 - false_negatives: 768.0000 - recall: 0.9510 - precision: 0.9206 - false_negatives_1: 768.0000 - true_negatives: 14543.0000 - false_positives: 1285.0000 - true_positives: 14908.0000 - val_loss: 0.1623 - val_acc: 0.9328 - val_auc: 0.9827 - val_false_negatives: 207.0000 - val_recall: 0.9478 - val_precision: 0.9211 - val_false_negatives_1: 207.0000 - val_true_negatives: 3586.0000 - val_false_positives: 322.0000 - val_true_positives: 3761.0000 - lr: 1.0052e-05\n",
            "Epoch 58/100\n",
            "1969/1969 [==============================] - 15s 8ms/step - loss: 0.1622 - acc: 0.9351 - auc: 0.9826 - false_negatives: 771.0000 - recall: 0.9508 - precision: 0.9212 - false_negatives_1: 771.0000 - true_negatives: 14553.0000 - false_positives: 1275.0000 - true_positives: 14905.0000 - val_loss: 0.1622 - val_acc: 0.9332 - val_auc: 0.9827 - val_false_negatives: 201.0000 - val_recall: 0.9493 - val_precision: 0.9206 - val_false_negatives_1: 201.0000 - val_true_negatives: 3583.0000 - val_false_positives: 325.0000 - val_true_positives: 3767.0000 - lr: 9.0953e-06\n",
            "Epoch 59/100\n",
            "1969/1969 [==============================] - 15s 8ms/step - loss: 0.1621 - acc: 0.9350 - auc: 0.9827 - false_negatives: 771.0000 - recall: 0.9508 - precision: 0.9211 - false_negatives_1: 771.0000 - true_negatives: 14552.0000 - false_positives: 1276.0000 - true_positives: 14905.0000 - val_loss: 0.1622 - val_acc: 0.9326 - val_auc: 0.9827 - val_false_negatives: 200.0000 - val_recall: 0.9496 - val_precision: 0.9192 - val_false_negatives_1: 200.0000 - val_true_negatives: 3577.0000 - val_false_positives: 331.0000 - val_true_positives: 3768.0000 - lr: 8.2297e-06\n",
            "Epoch 60/100\n",
            "1969/1969 [==============================] - 15s 7ms/step - loss: 0.1621 - acc: 0.9347 - auc: 0.9827 - false_negatives: 776.0000 - recall: 0.9505 - precision: 0.9209 - false_negatives_1: 776.0000 - true_negatives: 14548.0000 - false_positives: 1280.0000 - true_positives: 14900.0000 - val_loss: 0.1622 - val_acc: 0.9333 - val_auc: 0.9827 - val_false_negatives: 198.0000 - val_recall: 0.9501 - val_precision: 0.9202 - val_false_negatives_1: 198.0000 - val_true_negatives: 3581.0000 - val_false_positives: 327.0000 - val_true_positives: 3770.0000 - lr: 7.4466e-06\n",
            "Epoch 61/100\n",
            "1969/1969 [==============================] - 14s 7ms/step - loss: 0.1620 - acc: 0.9350 - auc: 0.9827 - false_negatives: 775.0000 - recall: 0.9506 - precision: 0.9214 - false_negatives_1: 775.0000 - true_negatives: 14556.0000 - false_positives: 1272.0000 - true_positives: 14901.0000 - val_loss: 0.1623 - val_acc: 0.9335 - val_auc: 0.9826 - val_false_negatives: 191.0000 - val_recall: 0.9519 - val_precision: 0.9190 - val_false_negatives_1: 191.0000 - val_true_negatives: 3575.0000 - val_false_positives: 333.0000 - val_true_positives: 3777.0000 - lr: 6.7379e-06\n",
            "Epoch 62/100\n",
            "1969/1969 [==============================] - 14s 7ms/step - loss: 0.1620 - acc: 0.9348 - auc: 0.9827 - false_negatives: 776.0000 - recall: 0.9505 - precision: 0.9210 - false_negatives_1: 776.0000 - true_negatives: 14550.0000 - false_positives: 1278.0000 - true_positives: 14900.0000 - val_loss: 0.1622 - val_acc: 0.9332 - val_auc: 0.9826 - val_false_negatives: 196.0000 - val_recall: 0.9506 - val_precision: 0.9196 - val_false_negatives_1: 196.0000 - val_true_negatives: 3578.0000 - val_false_positives: 330.0000 - val_true_positives: 3772.0000 - lr: 6.0967e-06\n",
            "Epoch 63/100\n",
            "1969/1969 [==============================] - 14s 7ms/step - loss: 0.1621 - acc: 0.9348 - auc: 0.9827 - false_negatives: 774.0000 - recall: 0.9506 - precision: 0.9210 - false_negatives_1: 774.0000 - true_negatives: 14549.0000 - false_positives: 1279.0000 - true_positives: 14902.0000 - val_loss: 0.1622 - val_acc: 0.9333 - val_auc: 0.9827 - val_false_negatives: 202.0000 - val_recall: 0.9491 - val_precision: 0.9210 - val_false_negatives_1: 202.0000 - val_true_negatives: 3585.0000 - val_false_positives: 323.0000 - val_true_positives: 3766.0000 - lr: 5.5166e-06\n",
            "Epoch 64/100\n",
            "1969/1969 [==============================] - 15s 7ms/step - loss: 0.1620 - acc: 0.9349 - auc: 0.9828 - false_negatives: 775.0000 - recall: 0.9506 - precision: 0.9211 - false_negatives_1: 775.0000 - true_negatives: 14551.0000 - false_positives: 1277.0000 - true_positives: 14901.0000 - val_loss: 0.1622 - val_acc: 0.9326 - val_auc: 0.9827 - val_false_negatives: 207.0000 - val_recall: 0.9478 - val_precision: 0.9207 - val_false_negatives_1: 207.0000 - val_true_negatives: 3584.0000 - val_false_positives: 324.0000 - val_true_positives: 3761.0000 - lr: 4.9916e-06\n",
            "Epoch 65/100\n",
            "1969/1969 [==============================] - 17s 9ms/step - loss: 0.1620 - acc: 0.9350 - auc: 0.9827 - false_negatives: 776.0000 - recall: 0.9505 - precision: 0.9213 - false_negatives_1: 776.0000 - true_negatives: 14556.0000 - false_positives: 1272.0000 - true_positives: 14900.0000 - val_loss: 0.1622 - val_acc: 0.9331 - val_auc: 0.9826 - val_false_negatives: 201.0000 - val_recall: 0.9493 - val_precision: 0.9204 - val_false_negatives_1: 201.0000 - val_true_negatives: 3582.0000 - val_false_positives: 326.0000 - val_true_positives: 3767.0000 - lr: 4.5166e-06\n",
            "Epoch 66/100\n",
            "1969/1969 [==============================] - 14s 7ms/step - loss: 0.1620 - acc: 0.9350 - auc: 0.9827 - false_negatives: 771.0000 - recall: 0.9508 - precision: 0.9210 - false_negatives_1: 771.0000 - true_negatives: 14550.0000 - false_positives: 1278.0000 - true_positives: 14905.0000 - val_loss: 0.1622 - val_acc: 0.9331 - val_auc: 0.9827 - val_false_negatives: 203.0000 - val_recall: 0.9488 - val_precision: 0.9208 - val_false_negatives_1: 203.0000 - val_true_negatives: 3584.0000 - val_false_positives: 324.0000 - val_true_positives: 3765.0000 - lr: 4.0868e-06\n",
            "Epoch 67/100\n",
            "1969/1969 [==============================] - 15s 8ms/step - loss: 0.1620 - acc: 0.9350 - auc: 0.9828 - false_negatives: 779.0000 - recall: 0.9503 - precision: 0.9215 - false_negatives_1: 779.0000 - true_negatives: 14559.0000 - false_positives: 1269.0000 - true_positives: 14897.0000 - val_loss: 0.1622 - val_acc: 0.9332 - val_auc: 0.9826 - val_false_negatives: 197.0000 - val_recall: 0.9504 - val_precision: 0.9198 - val_false_negatives_1: 197.0000 - val_true_negatives: 3579.0000 - val_false_positives: 329.0000 - val_true_positives: 3771.0000 - lr: 3.6979e-06\n",
            "Epoch 68/100\n",
            "1969/1969 [==============================] - 14s 7ms/step - loss: 0.1619 - acc: 0.9350 - auc: 0.9828 - false_negatives: 769.0000 - recall: 0.9509 - precision: 0.9209 - false_negatives_1: 769.0000 - true_negatives: 14548.0000 - false_positives: 1280.0000 - true_positives: 14907.0000 - val_loss: 0.1622 - val_acc: 0.9335 - val_auc: 0.9826 - val_false_negatives: 198.0000 - val_recall: 0.9501 - val_precision: 0.9204 - val_false_negatives_1: 198.0000 - val_true_negatives: 3582.0000 - val_false_positives: 326.0000 - val_true_positives: 3770.0000 - lr: 3.3460e-06\n",
            "finish training lstm model\n"
          ]
        }
      ]
    },
    {
      "cell_type": "code",
      "source": [
        "lstm_model.summary()\n",
        "lstm_model.save(\"/content/drive/My Drive/final_project/lstm_model.h5\")"
      ],
      "metadata": {
        "colab": {
          "base_uri": "https://localhost:8080/"
        },
        "id": "Dui_8UsFXCC0",
        "outputId": "5bedcba4-2f12-449d-f3b6-a30ada792e03"
      },
      "execution_count": 36,
      "outputs": [
        {
          "output_type": "stream",
          "name": "stdout",
          "text": [
            "Model: \"sequential\"\n",
            "_________________________________________________________________\n",
            " Layer (type)                Output Shape              Param #   \n",
            "=================================================================\n",
            " lstm (LSTM)                 (None, 1, 16)             4352      \n",
            "                                                                 \n",
            " lstm_1 (LSTM)               (None, 16)                2112      \n",
            "                                                                 \n",
            " dense (Dense)               (None, 1)                 17        \n",
            "                                                                 \n",
            "=================================================================\n",
            "Total params: 6,481\n",
            "Trainable params: 6,481\n",
            "Non-trainable params: 0\n",
            "_________________________________________________________________\n"
          ]
        }
      ]
    },
    {
      "cell_type": "code",
      "source": [
        "# plotting the results\n",
        "\n",
        "import matplotlib.pyplot as plt\n",
        "\n",
        "def plotting_training(history):\n",
        "  # Plot training & validation accuracy values\n",
        "  plt.plot(history.history['acc'])\n",
        "  plt.plot(history.history['val_acc'])\n",
        "  plt.title('Model accuracy')\n",
        "  plt.ylabel('Accuracy')\n",
        "  plt.xlabel('Epoch')\n",
        "  plt.legend(['Train', 'Test'], loc='upper left')\n",
        "  plt.show()\n",
        "  # Plot training & validation loss values\n",
        "  loss = history.history['loss']\n",
        "  val_loss = history.history['val_loss']\n",
        "  epochs = range(1, len(loss) + 1)\n",
        "  plt.figure()\n",
        "  plt.plot(epochs, loss, 'bo', label=\"Training loss\")\n",
        "  plt.plot(epochs, val_loss, 'b', label='Validation loss')\n",
        "  plt.title('Training and validation loss')\n",
        "  plt.xlabel('epoch', fontsize=10)\n",
        "  plt.ylabel('loss', fontsize=10)\n",
        "  plt.ylim(0.0,0.5)\n",
        "  plt.legend()\n",
        "  plt.show()"
      ],
      "metadata": {
        "id": "f0v6_vSVXuKY"
      },
      "execution_count": 37,
      "outputs": []
    },
    {
      "cell_type": "code",
      "source": [
        "plotting_training(lstm_history)"
      ],
      "metadata": {
        "colab": {
          "base_uri": "https://localhost:8080/",
          "height": 927
        },
        "id": "0QeAwfbgXy5f",
        "outputId": "a8f77846-579d-44e1-823b-437be9c35f0e"
      },
      "execution_count": 38,
      "outputs": [
        {
          "output_type": "display_data",
          "data": {
            "text/plain": [
              "<Figure size 640x480 with 1 Axes>"
            ],
            "image/png": "[encoded data removed]"
          },
          "metadata": {}
        },
        {
          "output_type": "display_data",
          "data": {
            "text/plain": [
              "<Figure size 640x480 with 1 Axes>"
            ],
            "image/png": "[encoded data removed]"
          },
          "metadata": {}
        }
      ]
    },
    {
      "cell_type": "code",
      "source": [
        "from tensorflow.keras.callbacks import TensorBoard\n",
        "from datetime import datetime\n"
      ],
      "metadata": {
        "id": "kc3mtwkoRGrD"
      },
      "execution_count": 39,
      "outputs": []
    },
    {
      "cell_type": "code",
      "source": [
        "logdir = \"logs/\" + datetime.now().strftime(\"%Y%m%d-%H%M%S\")\n",
        "tensorboard_callback = TensorBoard(log_dir=logdir, histogram_freq=1)"
      ],
      "metadata": {
        "id": "oe4A3UxJRRND"
      },
      "execution_count": 40,
      "outputs": []
    },
    {
      "cell_type": "code",
      "source": [
        "# history = lstm_model.fit(array(x_train), array(y_train), epochs=100, batch_size=16, validation_split=0.2,callbacks=[tensorboard_callback])"
      ],
      "metadata": {
        "id": "r9AWshSURSAC"
      },
      "execution_count": 47,
      "outputs": []
    },
    {
      "cell_type": "code",
      "source": [
        "%tensorboard --logdir logs/fit\n",
        "notebook.display(port=6006, height=1000)\n"
      ],
      "metadata": {
        "id": "J01mIOH5RVEo",
        "outputId": "0bb7f6a9-d7ed-431b-9aa3-9043f5f9f802",
        "colab": {
          "base_uri": "https://localhost:8080/"
        }
      },
      "execution_count": 46,
      "outputs": [
        {
          "output_type": "stream",
          "name": "stderr",
          "text": [
            "UsageError: Line magic function `%tensorboard` not found.\n"
          ]
        }
      ]
    },
    {
      "cell_type": "code",
      "source": [
        "# from google.colab import drive\n",
        "# drive.mount('/content/drive')"
      ],
      "metadata": {
        "id": "FhR6FDnCUSq-"
      },
      "execution_count": null,
      "outputs": []
    },
    {
      "cell_type": "code",
      "source": [
        "# test \n",
        "# for lstm\n",
        "x_test = []\n",
        "y_test = []\n",
        "\n",
        "for record in train_data:\n",
        "  x_test.append(record[1:])\n",
        "  label = int(record[0])\n",
        "  y_test.append(label) \n",
        "\n",
        "x_test = array(x_test)\n",
        "x_test = x_test.reshape((len(x_test), 1, len(x_test[0])))\n",
        "\n",
        "y_test = array(y_test)\n",
        "\n",
        "test_score = lstm_model.evaluate(x_test, y_test)\n",
        "print(test_score)"
      ],
      "metadata": {
        "id": "SR93YCSoYLzz"
      },
      "execution_count": null,
      "outputs": []
    },
    {
      "cell_type": "code",
      "source": [
        "# solution 2: train model using CNN\n",
        "from tensorflow.keras.models import Sequential\n",
        "from tensorflow.keras.layers import Dense, Conv2D, Flatten, MaxPooling2D\n",
        "\n",
        "def scheduler(epoch):\n",
        "  if epoch < 10:\n",
        "    return 0.001\n",
        "  else:\n",
        "    return 0.001 * np.exp(0.1 * (10 - epoch))\n",
        "\n",
        "x_train = []\n",
        "y_train = []\n",
        "\n",
        "for record in train_data:\n",
        "  x_train.append(record[1:])\n",
        "  label = int(record[0])\n",
        "  y_train.append(label) \n",
        "\n",
        "def train_cnn_model(x_train, y_train):\n",
        "  x_train = array(x_train)\n",
        "  x_train = x_train.reshape((len(x_train), 3, int(len(x_train[0])/3), 1))\n",
        "\n",
        "  y_train = array(y_train)\n",
        "\n",
        "  #create model\n",
        "  cnn_model = Sequential()\n",
        "  cnn_model.add(Conv2D(64, \n",
        "                  kernel_size=3, \n",
        "                  activation='relu', \n",
        "                  input_shape=(3,17,1), #3,21,1\n",
        "                  padding='same'))\n",
        "  cnn_model.add(layers.BatchNormalization(1))\n",
        "  cnn_model.add(Conv2D(64, \n",
        "                  kernel_size=3, \n",
        "                  activation='relu', \n",
        "                  padding='same'))\n",
        "  cnn_model.add(layers.BatchNormalization(1))\n",
        "  cnn_model.add(MaxPooling2D(2,2))\n",
        "  cnn_model.add(Flatten())\n",
        "  cnn_model.add(Dense(512, activation = 'relu')) \n",
        "  cnn_model.add(Dense(1, activation='sigmoid'))\n",
        "\n",
        "  # compile and fit\n",
        "  cnn_model.compile(optimizer='Adam',\n",
        "                loss='binary_crossentropy',\n",
        "                metrics=['acc', \n",
        "                        metrics.AUC(), \n",
        "                        metrics.FalseNegatives(),\n",
        "                        metrics.Recall(),\n",
        "                        metrics.Precision(),\n",
        "                        metrics.FalseNegatives(),\n",
        "                        metrics.TrueNegatives(),\n",
        "                        metrics.FalsePositives(),\n",
        "                        metrics.TruePositives()])\n",
        "  cnn_history = cnn_model.fit(x_train, y_train,\n",
        "                      epochs=100,\n",
        "                      batch_size=16,\n",
        "                      validation_split=0.2,\n",
        "                      callbacks=[callbacks.EarlyStopping(monitor='val_loss', patience=5),\n",
        "                      callbacks.LearningRateScheduler(scheduler)])\n",
        "    \n",
        "  print(\"finish training cnn model\")\n",
        "  return cnn_model, cnn_history\n",
        "\n",
        "\n",
        "cnn_model, cnn_history = train_cnn_model(x_train, y_train)"
      ],
      "metadata": {
        "id": "4ivIagAmaHta"
      },
      "execution_count": null,
      "outputs": []
    },
    {
      "cell_type": "code",
      "source": [
        "cnn_model.summary()\n",
        "cnn_model.save(\"/content/drive/My Drive/final_project/cnn_model.h5\")"
      ],
      "metadata": {
        "id": "0u0eFHDDaivH"
      },
      "execution_count": null,
      "outputs": []
    },
    {
      "cell_type": "code",
      "source": [
        "plotting_training(cnn_history)"
      ],
      "metadata": {
        "id": "zPkm0LNxa6vS"
      },
      "execution_count": null,
      "outputs": []
    },
    {
      "cell_type": "code",
      "source": [
        "# test\n",
        "# for cnn 2d\n",
        "x_test = []\n",
        "y_test = []\n",
        "\n",
        "for record in train_data:\n",
        "  x_test.append(record[1:])\n",
        "  label = int(record[0])\n",
        "  y_test.append(label) \n",
        "\n",
        "x_test = array(x_test)\n",
        "x_test = x_test.reshape((len(x_test), 3, int(len(x_test[0])/3), 1))\n",
        "\n",
        "y_test = array(y_test)\n",
        "\n",
        "test_score = cnn_model.evaluate(x_test, y_test)\n",
        "print(test_score)"
      ],
      "metadata": {
        "id": "_prrUsIIa_3q"
      },
      "execution_count": null,
      "outputs": []
    }
  ]
}