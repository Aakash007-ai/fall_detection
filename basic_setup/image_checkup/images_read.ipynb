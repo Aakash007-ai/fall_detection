{
 "cells": [
  {
   "attachments": {},
   "cell_type": "markdown",
   "metadata": {},
   "source": [
    "we go over a list of images and find keypoints, also we find keypoints which we require:-\n",
    "copy until that code and feed it to model"
   ]
  },
  {
   "cell_type": "code",
   "execution_count": 3,
   "metadata": {},
   "outputs": [],
   "source": [
    "import os\n",
    "import cv2\n",
    "import mediapipe as mp"
   ]
  },
  {
   "cell_type": "code",
   "execution_count": 4,
   "metadata": {},
   "outputs": [],
   "source": [
    "mp_pose = mp.solutions.pose\n",
    "pose = mp_pose.Pose()"
   ]
  },
  {
   "cell_type": "code",
   "execution_count": 5,
   "metadata": {},
   "outputs": [],
   "source": [
    "image_dir = \"test_images\""
   ]
  },
  {
   "cell_type": "code",
   "execution_count": 26,
   "metadata": {},
   "outputs": [
    {
     "name": "stdout",
     "output_type": "stream",
     "text": [
      "PoseLandmark.NOSE\n",
      "PoseLandmark.LEFT_EYE_INNER\n",
      "PoseLandmark.LEFT_EYE\n",
      "PoseLandmark.LEFT_EYE_OUTER\n",
      "PoseLandmark.RIGHT_EYE_INNER\n",
      "PoseLandmark.RIGHT_EYE\n",
      "PoseLandmark.RIGHT_EYE_OUTER\n",
      "PoseLandmark.LEFT_EAR\n",
      "PoseLandmark.RIGHT_EAR\n",
      "PoseLandmark.MOUTH_LEFT\n",
      "PoseLandmark.MOUTH_RIGHT\n",
      "PoseLandmark.LEFT_SHOULDER\n",
      "PoseLandmark.RIGHT_SHOULDER\n",
      "PoseLandmark.LEFT_ELBOW\n",
      "PoseLandmark.RIGHT_ELBOW\n",
      "PoseLandmark.LEFT_WRIST\n",
      "PoseLandmark.RIGHT_WRIST\n",
      "PoseLandmark.LEFT_PINKY\n",
      "PoseLandmark.RIGHT_PINKY\n",
      "PoseLandmark.LEFT_INDEX\n",
      "PoseLandmark.RIGHT_INDEX\n",
      "PoseLandmark.LEFT_THUMB\n",
      "PoseLandmark.RIGHT_THUMB\n",
      "PoseLandmark.LEFT_HIP\n",
      "PoseLandmark.RIGHT_HIP\n",
      "PoseLandmark.LEFT_KNEE\n",
      "PoseLandmark.RIGHT_KNEE\n",
      "PoseLandmark.LEFT_ANKLE\n",
      "PoseLandmark.RIGHT_ANKLE\n",
      "PoseLandmark.LEFT_HEEL\n",
      "PoseLandmark.RIGHT_HEEL\n",
      "PoseLandmark.LEFT_FOOT_INDEX\n",
      "PoseLandmark.RIGHT_FOOT_INDEX\n"
     ]
    }
   ],
   "source": [
    "parts = []\n",
    "for i in mp_pose.PoseLandmark:\n",
    "    parts.append(i)\n",
    "    print(i)\n",
    "# print(parts[0])\n"
   ]
  },
  {
   "cell_type": "code",
   "execution_count": 18,
   "metadata": {},
   "outputs": [
    {
     "name": "stdout",
     "output_type": "stream",
     "text": [
      "0 PoseLandmark.NOSE\n",
      "1 PoseLandmark.LEFT_EYE_INNER\n",
      "2 PoseLandmark.LEFT_EYE\n",
      "3 PoseLandmark.LEFT_EYE_OUTER\n",
      "4 PoseLandmark.RIGHT_EYE_INNER\n",
      "5 PoseLandmark.RIGHT_EYE\n",
      "6 PoseLandmark.RIGHT_EYE_OUTER\n",
      "7 PoseLandmark.LEFT_EAR\n",
      "8 PoseLandmark.RIGHT_EAR\n",
      "9 PoseLandmark.MOUTH_LEFT\n",
      "10 PoseLandmark.MOUTH_RIGHT\n",
      "11 PoseLandmark.LEFT_SHOULDER\n",
      "12 PoseLandmark.RIGHT_SHOULDER\n",
      "13 PoseLandmark.LEFT_ELBOW\n",
      "14 PoseLandmark.RIGHT_ELBOW\n",
      "15 PoseLandmark.LEFT_WRIST\n",
      "16 PoseLandmark.RIGHT_WRIST\n",
      "17 PoseLandmark.LEFT_PINKY\n",
      "18 PoseLandmark.RIGHT_PINKY\n",
      "19 PoseLandmark.LEFT_INDEX\n",
      "20 PoseLandmark.RIGHT_INDEX\n",
      "21 PoseLandmark.LEFT_THUMB\n",
      "22 PoseLandmark.RIGHT_THUMB\n",
      "23 PoseLandmark.LEFT_HIP\n",
      "24 PoseLandmark.RIGHT_HIP\n",
      "25 PoseLandmark.LEFT_KNEE\n",
      "26 PoseLandmark.RIGHT_KNEE\n",
      "27 PoseLandmark.LEFT_ANKLE\n",
      "28 PoseLandmark.RIGHT_ANKLE\n",
      "29 PoseLandmark.LEFT_HEEL\n",
      "30 PoseLandmark.RIGHT_HEEL\n",
      "31 PoseLandmark.LEFT_FOOT_INDEX\n",
      "32 PoseLandmark.RIGHT_FOOT_INDEX\n"
     ]
    }
   ],
   "source": [
    "# parts = []            #this box just to watch keypoints for mapping, don't run this\n",
    "# for i in mp_pose.PoseLandmark:\n",
    "#     parts.append(i)\n",
    "#     print(i)\n",
    "# print(parts[0])\n",
    "\n",
    "\n",
    "parts = []\n",
    "for i,j in enumerate(mp_pose.PoseLandmark):\n",
    "    parts.append([i,j])\n",
    "    print(i,j)\n",
    "    # print(i)\n",
    "#print(parts[0])\n",
    "#parts"
   ]
  },
  {
   "cell_type": "code",
   "execution_count": 23,
   "metadata": {},
   "outputs": [
    {
     "data": {
      "text/plain": [
       "[0.4604352116584778,\n",
       " 0.3561433255672455,\n",
       " 0.9731125831604004,\n",
       " 0.4628114402294159,\n",
       " 0.33695217967033386,\n",
       " 0.972385585308075,\n",
       " 0.46822547912597656,\n",
       " 0.3345544934272766,\n",
       " 0.9740034937858582,\n",
       " 0.471802294254303,\n",
       " 0.3317236602306366,\n",
       " 0.9754640460014343,\n",
       " 0.4338865578174591,\n",
       " 0.3402397930622101,\n",
       " 0.9709947109222412,\n",
       " 0.4269915223121643,\n",
       " 0.341251403093338,\n",
       " 0.9690059423446655,\n",
       " 0.41992199420928955,\n",
       " 0.34194421768188477,\n",
       " 0.9667547345161438,\n",
       " 0.4742155075073242,\n",
       " 0.3267577290534973,\n",
       " 0.9717723727226257,\n",
       " 0.41413769125938416,\n",
       " 0.33577510714530945,\n",
       " 0.965660810470581,\n",
       " 0.47629302740097046,\n",
       " 0.36644691228866577,\n",
       " 0.9786620736122131,\n",
       " 0.45211341977119446,\n",
       " 0.36921191215515137,\n",
       " 0.9782891273498535,\n",
       " 0.550340473651886,\n",
       " 0.32762107253074646,\n",
       " 0.9909531474113464,\n",
       " 0.4017082452774048,\n",
       " 0.30769798159599304,\n",
       " 0.9937009215354919,\n",
       " 0.597824215888977,\n",
       " 0.4500338137149811,\n",
       " 0.6437898874282837,\n",
       " 0.3374226987361908,\n",
       " 0.3511563241481781,\n",
       " 0.6256596446037292,\n",
       " 0.5942329168319702,\n",
       " 0.6963298916816711,\n",
       " 0.6456901431083679,\n",
       " 0.3130340576171875,\n",
       " 0.6660822033882141,\n",
       " 0.6689527034759521,\n",
       " 0.5956412553787231,\n",
       " 0.7162466049194336,\n",
       " 0.6183488368988037,\n",
       " 0.2955191731452942,\n",
       " 0.7160161733627319,\n",
       " 0.6689109206199646,\n",
       " 0.49831077456474304,\n",
       " 0.7211937308311462,\n",
       " 0.6255792379379272,\n",
       " 0.31580880284309387,\n",
       " 0.7260065078735352,\n",
       " 0.6759451031684875]"
      ]
     },
     "execution_count": 23,
     "metadata": {},
     "output_type": "execute_result"
    }
   ],
   "source": [
    "for image_name in os.listdir(image_dir):\n",
    "    image_path = os.path.join(image_dir,image_name)\n",
    "    # print(image)\n",
    "    # print(image_path)\n",
    "    image = cv2.imread(image_path)\n",
    "    image = cv2.cvtColor(image, cv2.COLOR_BGR2RGB)\n",
    "    results = pose.process(image)\n",
    "    keypoints = []\n",
    "\n",
    "    if not results.pose_landmarks:\n",
    "        continue\n",
    "\n",
    "    for i in range(21):\n",
    "        keypoints.append(results.pose_landmarks.landmark[parts[i]].x)\n",
    "        keypoints.append(results.pose_landmarks.landmark[parts[i]].y)\n",
    "        keypoints.append(results.pose_landmarks.landmark[parts[i]].visibility)\n",
    "\n",
    "\n",
    "    # keypoints.append(results.pose_landmarks.landmark[parts[0]].x)\n",
    "    # keypoints.append(results.pose_landmarks.landmark[parts[0]].y)\n",
    "    # keypoints.append(results.pose_landmarks.landmark[parts[0]].visibility)\n",
    "    \n",
    "\n",
    "\n",
    "keypoints\n",
    "        \n",
    "    # for landmark in results.pose_landmarks.landmark:\n",
    "    #     keypoints.append({\n",
    "    #         'x': landmark.x,\n",
    "    #         'y': landmark.y,\n",
    "    #         'z': landmark.z if landmark.z != 0 else None,\n",
    "    #         'visibility': landmark.visibility if landmark.visibility != 0 else None\n",
    "    #     })"
   ]
  },
  {
   "cell_type": "code",
   "execution_count": 24,
   "metadata": {},
   "outputs": [
    {
     "data": {
      "text/plain": [
       "63"
      ]
     },
     "execution_count": 24,
     "metadata": {},
     "output_type": "execute_result"
    }
   ],
   "source": [
    "len(keypoints)"
   ]
  }
 ],
 "metadata": {
  "kernelspec": {
   "display_name": "basic_env",
   "language": "python",
   "name": "python3"
  },
  "language_info": {
   "codemirror_mode": {
    "name": "ipython",
    "version": 3
   },
   "file_extension": ".py",
   "mimetype": "text/x-python",
   "name": "python",
   "nbconvert_exporter": "python",
   "pygments_lexer": "ipython3",
   "version": "3.9.12"
  },
  "orig_nbformat": 4
 },
 "nbformat": 4,
 "nbformat_minor": 2
}
