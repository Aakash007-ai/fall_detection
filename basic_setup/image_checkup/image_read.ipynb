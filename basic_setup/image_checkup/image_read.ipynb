{
 "cells": [
  {
   "attachments": {},
   "cell_type": "markdown",
   "metadata": {},
   "source": [
    "we just read a image and process it with  mediapipe find x,y,z & visibility and store them in keypoints list\n",
    "also we annotate image and view it"
   ]
  },
  {
   "cell_type": "code",
   "execution_count": 1,
   "metadata": {},
   "outputs": [],
   "source": [
    "import cv2\n",
    "import mediapipe as mp"
   ]
  },
  {
   "cell_type": "code",
   "execution_count": 2,
   "metadata": {},
   "outputs": [],
   "source": [
    "mp_pose = mp.solutions.pose\n",
    "pose = mp_pose.Pose()"
   ]
  },
  {
   "cell_type": "code",
   "execution_count": 3,
   "metadata": {},
   "outputs": [],
   "source": [
    "image = cv2.imread('./test_images/fall001.jpg')"
   ]
  },
  {
   "cell_type": "code",
   "execution_count": 4,
   "metadata": {},
   "outputs": [],
   "source": [
    "image = cv2.cvtColor(image, cv2.COLOR_BGR2RGB)"
   ]
  },
  {
   "cell_type": "code",
   "execution_count": 5,
   "metadata": {},
   "outputs": [],
   "source": [
    "results = pose.process(image)"
   ]
  },
  {
   "cell_type": "code",
   "execution_count": 13,
   "metadata": {},
   "outputs": [],
   "source": [
    "keypoints = []\n",
    "# if results.pose_landmarks.landmark is not None: # code to find number of landmarks\n",
    "#     print(len(results.pose_landmarks.landmark))\n",
    "\n",
    "for landmark in results.pose_landmarks.landmark:\n",
    "    keypoints.append({\n",
    "        'x': landmark.x,\n",
    "        'y': landmark.y,\n",
    "        'z': landmark.z if landmark.z != 0 else None,\n",
    "        'visibility': landmark.visibility if landmark.visibility != 0 else None\n",
    "    })\n",
    "\n",
    "print(keypoints)"
   ]
  },
  {
   "cell_type": "code",
   "execution_count": 26,
   "metadata": {},
   "outputs": [
    {
     "name": "stdout",
     "output_type": "stream",
     "text": [
      "PoseLandmark.NOSE\n"
     ]
    }
   ],
   "source": [
    "keypoints = []\n",
    "# if results.pose_landmarks.landmark is not None: # code to find number of landmarks\n",
    "#     print(len(results.pose_landmarks.landmark))\n",
    "\n",
    "for landmark in results.pose_landmarks.landmark:\n",
    "    keypoints.append({\n",
    "        'x': landmark.x,\n",
    "        'y': landmark.y,\n",
    "        'z': landmark.z if landmark.z != 0 else None,\n",
    "        'visibility': landmark.visibility if landmark.visibility != 0 else None\n",
    "    })\n",
    "\n",
    "# for landmark in results.pose_landmarks:\n",
    "#     print(landmark[mp_pose.PoseLandmark.NOSE].x)\n",
    "\n",
    "# # generates a list of parts\n",
    "# parts = []\n",
    "# for i in mp_pose.PoseLandmark:\n",
    "#     parts.append(i)\n",
    "#     # print(i)\n",
    "# print(parts[0])\n"
   ]
  },
  {
   "cell_type": "code",
   "execution_count": 7,
   "metadata": {},
   "outputs": [
    {
     "data": {
      "text/plain": [
       "[{'x': 0.34443360567092896,\n",
       "  'y': 0.5294674038887024,\n",
       "  'z': -0.03789399191737175,\n",
       "  'visibility': 0.9995402097702026},\n",
       " {'x': 0.3338438868522644,\n",
       "  'y': 0.5369606018066406,\n",
       "  'z': -0.02876594103872776,\n",
       "  'visibility': 0.9991220831871033},\n",
       " {'x': 0.3336215615272522,\n",
       "  'y': 0.5387973785400391,\n",
       "  'z': -0.02882610820233822,\n",
       "  'visibility': 0.9985546469688416},\n",
       " {'x': 0.33347049355506897,\n",
       "  'y': 0.5406666994094849,\n",
       "  'z': -0.028885262086987495,\n",
       "  'visibility': 0.9991911053657532},\n",
       " {'x': 0.33348754048347473,\n",
       "  'y': 0.5376312136650085,\n",
       "  'z': -0.057519640773534775,\n",
       "  'visibility': 0.9992450475692749},\n",
       " {'x': 0.33296555280685425,\n",
       "  'y': 0.5399423241615295,\n",
       "  'z': -0.057496510446071625,\n",
       "  'visibility': 0.9991567134857178},\n",
       " {'x': 0.3324597477912903,\n",
       "  'y': 0.5422985553741455,\n",
       "  'z': -0.05746921896934509,\n",
       "  'visibility': 0.9990819692611694},\n",
       " {'x': 0.3364211320877075,\n",
       "  'y': 0.5575381517410278,\n",
       "  'z': 0.03192286193370819,\n",
       "  'visibility': 0.9991925358772278},\n",
       " {'x': 0.3352639079093933,\n",
       "  'y': 0.5598042607307434,\n",
       "  'z': -0.10081993043422699,\n",
       "  'visibility': 0.9992846846580505},\n",
       " {'x': 0.35107165575027466,\n",
       "  'y': 0.5361912250518799,\n",
       "  'z': -0.0124105429276824,\n",
       "  'visibility': 0.9974969029426575},\n",
       " {'x': 0.35026708245277405,\n",
       "  'y': 0.5369502305984497,\n",
       "  'z': -0.05092967301607132,\n",
       "  'visibility': 0.9976521134376526},\n",
       " {'x': 0.3768417239189148,\n",
       "  'y': 0.5612164735794067,\n",
       "  'z': 0.1122114434838295,\n",
       "  'visibility': 0.999326229095459},\n",
       " {'x': 0.3679218888282776,\n",
       "  'y': 0.5896062850952148,\n",
       "  'z': -0.15122202038764954,\n",
       "  'visibility': 0.9990034699440002},\n",
       " {'x': 0.4226576089859009,\n",
       "  'y': 0.5345706343650818,\n",
       "  'z': 0.2338968962430954,\n",
       "  'visibility': 0.013933680020272732},\n",
       " {'x': 0.3366268575191498,\n",
       "  'y': 0.5549532175064087,\n",
       "  'z': -0.28754743933677673,\n",
       "  'visibility': 0.9891480803489685},\n",
       " {'x': 0.46473458409309387,\n",
       "  'y': 0.5203108787536621,\n",
       "  'z': 0.2658231258392334,\n",
       "  'visibility': 0.0438804030418396},\n",
       " {'x': 0.32534724473953247,\n",
       "  'y': 0.5476577877998352,\n",
       "  'z': -0.2772962152957916,\n",
       "  'visibility': 0.7441828846931458},\n",
       " {'x': 0.4716498851776123,\n",
       "  'y': 0.51242995262146,\n",
       "  'z': 0.2797265648841858,\n",
       "  'visibility': 0.07674860209226608},\n",
       " {'x': 0.323999285697937,\n",
       "  'y': 0.5543615221977234,\n",
       "  'z': -0.3003387451171875,\n",
       "  'visibility': 0.6267005801200867},\n",
       " {'x': 0.47057202458381653,\n",
       "  'y': 0.5131591558456421,\n",
       "  'z': 0.253609299659729,\n",
       "  'visibility': 0.0859765037894249},\n",
       " {'x': 0.33097538352012634,\n",
       "  'y': 0.5523912906646729,\n",
       "  'z': -0.2805109918117523,\n",
       "  'visibility': 0.5888239741325378},\n",
       " {'x': 0.4693271219730377,\n",
       "  'y': 0.5193592309951782,\n",
       "  'z': 0.2551858127117157,\n",
       "  'visibility': 0.09037654101848602},\n",
       " {'x': 0.3321441411972046,\n",
       "  'y': 0.5514877438545227,\n",
       "  'z': -0.27074506878852844,\n",
       "  'visibility': 0.5617649555206299},\n",
       " {'x': 0.5064890384674072,\n",
       "  'y': 0.5607351660728455,\n",
       "  'z': 0.09014870226383209,\n",
       "  'visibility': 0.9999631643295288},\n",
       " {'x': 0.5045263767242432,\n",
       "  'y': 0.5676756501197815,\n",
       "  'z': -0.09022951126098633,\n",
       "  'visibility': 0.9998629093170166},\n",
       " {'x': 0.6019798517227173,\n",
       "  'y': 0.5505615472793579,\n",
       "  'z': 0.08609580248594284,\n",
       "  'visibility': 0.7398645281791687},\n",
       " {'x': 0.5691770911216736,\n",
       "  'y': 0.4538061022758484,\n",
       "  'z': -0.0996437817811966,\n",
       "  'visibility': 0.9935755133628845},\n",
       " {'x': 0.694560170173645,\n",
       "  'y': 0.5632811784744263,\n",
       "  'z': 0.11671680957078934,\n",
       "  'visibility': 0.9350460171699524},\n",
       " {'x': 0.5906649827957153,\n",
       "  'y': 0.5899012088775635,\n",
       "  'z': 0.01818053238093853,\n",
       "  'visibility': 0.9898290038108826},\n",
       " {'x': 0.7062591314315796,\n",
       "  'y': 0.5819322466850281,\n",
       "  'z': 0.11790478974580765,\n",
       "  'visibility': 0.9188172817230225},\n",
       " {'x': 0.5810149312019348,\n",
       "  'y': 0.6176068782806396,\n",
       "  'z': 0.0308714359998703,\n",
       "  'visibility': 0.9700865149497986},\n",
       " {'x': 0.710349977016449,\n",
       "  'y': 0.5289781093597412,\n",
       "  'z': 0.08948839455842972,\n",
       "  'visibility': 0.9548907279968262},\n",
       " {'x': 0.6292580366134644,\n",
       "  'y': 0.6029475927352905,\n",
       "  'z': 0.0436684750020504,\n",
       "  'visibility': 0.9854443669319153}]"
      ]
     },
     "execution_count": 7,
     "metadata": {},
     "output_type": "execute_result"
    }
   ],
   "source": [
    "keypoints"
   ]
  },
  {
   "cell_type": "code",
   "execution_count": 8,
   "metadata": {},
   "outputs": [],
   "source": [
    "image.shape\n",
    "# Get the image height and width\n",
    "image_height, image_width, _ = image.shape"
   ]
  },
  {
   "cell_type": "code",
   "execution_count": 9,
   "metadata": {},
   "outputs": [],
   "source": [
    "for landmark in results.pose_landmarks.landmark:\n",
    "    x, y = int(landmark.x * image_width), int(landmark.y * image_height)\n",
    "    cv2.circle(image, (x, y), radius=5, color=(0, 0, 255), thickness=-1)"
   ]
  },
  {
   "cell_type": "code",
   "execution_count": 10,
   "metadata": {},
   "outputs": [],
   "source": [
    "# Display the annotated image\n",
    "cv2.imshow('Annotated Image', image)\n",
    "cv2.waitKey(0)\n",
    "cv2.destroyAllWindows()"
   ]
  },
  {
   "cell_type": "code",
   "execution_count": 11,
   "metadata": {},
   "outputs": [
    {
     "data": {
      "text/plain": [
       "True"
      ]
     },
     "execution_count": 11,
     "metadata": {},
     "output_type": "execute_result"
    }
   ],
   "source": [
    "# Save the annotated image\n",
    "cv2.imwrite('./output_image/annotated_image.jpg', image)"
   ]
  }
 ],
 "metadata": {
  "kernelspec": {
   "display_name": "basic_env",
   "language": "python",
   "name": "python3"
  },
  "language_info": {
   "codemirror_mode": {
    "name": "ipython",
    "version": 3
   },
   "file_extension": ".py",
   "mimetype": "text/x-python",
   "name": "python",
   "nbconvert_exporter": "python",
   "pygments_lexer": "ipython3",
   "version": "3.9.12"
  },
  "orig_nbformat": 4
 },
 "nbformat": 4,
 "nbformat_minor": 2
}
