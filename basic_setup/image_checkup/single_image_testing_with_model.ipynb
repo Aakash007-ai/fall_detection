{
 "cells": [
  {
   "cell_type": "code",
   "execution_count": 8,
   "metadata": {},
   "outputs": [],
   "source": [
    "import os\n",
    "import cv2\n",
    "import mediapipe as mp"
   ]
  },
  {
   "cell_type": "code",
   "execution_count": 9,
   "metadata": {},
   "outputs": [],
   "source": [
    "mp_pose = mp.solutions.pose\n",
    "pose = mp_pose.Pose()"
   ]
  },
  {
   "cell_type": "code",
   "execution_count": 10,
   "metadata": {},
   "outputs": [],
   "source": [
    "# image = cv2.imread('./fall/fall001.jpg')\n",
    "# image = cv2.cvtColor(image, cv2.COLOR_BGR2RGB)\n",
    "image = cv2.imread('./not_fall/not_f.jpg')\n",
    "image = cv2.cvtColor(image, cv2.COLOR_BGR2RGB)"
   ]
  },
  {
   "cell_type": "code",
   "execution_count": 11,
   "metadata": {},
   "outputs": [],
   "source": [
    "results = pose.process(image)"
   ]
  },
  {
   "cell_type": "code",
   "execution_count": 12,
   "metadata": {},
   "outputs": [],
   "source": [
    "# parts = []\n",
    "# for i,j in enumerate(mp_pose.PoseLandmark):\n",
    "#     parts.append(f'{j}')\n",
    "\n",
    "# parts\n",
    "\n",
    "# parts = []\n",
    "# for i in mp_pose.PoseLandmark:\n",
    "#     parts.append(i)\n",
    "#     print(i)\n",
    "\n",
    "# print(type(parts[0]))\n",
    "# print(type(parts))"
   ]
  },
  {
   "cell_type": "code",
   "execution_count": 13,
   "metadata": {},
   "outputs": [],
   "source": [
    "# keypoints = []\n",
    "# for i in parts:\n",
    "#     keypoints.append(results.pose_landmarks.landmark[i].x)\n",
    "#     keypoints.append(results.pose_landmarks.landmark[i].y)\n",
    "#     keypoints.append(results.pose_landmarks.landmark[i].visibility)"
   ]
  },
  {
   "cell_type": "code",
   "execution_count": 14,
   "metadata": {},
   "outputs": [],
   "source": [
    "# keypoints"
   ]
  },
  {
   "cell_type": "code",
   "execution_count": 15,
   "metadata": {},
   "outputs": [],
   "source": [
    "# from enum import Enum\n",
    "\n",
    "# class PoseLandmark(Enum):\n",
    "#     NOSE = 0\n",
    "#     NECK = 1\n",
    "#     RIGHT_SHOULDER = 2\n",
    "#     RIGHT_ELBOW = 3\n",
    "#     RIGHT_WRIST = 4\n",
    "#     LEFT_SHOULDER = 5\n",
    "#     LEFT_ELBOW = 6\n",
    "#     LEFT_WRIST = 7\n",
    "#     MID_HIP = 8\n",
    "#     RIGHT_HIP = 9\n",
    "#     RIGHT_KNEE = 10\n",
    "#     RIGHT_ANKLE = 11\n",
    "#     LEFT_HIP = 12\n",
    "#     LEFT_KNEE = 13\n",
    "#     LEFT_ANKLE = 14\n",
    "#     LEFT_FOOT_INDEX = 15\n",
    "#     LEFT_HEEL = 16\n",
    "#     RIGHT_FOOT_INDEX = 17\n",
    "#     RIGHT_HEEL = 18\n"
   ]
  },
  {
   "cell_type": "code",
   "execution_count": 16,
   "metadata": {},
   "outputs": [],
   "source": [
    "# class PoseLandmark(Enum):\n",
    "#     NOSE = 0\n",
    "#     NECK = 1\n",
    "#     RIGHT_SHOULDER = 2\n",
    "#     RIGHT_ELBOW = 3\n",
    "#     RIGHT_WRIST = 4\n",
    "#     LEFT_SHOULDER = 5\n",
    "#     LEFT_ELBOW = 6\n",
    "#     LEFT_WRIST = 7\n",
    "#     MID_HIP = 8\n",
    "#     RIGHT_HIP = 9\n",
    "#     RIGHT_KNEE = 10\n",
    "#     RIGHT_ANKLE = 11\n",
    "#     LEFT_HIP = 12\n",
    "#     LEFT_KNEE = 13\n",
    "#     LEFT_ANKLE = 14\n",
    "#     LEFT_FOOT_INDEX = 15\n",
    "    # LEFT_ANKLE = 16\n",
    "    # LEFT_HEEL = 17\n",
    "    # RIGHT_FOOT_INDEX = 18\n",
    "    # RIGHT_ANKLE = 19\n",
    "    # RIGHT_HEEL = 20\n",
    "    # back = 21"
   ]
  },
  {
   "cell_type": "code",
   "execution_count": 17,
   "metadata": {},
   "outputs": [],
   "source": [
    "# from enum import Enum\n",
    "\n",
    "# class PoseLandmark(Enum):\n",
    "#     NOSE = 0\n",
    "#     RIGHT_SHOULDER = 1\n",
    "#     RIGHT_ELBOW = 2\n",
    "#     RIGHT_WRIST = 3\n",
    "#     LEFT_SHOULDER = 4\n",
    "#     LEFT_ELBOW = 5\n",
    "#     LEFT_WRIST = 6\n",
    "#     RIGHT_HIP = 7\n",
    "#     RIGHT_KNEE = 8\n",
    "#     RIGHT_ANKLE = 9\n",
    "#     LEFT_HIP = 10\n",
    "#     LEFT_KNEE = 11\n",
    "#     LEFT_ANKLE = 12\n",
    "#     LEFT_FOOT_INDEX = 13\n",
    "#     LEFT_HEEL = 14\n",
    "#     RIGHT_FOOT_INDEX = 15\n",
    "#     RIGHT_HEEL = 16"
   ]
  },
  {
   "cell_type": "code",
   "execution_count": 18,
   "metadata": {},
   "outputs": [],
   "source": [
    "# for i in PoseLandmark:\n",
    "#     print(i)"
   ]
  },
  {
   "cell_type": "code",
   "execution_count": 19,
   "metadata": {},
   "outputs": [],
   "source": [
    "# keypoints = []\n",
    "# # for i in PoseLandmark:\n",
    "# keypoints.append(results.pose_landmarks.landmark[mp_pose.PoseLandmark.NOSE].x)\n",
    "# keypoints.append(results.pose_landmarks.landmark[mp_pose.PoseLandmark.NOSE].y)\n",
    "# keypoints.append(results.pose_landmarks.landmark[mp_pose.PoseLandmark.NOSE].visibility)"
   ]
  },
  {
   "cell_type": "code",
   "execution_count": 20,
   "metadata": {},
   "outputs": [],
   "source": [
    "keypoints = []\n",
    "keypoints.append(results.pose_landmarks.landmark[mp_pose.PoseLandmark.NOSE].x)\n",
    "keypoints.append(results.pose_landmarks.landmark[mp_pose.PoseLandmark.NOSE].y)\n",
    "keypoints.append(results.pose_landmarks.landmark[mp_pose.PoseLandmark.NOSE].visibility)\n",
    "\n",
    "keypoints.append(results.pose_landmarks.landmark[mp_pose.PoseLandmark.RIGHT_SHOULDER].x)\n",
    "keypoints.append(results.pose_landmarks.landmark[mp_pose.PoseLandmark.RIGHT_SHOULDER].y)\n",
    "keypoints.append(results.pose_landmarks.landmark[mp_pose.PoseLandmark.RIGHT_SHOULDER].visibility)\n",
    "\n",
    "keypoints.append(results.pose_landmarks.landmark[mp_pose.PoseLandmark.RIGHT_ELBOW].x)\n",
    "keypoints.append(results.pose_landmarks.landmark[mp_pose.PoseLandmark.RIGHT_ELBOW].y)\n",
    "keypoints.append(results.pose_landmarks.landmark[mp_pose.PoseLandmark.RIGHT_ELBOW].visibility)\n",
    "\n",
    "keypoints.append(results.pose_landmarks.landmark[mp_pose.PoseLandmark.RIGHT_WRIST].x)\n",
    "keypoints.append(results.pose_landmarks.landmark[mp_pose.PoseLandmark.RIGHT_WRIST].y)\n",
    "keypoints.append(results.pose_landmarks.landmark[mp_pose.PoseLandmark.RIGHT_WRIST].visibility)\n",
    "\n",
    "keypoints.append(results.pose_landmarks.landmark[mp_pose.PoseLandmark.LEFT_SHOULDER].x)\n",
    "keypoints.append(results.pose_landmarks.landmark[mp_pose.PoseLandmark.LEFT_SHOULDER].y)\n",
    "keypoints.append(results.pose_landmarks.landmark[mp_pose.PoseLandmark.LEFT_SHOULDER].visibility)\n",
    "\n",
    "keypoints.append(results.pose_landmarks.landmark[mp_pose.PoseLandmark.LEFT_ELBOW].x)\n",
    "keypoints.append(results.pose_landmarks.landmark[mp_pose.PoseLandmark.LEFT_ELBOW].y)\n",
    "keypoints.append(results.pose_landmarks.landmark[mp_pose.PoseLandmark.LEFT_ELBOW].visibility)\n",
    "\n",
    "keypoints.append(results.pose_landmarks.landmark[mp_pose.PoseLandmark.LEFT_WRIST].x)\n",
    "keypoints.append(results.pose_landmarks.landmark[mp_pose.PoseLandmark.LEFT_WRIST].y)\n",
    "keypoints.append(results.pose_landmarks.landmark[mp_pose.PoseLandmark.LEFT_WRIST].visibility)\n",
    "\n",
    "keypoints.append(results.pose_landmarks.landmark[mp_pose.PoseLandmark.RIGHT_HIP].x)\n",
    "keypoints.append(results.pose_landmarks.landmark[mp_pose.PoseLandmark.RIGHT_HIP].y)\n",
    "keypoints.append(results.pose_landmarks.landmark[mp_pose.PoseLandmark.RIGHT_HIP].visibility)\n",
    "\n",
    "keypoints.append(results.pose_landmarks.landmark[mp_pose.PoseLandmark.RIGHT_KNEE].x)\n",
    "keypoints.append(results.pose_landmarks.landmark[mp_pose.PoseLandmark.RIGHT_KNEE].y)\n",
    "keypoints.append(results.pose_landmarks.landmark[mp_pose.PoseLandmark.RIGHT_KNEE].visibility)\n",
    "\n",
    "keypoints.append(results.pose_landmarks.landmark[mp_pose.PoseLandmark.RIGHT_ANKLE].x)\n",
    "keypoints.append(results.pose_landmarks.landmark[mp_pose.PoseLandmark.RIGHT_ANKLE].y)\n",
    "keypoints.append(results.pose_landmarks.landmark[mp_pose.PoseLandmark.RIGHT_ANKLE].visibility)\n",
    "\n",
    "keypoints.append(results.pose_landmarks.landmark[mp_pose.PoseLandmark.LEFT_HIP].x)\n",
    "keypoints.append(results.pose_landmarks.landmark[mp_pose.PoseLandmark.LEFT_HIP].y)\n",
    "keypoints.append(results.pose_landmarks.landmark[mp_pose.PoseLandmark.LEFT_HIP].visibility)\n",
    "\n",
    "keypoints.append(results.pose_landmarks.landmark[mp_pose.PoseLandmark.LEFT_KNEE].x)\n",
    "keypoints.append(results.pose_landmarks.landmark[mp_pose.PoseLandmark.LEFT_KNEE].y)\n",
    "keypoints.append(results.pose_landmarks.landmark[mp_pose.PoseLandmark.LEFT_KNEE].visibility)\n",
    "\n",
    "keypoints.append(results.pose_landmarks.landmark[mp_pose.PoseLandmark.LEFT_ANKLE].x)\n",
    "keypoints.append(results.pose_landmarks.landmark[mp_pose.PoseLandmark.LEFT_ANKLE].y)\n",
    "keypoints.append(results.pose_landmarks.landmark[mp_pose.PoseLandmark.LEFT_ANKLE].visibility)\n",
    "\n",
    "keypoints.append(results.pose_landmarks.landmark[mp_pose.PoseLandmark.LEFT_FOOT_INDEX].x)\n",
    "keypoints.append(results.pose_landmarks.landmark[mp_pose.PoseLandmark.LEFT_FOOT_INDEX].y)\n",
    "keypoints.append(results.pose_landmarks.landmark[mp_pose.PoseLandmark.LEFT_FOOT_INDEX].visibility)\n",
    "\n",
    "keypoints.append(results.pose_landmarks.landmark[mp_pose.PoseLandmark.LEFT_HEEL].x)\n",
    "keypoints.append(results.pose_landmarks.landmark[mp_pose.PoseLandmark.LEFT_HEEL].y)\n",
    "keypoints.append(results.pose_landmarks.landmark[mp_pose.PoseLandmark.LEFT_HEEL].visibility)\n",
    "\n",
    "keypoints.append(results.pose_landmarks.landmark[mp_pose.PoseLandmark.RIGHT_FOOT_INDEX].x)\n",
    "keypoints.append(results.pose_landmarks.landmark[mp_pose.PoseLandmark.RIGHT_FOOT_INDEX].y)\n",
    "keypoints.append(results.pose_landmarks.landmark[mp_pose.PoseLandmark.RIGHT_FOOT_INDEX].visibility)\n",
    "\n",
    "keypoints.append(results.pose_landmarks.landmark[mp_pose.PoseLandmark.RIGHT_HEEL].x)\n",
    "keypoints.append(results.pose_landmarks.landmark[mp_pose.PoseLandmark.RIGHT_HEEL].y)\n",
    "keypoints.append(results.pose_landmarks.landmark[mp_pose.PoseLandmark.RIGHT_HEEL].visibility)"
   ]
  },
  {
   "cell_type": "code",
   "execution_count": 21,
   "metadata": {},
   "outputs": [
    {
     "name": "stdout",
     "output_type": "stream",
     "text": [
      "51\n"
     ]
    }
   ],
   "source": [
    "print(len(keypoints))"
   ]
  },
  {
   "cell_type": "code",
   "execution_count": 22,
   "metadata": {},
   "outputs": [
    {
     "name": "stdout",
     "output_type": "stream",
     "text": [
      "51\n"
     ]
    }
   ],
   "source": [
    "# image_path = \n",
    "# print(image)\n",
    "# print(image_path)\n",
    "# image = cv2.imread('./test_images/fall001.jpg')\n",
    "# image = cv2.cvtColor(image, cv2.COLOR_BGR2RGB)\n",
    "# results = pose.process(image)\n",
    "# keypoints = []\n",
    "\n",
    "# for i,j in enumerate(PoseLandmark):\n",
    "#         if results.pose_landmarks:\n",
    "#             keypoints.append(results.pose_landmarks[j].x)\n",
    "#             keypoints.append(results.pose_landmarks.landmark[parts[i]].y)\n",
    "#             keypoints.append(results.pose_landmarks.landmark[parts[i]].visibility)\n",
    "\n",
    "\n",
    "# if results.pose_landmarks:\n",
    "#     for i,j in enumerate(PoseLandmark):\n",
    "#         if i==1:\n",
    "#             continue\n",
    "#         elif i==10:\n",
    "#             continue\n",
    "#         else :\n",
    "#             keypoints.append(results.pose_landmarks[parts[i]].x)\n",
    "#             keypoints.append(results.pose_landmarks.landmark[parts[i]].y)\n",
    "#             keypoints.append(results.pose_landmarks.landmark[parts[i]].visibility)\n",
    "\n",
    "    \n",
    "    # for i in range(21):\n",
    "    #     keypoints.append(results.pose_landmarks.landmark[parts[i]].x)\n",
    "    #     keypoints.append(results.pose_landmarks.landmark[parts[i]].y)\n",
    "    #     keypoints.append(results.pose_landmarks.landmark[parts[i]].visibility)\n",
    "print(len(keypoints))"
   ]
  },
  {
   "cell_type": "code",
   "execution_count": 23,
   "metadata": {},
   "outputs": [],
   "source": [
    "# !pip install tensorflow"
   ]
  },
  {
   "cell_type": "code",
   "execution_count": 24,
   "metadata": {},
   "outputs": [],
   "source": [
    "# pip install keras"
   ]
  },
  {
   "cell_type": "code",
   "execution_count": 25,
   "metadata": {},
   "outputs": [
    {
     "name": "stdout",
     "output_type": "stream",
     "text": [
      "Requirement already satisfied: tensorflow in f:\\fall_detection_project\\basic_env\\lib\\site-packages (2.12.0)Note: you may need to restart the kernel to use updated packages.\n",
      "\n",
      "Requirement already satisfied: tensorflow-intel==2.12.0 in f:\\fall_detection_project\\basic_env\\lib\\site-packages (from tensorflow) (2.12.0)\n",
      "Requirement already satisfied: flatbuffers>=2.0 in f:\\fall_detection_project\\basic_env\\lib\\site-packages (from tensorflow-intel==2.12.0->tensorflow) (23.3.3)\n",
      "Requirement already satisfied: grpcio<2.0,>=1.24.3 in f:\\fall_detection_project\\basic_env\\lib\\site-packages (from tensorflow-intel==2.12.0->tensorflow) (1.54.0)\n",
      "Requirement already satisfied: opt-einsum>=2.3.2 in f:\\fall_detection_project\\basic_env\\lib\\site-packages (from tensorflow-intel==2.12.0->tensorflow) (3.3.0)\n",
      "Requirement already satisfied: google-pasta>=0.1.1 in f:\\fall_detection_project\\basic_env\\lib\\site-packages (from tensorflow-intel==2.12.0->tensorflow) (0.2.0)\n",
      "Requirement already satisfied: libclang>=13.0.0 in f:\\fall_detection_project\\basic_env\\lib\\site-packages (from tensorflow-intel==2.12.0->tensorflow) (16.0.0)\n",
      "Requirement already satisfied: tensorflow-estimator<2.13,>=2.12.0 in f:\\fall_detection_project\\basic_env\\lib\\site-packages (from tensorflow-intel==2.12.0->tensorflow) (2.12.0)\n",
      "Requirement already satisfied: protobuf!=4.21.0,!=4.21.1,!=4.21.2,!=4.21.3,!=4.21.4,!=4.21.5,<5.0.0dev,>=3.20.3 in f:\\fall_detection_project\\basic_env\\lib\\site-packages (from tensorflow-intel==2.12.0->tensorflow) (3.20.3)\n",
      "Requirement already satisfied: setuptools in f:\\fall_detection_project\\basic_env\\lib\\site-packages (from tensorflow-intel==2.12.0->tensorflow) (58.1.0)\n",
      "Requirement already satisfied: absl-py>=1.0.0 in f:\\fall_detection_project\\basic_env\\lib\\site-packages (from tensorflow-intel==2.12.0->tensorflow) (1.4.0)\n",
      "Requirement already satisfied: tensorflow-io-gcs-filesystem>=0.23.1 in f:\\fall_detection_project\\basic_env\\lib\\site-packages (from tensorflow-intel==2.12.0->tensorflow) (0.31.0)\n",
      "Requirement already satisfied: jax>=0.3.15 in f:\\fall_detection_project\\basic_env\\lib\\site-packages (from tensorflow-intel==2.12.0->tensorflow) (0.4.8)\n",
      "Requirement already satisfied: gast<=0.4.0,>=0.2.1 in f:\\fall_detection_project\\basic_env\\lib\\site-packages (from tensorflow-intel==2.12.0->tensorflow) (0.4.0)\n",
      "Requirement already satisfied: typing-extensions>=3.6.6 in f:\\fall_detection_project\\basic_env\\lib\\site-packages (from tensorflow-intel==2.12.0->tensorflow) (4.5.0)\n",
      "Requirement already satisfied: astunparse>=1.6.0 in f:\\fall_detection_project\\basic_env\\lib\\site-packages (from tensorflow-intel==2.12.0->tensorflow) (1.6.3)\n",
      "Requirement already satisfied: tensorboard<2.13,>=2.12 in f:\\fall_detection_project\\basic_env\\lib\\site-packages (from tensorflow-intel==2.12.0->tensorflow) (2.12.3)\n",
      "Requirement already satisfied: six>=1.12.0 in f:\\fall_detection_project\\basic_env\\lib\\site-packages (from tensorflow-intel==2.12.0->tensorflow) (1.16.0)\n",
      "Requirement already satisfied: h5py>=2.9.0 in f:\\fall_detection_project\\basic_env\\lib\\site-packages (from tensorflow-intel==2.12.0->tensorflow) (3.8.0)\n",
      "Requirement already satisfied: wrapt<1.15,>=1.11.0 in f:\\fall_detection_project\\basic_env\\lib\\site-packages (from tensorflow-intel==2.12.0->tensorflow) (1.14.1)\n",
      "Requirement already satisfied: termcolor>=1.1.0 in f:\\fall_detection_project\\basic_env\\lib\\site-packages (from tensorflow-intel==2.12.0->tensorflow) (2.3.0)\n",
      "Requirement already satisfied: numpy<1.24,>=1.22 in f:\\fall_detection_project\\basic_env\\lib\\site-packages (from tensorflow-intel==2.12.0->tensorflow) (1.23.5)\n",
      "Requirement already satisfied: keras<2.13,>=2.12.0 in f:\\fall_detection_project\\basic_env\\lib\\site-packages (from tensorflow-intel==2.12.0->tensorflow) (2.12.0)\n",
      "Requirement already satisfied: packaging in f:\\fall_detection_project\\basic_env\\lib\\site-packages (from tensorflow-intel==2.12.0->tensorflow) (23.1)\n",
      "Requirement already satisfied: wheel<1.0,>=0.23.0 in f:\\fall_detection_project\\basic_env\\lib\\site-packages (from astunparse>=1.6.0->tensorflow-intel==2.12.0->tensorflow) (0.40.0)\n",
      "Requirement already satisfied: ml-dtypes>=0.0.3 in f:\\fall_detection_project\\basic_env\\lib\\site-packages (from jax>=0.3.15->tensorflow-intel==2.12.0->tensorflow) (0.1.0)\n",
      "Requirement already satisfied: scipy>=1.7 in f:\\fall_detection_project\\basic_env\\lib\\site-packages (from jax>=0.3.15->tensorflow-intel==2.12.0->tensorflow) (1.10.1)\n",
      "Requirement already satisfied: werkzeug>=1.0.1 in f:\\fall_detection_project\\basic_env\\lib\\site-packages (from tensorboard<2.13,>=2.12->tensorflow-intel==2.12.0->tensorflow) (2.3.4)\n",
      "Requirement already satisfied: tensorboard-data-server<0.8.0,>=0.7.0 in f:\\fall_detection_project\\basic_env\\lib\\site-packages (from tensorboard<2.13,>=2.12->tensorflow-intel==2.12.0->tensorflow) (0.7.0)\n",
      "Requirement already satisfied: google-auth-oauthlib<1.1,>=0.5 in f:\\fall_detection_project\\basic_env\\lib\\site-packages (from tensorboard<2.13,>=2.12->tensorflow-intel==2.12.0->tensorflow) (1.0.0)\n",
      "Requirement already satisfied: google-auth<3,>=1.6.3 in f:\\fall_detection_project\\basic_env\\lib\\site-packages (from tensorboard<2.13,>=2.12->tensorflow-intel==2.12.0->tensorflow) (2.17.3)\n",
      "Requirement already satisfied: requests<3,>=2.21.0 in f:\\fall_detection_project\\basic_env\\lib\\site-packages (from tensorboard<2.13,>=2.12->tensorflow-intel==2.12.0->tensorflow) (2.30.0)\n",
      "Requirement already satisfied: markdown>=2.6.8 in f:\\fall_detection_project\\basic_env\\lib\\site-packages (from tensorboard<2.13,>=2.12->tensorflow-intel==2.12.0->tensorflow) (3.4.3)\n",
      "Requirement already satisfied: rsa<5,>=3.1.4 in f:\\fall_detection_project\\basic_env\\lib\\site-packages (from google-auth<3,>=1.6.3->tensorboard<2.13,>=2.12->tensorflow-intel==2.12.0->tensorflow) (4.9)\n",
      "Requirement already satisfied: cachetools<6.0,>=2.0.0 in f:\\fall_detection_project\\basic_env\\lib\\site-packages (from google-auth<3,>=1.6.3->tensorboard<2.13,>=2.12->tensorflow-intel==2.12.0->tensorflow) (5.3.0)\n",
      "Requirement already satisfied: pyasn1-modules>=0.2.1 in f:\\fall_detection_project\\basic_env\\lib\\site-packages (from google-auth<3,>=1.6.3->tensorboard<2.13,>=2.12->tensorflow-intel==2.12.0->tensorflow) (0.3.0)\n",
      "Requirement already satisfied: requests-oauthlib>=0.7.0 in f:\\fall_detection_project\\basic_env\\lib\\site-packages (from google-auth-oauthlib<1.1,>=0.5->tensorboard<2.13,>=2.12->tensorflow-intel==2.12.0->tensorflow) (1.3.1)\n",
      "Requirement already satisfied: importlib-metadata>=4.4 in f:\\fall_detection_project\\basic_env\\lib\\site-packages (from markdown>=2.6.8->tensorboard<2.13,>=2.12->tensorflow-intel==2.12.0->tensorflow) (6.6.0)\n",
      "Requirement already satisfied: certifi>=2017.4.17 in f:\\fall_detection_project\\basic_env\\lib\\site-packages (from requests<3,>=2.21.0->tensorboard<2.13,>=2.12->tensorflow-intel==2.12.0->tensorflow) (2023.5.7)\n",
      "Requirement already satisfied: charset-normalizer<4,>=2 in f:\\fall_detection_project\\basic_env\\lib\\site-packages (from requests<3,>=2.21.0->tensorboard<2.13,>=2.12->tensorflow-intel==2.12.0->tensorflow) (3.1.0)\n",
      "Requirement already satisfied: urllib3<3,>=1.21.1 in f:\\fall_detection_project\\basic_env\\lib\\site-packages (from requests<3,>=2.21.0->tensorboard<2.13,>=2.12->tensorflow-intel==2.12.0->tensorflow) (2.0.2)\n",
      "Requirement already satisfied: idna<4,>=2.5 in f:\\fall_detection_project\\basic_env\\lib\\site-packages (from requests<3,>=2.21.0->tensorboard<2.13,>=2.12->tensorflow-intel==2.12.0->tensorflow) (3.4)\n",
      "Requirement already satisfied: MarkupSafe>=2.1.1 in f:\\fall_detection_project\\basic_env\\lib\\site-packages (from werkzeug>=1.0.1->tensorboard<2.13,>=2.12->tensorflow-intel==2.12.0->tensorflow) (2.1.2)\n",
      "Requirement already satisfied: zipp>=0.5 in f:\\fall_detection_project\\basic_env\\lib\\site-packages (from importlib-metadata>=4.4->markdown>=2.6.8->tensorboard<2.13,>=2.12->tensorflow-intel==2.12.0->tensorflow) (3.15.0)\n",
      "Requirement already satisfied: pyasn1<0.6.0,>=0.4.6 in f:\\fall_detection_project\\basic_env\\lib\\site-packages (from pyasn1-modules>=0.2.1->google-auth<3,>=1.6.3->tensorboard<2.13,>=2.12->tensorflow-intel==2.12.0->tensorflow) (0.5.0)\n",
      "Requirement already satisfied: oauthlib>=3.0.0 in f:\\fall_detection_project\\basic_env\\lib\\site-packages (from requests-oauthlib>=0.7.0->google-auth-oauthlib<1.1,>=0.5->tensorboard<2.13,>=2.12->tensorflow-intel==2.12.0->tensorflow) (3.2.2)\n"
     ]
    },
    {
     "name": "stderr",
     "output_type": "stream",
     "text": [
      "WARNING: You are using pip version 22.0.4; however, version 23.1.2 is available.\n",
      "You should consider upgrading via the 'f:\\fall_detection_project\\basic_env\\Scripts\\python.exe -m pip install --upgrade pip' command.\n"
     ]
    }
   ],
   "source": [
    "# pip install tensorflow"
   ]
  },
  {
   "cell_type": "code",
   "execution_count": 26,
   "metadata": {},
   "outputs": [],
   "source": [
    "from tensorflow import keras"
   ]
  },
  {
   "cell_type": "code",
   "execution_count": 27,
   "metadata": {},
   "outputs": [],
   "source": [
    "cnn_model = keras.models.load_model('cnn_model.h5')\n",
    "lstm_model = keras.models.load_model('lstm_model.h5')"
   ]
  },
  {
   "cell_type": "code",
   "execution_count": 28,
   "metadata": {},
   "outputs": [],
   "source": [
    "from numpy import array"
   ]
  },
  {
   "cell_type": "code",
   "execution_count": 29,
   "metadata": {},
   "outputs": [],
   "source": [
    "keypoints = array(keypoints)"
   ]
  },
  {
   "cell_type": "code",
   "execution_count": 30,
   "metadata": {},
   "outputs": [],
   "source": [
    "keypoints= keypoints.reshape((1, 1, len(keypoints)))"
   ]
  },
  {
   "cell_type": "code",
   "execution_count": 31,
   "metadata": {},
   "outputs": [
    {
     "name": "stdout",
     "output_type": "stream",
     "text": [
      "1/1 [==============================] - 2s 2s/step\n"
     ]
    }
   ],
   "source": [
    "res = lstm_model.predict(keypoints)"
   ]
  },
  {
   "cell_type": "code",
   "execution_count": 32,
   "metadata": {},
   "outputs": [
    {
     "name": "stdout",
     "output_type": "stream",
     "text": [
      "[[6.873081e-05]]\n"
     ]
    }
   ],
   "source": [
    "print(res)"
   ]
  }
 ],
 "metadata": {
  "kernelspec": {
   "display_name": "basic_env",
   "language": "python",
   "name": "python3"
  },
  "language_info": {
   "codemirror_mode": {
    "name": "ipython",
    "version": 3
   },
   "file_extension": ".py",
   "mimetype": "text/x-python",
   "name": "python",
   "nbconvert_exporter": "python",
   "pygments_lexer": "ipython3",
   "version": "3.9.12"
  },
  "orig_nbformat": 4
 },
 "nbformat": 4,
 "nbformat_minor": 2
}
