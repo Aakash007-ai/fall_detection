{
  "nbformat": 4,
  "nbformat_minor": 0,
  "metadata": {
    "colab": {
      "provenance": [],
      "gpuType": "T4",
      "mount_file_id": "1ZZSXEKuLt9lK4BMcnsxVdW9KNTilIc4Z",
      "authorship_tag": "ABX9TyNmx83gPyN8bFnwiV+06Gw9",
      "include_colab_link": true
    },
    "kernelspec": {
      "name": "python3",
      "display_name": "Python 3"
    },
    "language_info": {
      "name": "python"
    },
    "accelerator": "GPU",
    "gpuClass": "standard"
  },
  "cells": [
    {
      "cell_type": "markdown",
      "metadata": {
        "id": "view-in-github",
        "colab_type": "text"
      },
      "source": [
        "<a href=\"https://colab.research.google.com/github/Aakash007-ai/fall_detection/blob/main/fall_detection_lstm.ipynb\" target=\"_parent\"><img src=\"https://colab.research.google.com/assets/colab-badge.svg\" alt=\"Open In Colab\"/></a>"
      ]
    },
    {
      "cell_type": "code",
      "source": [
        "!pip install tensorflow\n",
        "!pip install keras\n",
        "!pip install pandas\n",
        "!pip install numpy\n"
      ],
      "metadata": {
        "colab": {
          "base_uri": "https://localhost:8080/"
        },
        "id": "S_TidjoHwusc",
        "outputId": "a3d84b7f-bc4c-4623-889a-fd714c606049"
      },
      "execution_count": 1,
      "outputs": [
        {
          "output_type": "stream",
          "name": "stdout",
          "text": [
            "Looking in indexes: https://pypi.org/simple, https://us-python.pkg.dev/colab-wheels/public/simple/\n",
            "Requirement already satisfied: tensorflow in /usr/local/lib/python3.10/dist-packages (2.12.0)\n",
            "Requirement already satisfied: flatbuffers>=2.0 in /usr/local/lib/python3.10/dist-packages (from tensorflow) (23.3.3)\n",
            "Requirement already satisfied: absl-py>=1.0.0 in /usr/local/lib/python3.10/dist-packages (from tensorflow) (1.4.0)\n",
            "Requirement already satisfied: typing-extensions>=3.6.6 in /usr/local/lib/python3.10/dist-packages (from tensorflow) (4.5.0)\n",
            "Requirement already satisfied: tensorflow-estimator<2.13,>=2.12.0 in /usr/local/lib/python3.10/dist-packages (from tensorflow) (2.12.0)\n",
            "Requirement already satisfied: tensorflow-io-gcs-filesystem>=0.23.1 in /usr/local/lib/python3.10/dist-packages (from tensorflow) (0.32.0)\n",
            "Requirement already satisfied: libclang>=13.0.0 in /usr/local/lib/python3.10/dist-packages (from tensorflow) (16.0.0)\n",
            "Requirement already satisfied: wrapt<1.15,>=1.11.0 in /usr/local/lib/python3.10/dist-packages (from tensorflow) (1.14.1)\n",
            "Requirement already satisfied: astunparse>=1.6.0 in /usr/local/lib/python3.10/dist-packages (from tensorflow) (1.6.3)\n",
            "Requirement already satisfied: grpcio<2.0,>=1.24.3 in /usr/local/lib/python3.10/dist-packages (from tensorflow) (1.54.0)\n",
            "Requirement already satisfied: gast<=0.4.0,>=0.2.1 in /usr/local/lib/python3.10/dist-packages (from tensorflow) (0.4.0)\n",
            "Requirement already satisfied: tensorboard<2.13,>=2.12 in /usr/local/lib/python3.10/dist-packages (from tensorflow) (2.12.2)\n",
            "Requirement already satisfied: six>=1.12.0 in /usr/local/lib/python3.10/dist-packages (from tensorflow) (1.16.0)\n",
            "Requirement already satisfied: setuptools in /usr/local/lib/python3.10/dist-packages (from tensorflow) (67.7.2)\n",
            "Requirement already satisfied: google-pasta>=0.1.1 in /usr/local/lib/python3.10/dist-packages (from tensorflow) (0.2.0)\n",
            "Requirement already satisfied: numpy<1.24,>=1.22 in /usr/local/lib/python3.10/dist-packages (from tensorflow) (1.22.4)\n",
            "Requirement already satisfied: protobuf!=4.21.0,!=4.21.1,!=4.21.2,!=4.21.3,!=4.21.4,!=4.21.5,<5.0.0dev,>=3.20.3 in /usr/local/lib/python3.10/dist-packages (from tensorflow) (3.20.3)\n",
            "Requirement already satisfied: opt-einsum>=2.3.2 in /usr/local/lib/python3.10/dist-packages (from tensorflow) (3.3.0)\n",
            "Requirement already satisfied: keras<2.13,>=2.12.0 in /usr/local/lib/python3.10/dist-packages (from tensorflow) (2.12.0)\n",
            "Requirement already satisfied: termcolor>=1.1.0 in /usr/local/lib/python3.10/dist-packages (from tensorflow) (2.3.0)\n",
            "Requirement already satisfied: jax>=0.3.15 in /usr/local/lib/python3.10/dist-packages (from tensorflow) (0.4.8)\n",
            "Requirement already satisfied: h5py>=2.9.0 in /usr/local/lib/python3.10/dist-packages (from tensorflow) (3.8.0)\n",
            "Requirement already satisfied: packaging in /usr/local/lib/python3.10/dist-packages (from tensorflow) (23.1)\n",
            "Requirement already satisfied: wheel<1.0,>=0.23.0 in /usr/local/lib/python3.10/dist-packages (from astunparse>=1.6.0->tensorflow) (0.40.0)\n",
            "Requirement already satisfied: ml-dtypes>=0.0.3 in /usr/local/lib/python3.10/dist-packages (from jax>=0.3.15->tensorflow) (0.1.0)\n",
            "Requirement already satisfied: scipy>=1.7 in /usr/local/lib/python3.10/dist-packages (from jax>=0.3.15->tensorflow) (1.10.1)\n",
            "Requirement already satisfied: google-auth<3,>=1.6.3 in /usr/local/lib/python3.10/dist-packages (from tensorboard<2.13,>=2.12->tensorflow) (2.17.3)\n",
            "Requirement already satisfied: requests<3,>=2.21.0 in /usr/local/lib/python3.10/dist-packages (from tensorboard<2.13,>=2.12->tensorflow) (2.27.1)\n",
            "Requirement already satisfied: werkzeug>=1.0.1 in /usr/local/lib/python3.10/dist-packages (from tensorboard<2.13,>=2.12->tensorflow) (2.3.0)\n",
            "Requirement already satisfied: google-auth-oauthlib<1.1,>=0.5 in /usr/local/lib/python3.10/dist-packages (from tensorboard<2.13,>=2.12->tensorflow) (1.0.0)\n",
            "Requirement already satisfied: tensorboard-data-server<0.8.0,>=0.7.0 in /usr/local/lib/python3.10/dist-packages (from tensorboard<2.13,>=2.12->tensorflow) (0.7.0)\n",
            "Requirement already satisfied: tensorboard-plugin-wit>=1.6.0 in /usr/local/lib/python3.10/dist-packages (from tensorboard<2.13,>=2.12->tensorflow) (1.8.1)\n",
            "Requirement already satisfied: markdown>=2.6.8 in /usr/local/lib/python3.10/dist-packages (from tensorboard<2.13,>=2.12->tensorflow) (3.4.3)\n",
            "Requirement already satisfied: rsa<5,>=3.1.4 in /usr/local/lib/python3.10/dist-packages (from google-auth<3,>=1.6.3->tensorboard<2.13,>=2.12->tensorflow) (4.9)\n",
            "Requirement already satisfied: pyasn1-modules>=0.2.1 in /usr/local/lib/python3.10/dist-packages (from google-auth<3,>=1.6.3->tensorboard<2.13,>=2.12->tensorflow) (0.3.0)\n",
            "Requirement already satisfied: cachetools<6.0,>=2.0.0 in /usr/local/lib/python3.10/dist-packages (from google-auth<3,>=1.6.3->tensorboard<2.13,>=2.12->tensorflow) (5.3.0)\n",
            "Requirement already satisfied: requests-oauthlib>=0.7.0 in /usr/local/lib/python3.10/dist-packages (from google-auth-oauthlib<1.1,>=0.5->tensorboard<2.13,>=2.12->tensorflow) (1.3.1)\n",
            "Requirement already satisfied: idna<4,>=2.5 in /usr/local/lib/python3.10/dist-packages (from requests<3,>=2.21.0->tensorboard<2.13,>=2.12->tensorflow) (3.4)\n",
            "Requirement already satisfied: certifi>=2017.4.17 in /usr/local/lib/python3.10/dist-packages (from requests<3,>=2.21.0->tensorboard<2.13,>=2.12->tensorflow) (2022.12.7)\n",
            "Requirement already satisfied: urllib3<1.27,>=1.21.1 in /usr/local/lib/python3.10/dist-packages (from requests<3,>=2.21.0->tensorboard<2.13,>=2.12->tensorflow) (1.26.15)\n",
            "Requirement already satisfied: charset-normalizer~=2.0.0 in /usr/local/lib/python3.10/dist-packages (from requests<3,>=2.21.0->tensorboard<2.13,>=2.12->tensorflow) (2.0.12)\n",
            "Requirement already satisfied: MarkupSafe>=2.1.1 in /usr/local/lib/python3.10/dist-packages (from werkzeug>=1.0.1->tensorboard<2.13,>=2.12->tensorflow) (2.1.2)\n",
            "Requirement already satisfied: pyasn1<0.6.0,>=0.4.6 in /usr/local/lib/python3.10/dist-packages (from pyasn1-modules>=0.2.1->google-auth<3,>=1.6.3->tensorboard<2.13,>=2.12->tensorflow) (0.5.0)\n",
            "Requirement already satisfied: oauthlib>=3.0.0 in /usr/local/lib/python3.10/dist-packages (from requests-oauthlib>=0.7.0->google-auth-oauthlib<1.1,>=0.5->tensorboard<2.13,>=2.12->tensorflow) (3.2.2)\n",
            "Looking in indexes: https://pypi.org/simple, https://us-python.pkg.dev/colab-wheels/public/simple/\n",
            "Requirement already satisfied: keras in /usr/local/lib/python3.10/dist-packages (2.12.0)\n",
            "Looking in indexes: https://pypi.org/simple, https://us-python.pkg.dev/colab-wheels/public/simple/\n",
            "Requirement already satisfied: pandas in /usr/local/lib/python3.10/dist-packages (1.5.3)\n",
            "Requirement already satisfied: pytz>=2020.1 in /usr/local/lib/python3.10/dist-packages (from pandas) (2022.7.1)\n",
            "Requirement already satisfied: numpy>=1.21.0 in /usr/local/lib/python3.10/dist-packages (from pandas) (1.22.4)\n",
            "Requirement already satisfied: python-dateutil>=2.8.1 in /usr/local/lib/python3.10/dist-packages (from pandas) (2.8.2)\n",
            "Requirement already satisfied: six>=1.5 in /usr/local/lib/python3.10/dist-packages (from python-dateutil>=2.8.1->pandas) (1.16.0)\n",
            "Looking in indexes: https://pypi.org/simple, https://us-python.pkg.dev/colab-wheels/public/simple/\n",
            "Requirement already satisfied: numpy in /usr/local/lib/python3.10/dist-packages (1.22.4)\n"
          ]
        }
      ]
    },
    {
      "cell_type": "code",
      "execution_count": 2,
      "metadata": {
        "colab": {
          "base_uri": "https://localhost:8080/",
          "height": 36
        },
        "id": "1EXrxHqTqZdA",
        "outputId": "0d9aca04-2077-4cef-ea15-28358f26aa7a"
      },
      "outputs": [
        {
          "output_type": "execute_result",
          "data": {
            "text/plain": [
              "'2.12.0'"
            ],
            "application/vnd.google.colaboratory.intrinsic+json": {
              "type": "string"
            }
          },
          "metadata": {},
          "execution_count": 2
        }
      ],
      "source": [
        "import keras\n",
        "keras.__version__"
      ]
    },
    {
      "cell_type": "code",
      "source": [
        "!pip install tensorflow-addons\n"
      ],
      "metadata": {
        "colab": {
          "base_uri": "https://localhost:8080/"
        },
        "id": "3Y5IMZ7dxO2Z",
        "outputId": "c534f5ef-937e-4652-b5e8-f839581e22d2"
      },
      "execution_count": 3,
      "outputs": [
        {
          "output_type": "stream",
          "name": "stdout",
          "text": [
            "Looking in indexes: https://pypi.org/simple, https://us-python.pkg.dev/colab-wheels/public/simple/\n",
            "Collecting tensorflow-addons\n",
            "  Downloading tensorflow_addons-0.20.0-cp310-cp310-manylinux_2_17_x86_64.manylinux2014_x86_64.whl (591 kB)\n",
            "\u001b[2K     \u001b[90m━━━━━━━━━━━━━━━━━━━━━━━━━━━━━━━━━━━━━━\u001b[0m \u001b[32m591.0/591.0 kB\u001b[0m \u001b[31m14.8 MB/s\u001b[0m eta \u001b[36m0:00:00\u001b[0m\n",
            "\u001b[?25hCollecting typeguard<3.0.0,>=2.7\n",
            "  Downloading typeguard-2.13.3-py3-none-any.whl (17 kB)\n",
            "Requirement already satisfied: packaging in /usr/local/lib/python3.10/dist-packages (from tensorflow-addons) (23.1)\n",
            "Installing collected packages: typeguard, tensorflow-addons\n",
            "Successfully installed tensorflow-addons-0.20.0 typeguard-2.13.3\n"
          ]
        }
      ]
    },
    {
      "cell_type": "code",
      "source": [
        "from keras import models\n",
        "from keras import layers\n",
        "from keras import metrics\n",
        "from keras import optimizers\n",
        "\n",
        "import numpy as np\n",
        "import json\n",
        "import os\n",
        "import csv\n",
        "import pandas as pd\n",
        "import tensorflow_addons as tfa"
      ],
      "metadata": {
        "colab": {
          "base_uri": "https://localhost:8080/"
        },
        "id": "mXrKG6gqv44_",
        "outputId": "ddcaf38e-8e0b-4b34-c0e1-b16dc06bddff"
      },
      "execution_count": 4,
      "outputs": [
        {
          "output_type": "stream",
          "name": "stderr",
          "text": [
            "/usr/local/lib/python3.10/dist-packages/tensorflow_addons/utils/tfa_eol_msg.py:23: UserWarning: \n",
            "\n",
            "TensorFlow Addons (TFA) has ended development and introduction of new features.\n",
            "TFA has entered a minimal maintenance and release mode until a planned end of life in May 2024.\n",
            "Please modify downstream libraries to take dependencies from other repositories in our TensorFlow community (e.g. Keras, Keras-CV, and Keras-NLP). \n",
            "\n",
            "For more information see: https://github.com/tensorflow/addons/issues/2807 \n",
            "\n",
            "  warnings.warn(\n"
          ]
        }
      ]
    },
    {
      "cell_type": "code",
      "source": [
        "# !git clone https://github.com/Aakash007-ai/fall_detection.git"
      ],
      "metadata": {
        "colab": {
          "base_uri": "https://localhost:8080/"
        },
        "id": "KngJyRfDqBry",
        "outputId": "ea545e04-4e30-4f02-a43f-540538cbe158"
      },
      "execution_count": null,
      "outputs": [
        {
          "output_type": "stream",
          "name": "stdout",
          "text": [
            "fatal: destination path 'fall_detection' already exists and is not an empty directory.\n"
          ]
        }
      ]
    },
    {
      "cell_type": "code",
      "source": [
        "#mount drive"
      ],
      "metadata": {
        "id": "_8oJ3EPxxWvk"
      },
      "execution_count": null,
      "outputs": []
    },
    {
      "cell_type": "code",
      "source": [
        "# read the video data csv,      #copy to colab and replace path to initial_csv---1\n",
        "# it is faster than running the above code each time\n",
        "\n",
        "#to use drive use this commented section\n",
        "ur_path = '/content/drive/My Drive/final_project/initial_csv/ur_data.csv'\n",
        "mc_fall_path = '/content/drive/My Drive/final_project/initial_csv/mc_fall_data.csv'\n",
        "mc_notfall_path = '/content/drive/My Drive/final_project/initial_csv/mc_notfall_data.csv'\n",
        "youtube_fall_path = '/content/drive/My Drive/final_project/initial_csv//youtube_fall_data.csv'\n",
        "youtube_notfall_path = '/content/drive/My Drive/final_project/initial_csv/youtube_notfall_data.csv'\n",
        "\n",
        "# ur_path = '/content/fall_detection/initial_csv/ur_data.csv'\n",
        "# mc_fall_path = '/content/fall_detection/initial_csv/mc_fall_data.csv'\n",
        "# mc_notfall_path = '/content/fall_detection/initial_csv/mc_notfall_data.csv'\n",
        "# youtube_fall_path = '/content/fall_detection/initial_csv//youtube_fall_data.csv'\n",
        "# youtube_notfall_path = '/content/fall_detection/initial_csv/youtube_notfall_data.csv'\n",
        "\n",
        "def read_data(path):\n",
        "  video_data = []\n",
        "  with open(path, mode='r') as csv_file:\n",
        "    reader = csv.reader(csv_file)\n",
        "    for row in reader:\n",
        "      video_data.append(row)\n",
        "  return video_data\n",
        "\n",
        "ur_data = read_data(ur_path)\n",
        "mc_fall_data = read_data(mc_fall_path)\n",
        "mc_notfall_data = read_data(mc_notfall_path)\n",
        "youtube_fall_data = read_data(youtube_fall_path)\n",
        "youtube_notfall_data = read_data(youtube_notfall_path)\n",
        "\n",
        "print(ur_data[0])\n",
        "print(len(ur_data[0]))\n",
        "print(mc_fall_data[0])\n",
        "print(mc_notfall_data[0])\n",
        "print(youtube_fall_data[0])\n",
        "print(youtube_notfall_data[0])"
      ],
      "metadata": {
        "colab": {
          "base_uri": "https://localhost:8080/"
        },
        "id": "NXWyDzok0_5h",
        "outputId": "c2837012-276d-49d2-fc3a-311270cc8800"
      },
      "execution_count": 5,
      "outputs": [
        {
          "output_type": "stream",
          "name": "stdout",
          "text": [
            "['520.972', '128.178', '0.833728', '544.571', '130.782', '0.739747', '540.636', '132.754', '0.726633', '553.086', '154.999', '0.800764', '541.285', '166.155', '0.742877', '549.144', '129.467', '0.745059', '572.703', '155.035', '0.841464', '543.266', '171.369', '0.817947', '572.067', '169.415', '0.607432', '564.874', '166.16', '0.534525', '526.875', '181.191', '0.862423', '554.389', '217.851', '0.612664', '577.962', '170.732', '0.619415', '535.402', '188.398', '0.760066', '560.284', '220.479', '0.65847', '545.882', '232.266', '0.604373', '553.078', '232.915', '0.532739', '566.184', '222.453', '0.655722', '541.939', '229.002', '0.399536', '541.943', '227.687', '0.344383', '560.285', '217.223', '0.153482', 'fall-16-cam0_000000000016_keypoints']\n",
            "64\n",
            "['504.171', '238.019', '0.119379', '481.995', '237.979', '0.647555', '471.564', '247.106', '0.6547', '485.918', '299.334', '0.780827', '525.04', '307.158', '0.770417', '495.036', '228.845', '0.474206', '519.863', '220.995', '0.283234', '539.41', '214.505', '0.246275', '478.096', '275.843', '0.378863', '474.176', '284.967', '0.370422', '528.986', '277.118', '0.213783', '0.0', '0.0', '0.0', '485.934', '266.741', '0.363281', '517.291', '258.887', '0.198486', '530.273', '274.524', '0.0747612', '542.03', '277.126', '0.114463', '539.417', '277.116', '0.0888912', '532.899', '274.487', '0.0731438', '0.0', '0.0', '0.0', '0.0', '0.0', '0.0', '0.0', '0.0', '0.0', '55_000000000000_keypoints']\n",
            "['643.854', '174.088', '0.796968', '652.912', '202.706', '0.916605', '633.362', '192.272', '0.886062', '609.831', '214.468', '0.928492', '579.903', '235.396', '0.884458', '672.491', '213.16', '0.871428', '664.737', '253.631', '0.843892', '653.025', '284.941', '0.864034', '625.542', '257.608', '0.738263', '612.549', '253.669', '0.758785', '602.079', '296.765', '0.733292', '590.279', '330.665', '0.457905', '637.277', '265.416', '0.734225', '605.954', '303.234', '0.712669', '566.825', '341.124', '0.72449', '548.572', '350.196', '0.637416', '557.634', '352.806', '0.630046', '561.622', '348.878', '0.52683', '0.0', '0.0', '0.0', '0.0', '0.0', '0.0', '590.367', '337.146', '0.274113', '60_000000000000_keypoints']\n",
            "['0.0', '0.0', '0.0', '343.849', '66.0223', '0.188148', '357.543', '65.0651', '0.218538', '363.4', '88.5165', '0.191749', '372.217', '105.197', '0.108987', '332.118', '66.0279', '0.150296', '0.0', '0.0', '0.0', '0.0', '0.0', '0.0', '326.252', '114.944', '0.284664', '338.962', '115.929', '0.30854', '347.785', '137.438', '0.560074', '343.839', '168.782', '0.551124', '312.554', '112.013', '0.206529', '318.401', '133.526', '0.458152', '302.762', '158.97', '0.660171', '317.411', '170.707', '0.600659', '315.461', '168.761', '0.53913', '296.89', '159.959', '0.631556', '349.714', '174.611', '0.319546', '348.751', '175.614', '0.397619', '340.902', '175.568', '0.545259', '20_000000000000_keypoints']\n",
            "['127.682', '35.6818', '0.86715', '160.95', '62.1388', '0.695363', '175.59', '57.2496', '0.554826', '0.0', '0.0', '0.0', '0.0', '0.0', '0.0', '149.194', '66.9858', '0.726184', '158.946', '134.519', '0.703452', '139.42', '185.404', '0.765717', '178.547', '178.524', '0.46768', '191.251', '177.548', '0.420402', '186.383', '242.124', '0.614888', '199.029', '301.81', '0.717645', '168.757', '179.502', '0.463228', '152.142', '247.998', '0.627453', '131.588', '310.611', '0.561644', '104.176', '303.749', '0.359979', '107.144', '308.644', '0.370667', '132.562', '323.297', '0.445868', '161.897', '314.483', '0.600495', '165.821', '311.581', '0.493078', '205.908', '309.59', '0.598985', '7_000000000000_keypoints']\n"
          ]
        }
      ]
    },
    {
      "cell_type": "code",
      "source": [
        "# normalize data according to the size of videos in different dataset #copy this ---2\n",
        "def normalize(list, width, height):\n",
        "  for record in list:\n",
        "    for i in range(0, 63, 3):\n",
        "        record[i] = float(record[i])/ width\n",
        "        record[i + 1] = float(record[i + 1]) / height\n",
        "\n",
        "normalize(ur_data, 640, 240)\n",
        "normalize(mc_fall_data, 720, 480)\n",
        "normalize(mc_notfall_data, 720, 480)\n",
        "normalize(youtube_fall_data, 640, 360)\n",
        "normalize(youtube_notfall_data, 640, 360)\n"
      ],
      "metadata": {
        "id": "M0q1f90N1rfY"
      },
      "execution_count": 6,
      "outputs": []
    },
    {
      "cell_type": "code",
      "source": [
        "print(ur_data[0]) #opy this ---3\n",
        "print(len(ur_data[0]))\n",
        "print(mc_fall_data[0])\n",
        "print(mc_notfall_data[0])\n",
        "print(youtube_fall_data[0])\n",
        "print(youtube_notfall_data[0])"
      ],
      "metadata": {
        "colab": {
          "base_uri": "https://localhost:8080/"
        },
        "id": "FyY7Xcjt1u6s",
        "outputId": "2dd6aea8-8f5d-4b7e-f1c0-d9e3588abdb1"
      },
      "execution_count": 7,
      "outputs": [
        {
          "output_type": "stream",
          "name": "stdout",
          "text": [
            "[0.81401875, 0.534075, '0.833728', 0.8508921875000001, 0.544925, '0.739747', 0.8447437499999999, 0.5531416666666666, '0.726633', 0.864196875, 0.6458291666666667, '0.800764', 0.8457578124999999, 0.6923125, '0.742877', 0.8580375, 0.5394458333333334, '0.745059', 0.8948484375, 0.6459791666666667, '0.841464', 0.848853125, 0.7140375, '0.817947', 0.8938546875, 0.7058958333333333, '0.607432', 0.882615625, 0.6923333333333334, '0.534525', 0.8232421875, 0.7549625, '0.862423', 0.8662328125000001, 0.9077125, '0.612664', 0.903065625, 0.7113833333333334, '0.619415', 0.8365656250000001, 0.7849916666666666, '0.760066', 0.87544375, 0.9186625, '0.65847', 0.8529406249999999, 0.9677749999999999, '0.604373', 0.864184375, 0.9704791666666667, '0.532739', 0.8846624999999999, 0.9268875, '0.655722', 0.8467796875, 0.954175, '0.399536', 0.8467859375, 0.9486958333333334, '0.344383', 0.8754453124999999, 0.9050958333333334, '0.153482', 'fall-16-cam0_000000000016_keypoints']\n",
            "64\n",
            "[0.7002375, 0.49587291666666666, '0.119379', 0.6694375, 0.49578958333333334, '0.647555', 0.65495, 0.5148041666666666, '0.6547', 0.6748861111111111, 0.6236125, '0.780827', 0.7292222222222222, 0.6399125, '0.770417', 0.68755, 0.4767604166666667, '0.474206', 0.7220319444444445, 0.46040625, '0.283234', 0.7491805555555555, 0.44688541666666665, '0.246275', 0.6640222222222222, 0.5746729166666668, '0.378863', 0.6585777777777777, 0.5936812499999999, '0.370422', 0.7347027777777778, 0.5773291666666667, '0.213783', 0.0, 0.0, '0.0', 0.6749083333333333, 0.5557104166666667, '0.363281', 0.7184597222222223, 0.5393479166666667, '0.198486', 0.7364902777777778, 0.571925, '0.0747612', 0.7528194444444444, 0.5773458333333333, '0.114463', 0.7491902777777778, 0.577325, '0.0888912', 0.7401375, 0.5718479166666667, '0.0731438', 0.0, 0.0, '0.0', 0.0, 0.0, '0.0', 0.0, 0.0, '0.0', '55_000000000000_keypoints']\n",
            "[0.8942416666666667, 0.3626833333333333, '0.796968', 0.9068222222222223, 0.42230416666666665, '0.916605', 0.8796694444444444, 0.4005666666666666, '0.886062', 0.8469875, 0.4468083333333333, '0.928492', 0.8054208333333334, 0.4904083333333333, '0.884458', 0.9340152777777777, 0.44408333333333333, '0.871428', 0.9232458333333333, 0.5283979166666667, '0.843892', 0.9069791666666667, 0.5936270833333332, '0.864034', 0.8688083333333334, 0.5366833333333333, '0.738263', 0.8507625, 0.5284770833333333, '0.758785', 0.8362208333333333, 0.6182604166666666, '0.733292', 0.8198319444444444, 0.6888854166666667, '0.457905', 0.8851069444444445, 0.5529499999999999, '0.734225', 0.8416027777777777, 0.6317375, '0.712669', 0.7872569444444445, 0.7106750000000001, '0.72449', 0.7619055555555556, 0.7295750000000001, '0.637416', 0.7744916666666667, 0.7350125, '0.630046', 0.7800305555555554, 0.7268291666666666, '0.52683', 0.0, 0.0, '0.0', 0.0, 0.0, '0.0', 0.8199541666666667, 0.7023875, '0.274113', '60_000000000000_keypoints']\n",
            "[0.0, 0.0, '0.0', 0.5372640625, 0.18339527777777778, '0.188148', 0.5586609375, 0.1807363888888889, '0.218538', 0.5678124999999999, 0.24587916666666665, '0.191749', 0.5815890625, 0.2922138888888889, '0.108987', 0.518934375, 0.18341083333333333, '0.150296', 0.0, 0.0, '0.0', 0.0, 0.0, '0.0', 0.50976875, 0.3192888888888889, '0.284664', 0.529628125, 0.322025, '0.30854', 0.5434140625, 0.3817722222222222, '0.560074', 0.5372484375, 0.4688388888888889, '0.551124', 0.48836562499999997, 0.31114722222222224, '0.206529', 0.4975015625, 0.3709055555555556, '0.458152', 0.473065625, 0.4415833333333333, '0.660171', 0.4959546875, 0.4741861111111111, '0.600659', 0.49290781250000004, 0.46878055555555553, '0.53913', 0.463890625, 0.44433055555555556, '0.631556', 0.546428125, 0.4850305555555555, '0.319546', 0.5449234374999999, 0.4878166666666667, '0.397619', 0.5326593749999999, 0.48768888888888895, '0.545259', '20_000000000000_keypoints']\n",
            "[0.199503125, 0.09911611111111111, '0.86715', 0.251484375, 0.17260777777777778, '0.695363', 0.274359375, 0.15902666666666668, '0.554826', 0.0, 0.0, '0.0', 0.0, 0.0, '0.0', 0.233115625, 0.18607166666666666, '0.726184', 0.248353125, 0.3736638888888889, '0.703452', 0.21784374999999997, 0.5150111111111111, '0.765717', 0.2789796875, 0.4959, '0.46768', 0.2988296875, 0.4931888888888889, '0.420402', 0.2912234375, 0.6725666666666666, '0.614888', 0.3109828125, 0.8383611111111111, '0.717645', 0.26368281250000003, 0.4986166666666667, '0.463228', 0.237721875, 0.6888833333333333, '0.627453', 0.20560625, 0.8628083333333333, '0.561644', 0.162775, 0.8437472222222223, '0.359979', 0.16741250000000002, 0.8573444444444445, '0.370667', 0.20712812500000002, 0.8980472222222223, '0.445868', 0.2529640625, 0.8735638888888889, '0.600495', 0.2590953125, 0.8655027777777778, '0.493078', 0.32173124999999997, 0.8599722222222221, '0.598985', '7_000000000000_keypoints']\n"
          ]
        }
      ]
    },
    {
      "cell_type": "code",
      "source": [
        "# read target label of UR dataset.  #already generated \n",
        "\n",
        "target = []\n",
        "path1 = '/content/drive/My Drive/final_project/target_ur/urfall-cam0-falls.csv'\n",
        "path2 = '/content/drive/My Drive/final_project/target_ur/urfall-cam0-adls.csv'\n",
        "# in these csv of UR dataset, \n",
        "# '-1' means person is not lying, '1' means person is lying on the ground; '0' is temporary pose, when person \"is falling\"\n",
        "\n",
        "def input_fall(path):\n",
        "  with open(path, mode='r') as csv_file:\n",
        "    reader = csv.reader(csv_file)\n",
        "    for row in reader:\n",
        "      record = []\n",
        "      record.append(row[0])\n",
        "      record.append(row[1])\n",
        "      label = row[2]\n",
        "      if label == '1' or label == '0':\n",
        "        record.append(1)        \n",
        "      else:\n",
        "        record.append(0)\n",
        "      # each record: [<video_id>, <frame_id>, label], eg: ['fall-17', '22', 0] \n",
        "      target.append(record)\n",
        "\n",
        "# though laying in the video, but it is not fall, so I mark 0 as label\n",
        "def input_adl(path):\n",
        "  with open(path, mode='r') as csv_file:\n",
        "    reader = csv.reader(csv_file)\n",
        "    for row in reader:\n",
        "      record = []\n",
        "      record.append(row[0])\n",
        "      record.append(row[1])\n",
        "      record.append(0)\n",
        "      target.append(record)\n",
        "\n",
        "input_fall(path1)\n",
        "print(\"falls of UR dataset\", len(target))\n",
        "\n",
        "input_adl(path2)\n",
        "\n",
        "df = pd.DataFrame.from_records(target)\n",
        "df.to_csv (r'/content/drive/My Drive/final_project/target/target_data.csv', index = False, header=False) #target_data.csv\n"
      ],
      "metadata": {
        "colab": {
          "base_uri": "https://localhost:8080/"
        },
        "id": "wW8G5ztW1wgM",
        "outputId": "66ebf3b6-84cc-4b62-bb2f-4646b7184355"
      },
      "execution_count": 8,
      "outputs": [
        {
          "output_type": "stream",
          "name": "stdout",
          "text": [
            "falls of UR dataset 2995\n"
          ]
        }
      ]
    },
    {
      "cell_type": "code",
      "source": [
        "# make dictionary of target of ur dataset #copyt htis\n",
        "target_csv_path = '/content/drive/My Drive/final_project/target/target_data.csv'\n",
        "idx = 0\n",
        "idx_dict = {}\n",
        "\n",
        "with open(target_csv_path, mode='r') as csv_file:\n",
        "  reader = csv.reader(csv_file)\n",
        "  for row in reader:\n",
        "    # each row: [<video_id>, <frame_id>, label], eg: ['fall-17', '22', 0] \n",
        "    idx_dict['.'.join(row[:2])] = idx  # {'fall-17.22' : 112}\n",
        "    idx += 1"
      ],
      "metadata": {
        "id": "bwRTQSNk2jvH"
      },
      "execution_count": 9,
      "outputs": []
    },
    {
      "cell_type": "code",
      "source": [
        "# match body landmark data with label data of ur dataset\n",
        "bodylandmark = []\n",
        "label = []\n",
        "frame_name = []\n",
        "\n",
        "for landmark in ur_data:\n",
        "  video_name = landmark[-1].split('_')  # 'fall-01-cam0_000000000004'\n",
        "  a = video_name[0].split('-')\n",
        "  video_type = a[0] # 'fall'\n",
        "  video_id = a[1]   # '01'\n",
        "  frame_id = str(int(video_name[1])) # '000000000004' become '4'\n",
        "  try:\n",
        "    a = '.'.join([video_id, frame_id])\n",
        "    b = '-'.join([video_type, a])\n",
        "    label.append(target[idx_dict[b]][-1])\n",
        "    bl = landmark[:-1]\n",
        "    # convert string into float\n",
        "    bl = list(map(float,bl))\n",
        "    bodylandmark.append(bl)\n",
        "    frameName = landmark[-1]\n",
        "    frame_name.append(frameName)\n",
        "  except:\n",
        "    continue\n",
        "\n",
        "print(\"bodylandmark record sample of ur dataset:\" )\n",
        "print(bodylandmark[0])\n",
        "print(\"label of ur dataset: \", len(label))\n",
        "print(\"bodylandmark of ur dataset: \", len(bodylandmark))\n",
        "print(frame_name[0])"
      ],
      "metadata": {
        "colab": {
          "base_uri": "https://localhost:8080/"
        },
        "id": "GW3VZwml2ydQ",
        "outputId": "2bcd2cc6-c7d3-4b5d-c2b4-55c64a95fb3f"
      },
      "execution_count": 10,
      "outputs": [
        {
          "output_type": "stream",
          "name": "stdout",
          "text": [
            "bodylandmark record sample of ur dataset:\n",
            "[0.81401875, 0.534075, 0.833728, 0.8508921875000001, 0.544925, 0.739747, 0.8447437499999999, 0.5531416666666666, 0.726633, 0.864196875, 0.6458291666666667, 0.800764, 0.8457578124999999, 0.6923125, 0.742877, 0.8580375, 0.5394458333333334, 0.745059, 0.8948484375, 0.6459791666666667, 0.841464, 0.848853125, 0.7140375, 0.817947, 0.8938546875, 0.7058958333333333, 0.607432, 0.882615625, 0.6923333333333334, 0.534525, 0.8232421875, 0.7549625, 0.862423, 0.8662328125000001, 0.9077125, 0.612664, 0.903065625, 0.7113833333333334, 0.619415, 0.8365656250000001, 0.7849916666666666, 0.760066, 0.87544375, 0.9186625, 0.65847, 0.8529406249999999, 0.9677749999999999, 0.604373, 0.864184375, 0.9704791666666667, 0.532739, 0.8846624999999999, 0.9268875, 0.655722, 0.8467796875, 0.954175, 0.399536, 0.8467859375, 0.9486958333333334, 0.344383, 0.8754453124999999, 0.9050958333333334, 0.153482]\n",
            "label of ur dataset:  11475\n",
            "bodylandmark of ur dataset:  11475\n",
            "fall-16-cam0_000000000016_keypoints\n"
          ]
        }
      ]
    },
    {
      "cell_type": "code",
      "source": [
        "# add data of MC dataset to the whole dataset\n",
        "# For MC dataset, all frames in fall data should be label 1, \n",
        "# and all frames in notfall data should be label 0.\n",
        "for record in mc_fall_data:\n",
        "  bl = record[:-1]\n",
        "  bl = list(map(float,bl))\n",
        "  bodylandmark.append(bl)\n",
        "  label.append(1)\n",
        "  frameName = record[-1]\n",
        "  frame_name.append(frameName)\n",
        "\n",
        "for record in mc_notfall_data:\n",
        "  bl = record[:-1]\n",
        "  bl = list(map(float,bl))\n",
        "  bodylandmark.append(bl)\n",
        "  label.append(0)\n",
        "  frameName = record[-1]\n",
        "  frame_name.append(frameName)\n"
      ],
      "metadata": {
        "id": "6HEWr-gH2-f-"
      },
      "execution_count": 11,
      "outputs": []
    },
    {
      "cell_type": "code",
      "source": [
        "# add data of youtube dataset to the whole dataset\n",
        "# For youtube dataset, all frames in fall data should be label 1, \n",
        "# and all frames in notfall data should be label 0.\n",
        "for record in youtube_fall_data:\n",
        "  bl = record[:-1]\n",
        "  bl = list(map(float,bl))\n",
        "  bodylandmark.append(bl)\n",
        "  label.append(1)\n",
        "  frameName = record[-1]\n",
        "  frame_name.append(frameName)\n",
        "\n",
        "for record in youtube_notfall_data:\n",
        "  bl = record[:-1]\n",
        "  bl = list(map(float,bl))\n",
        "  bodylandmark.append(bl)\n",
        "  label.append(0)\n",
        "  frameName = record[-1]\n",
        "  frame_name.append(frameName)\n"
      ],
      "metadata": {
        "id": "RI1lxf0c3COE"
      },
      "execution_count": 12,
      "outputs": []
    },
    {
      "cell_type": "code",
      "source": [
        "# make bodylandmark and label to be a same data frame\n",
        "all_data = []\n",
        "\n",
        "for i in range(len(bodylandmark)):\n",
        "  all_data.append([label[i]])\n",
        "  all_data[i] = all_data[i] + bodylandmark[i]\n",
        "\n",
        "print(all_data[0])\n",
        "print(len(all_data))\n",
        "print(len(all_data[0]))"
      ],
      "metadata": {
        "colab": {
          "base_uri": "https://localhost:8080/"
        },
        "id": "Q8phNek73HSX",
        "outputId": "ac4550d3-e723-4606-fc61-f5f9276919ff"
      },
      "execution_count": 13,
      "outputs": [
        {
          "output_type": "stream",
          "name": "stdout",
          "text": [
            "[0, 0.81401875, 0.534075, 0.833728, 0.8508921875000001, 0.544925, 0.739747, 0.8447437499999999, 0.5531416666666666, 0.726633, 0.864196875, 0.6458291666666667, 0.800764, 0.8457578124999999, 0.6923125, 0.742877, 0.8580375, 0.5394458333333334, 0.745059, 0.8948484375, 0.6459791666666667, 0.841464, 0.848853125, 0.7140375, 0.817947, 0.8938546875, 0.7058958333333333, 0.607432, 0.882615625, 0.6923333333333334, 0.534525, 0.8232421875, 0.7549625, 0.862423, 0.8662328125000001, 0.9077125, 0.612664, 0.903065625, 0.7113833333333334, 0.619415, 0.8365656250000001, 0.7849916666666666, 0.760066, 0.87544375, 0.9186625, 0.65847, 0.8529406249999999, 0.9677749999999999, 0.604373, 0.864184375, 0.9704791666666667, 0.532739, 0.8846624999999999, 0.9268875, 0.655722, 0.8467796875, 0.954175, 0.399536, 0.8467859375, 0.9486958333333334, 0.344383, 0.8754453124999999, 0.9050958333333334, 0.153482]\n",
            "35279\n",
            "64\n"
          ]
        }
      ]
    },
    {
      "cell_type": "code",
      "source": [
        "# know the majority and minority\n",
        "fall = label.count(1)\n",
        "not_fall = label.count(0)\n",
        "print(fall)\n",
        "print(not_fall)"
      ],
      "metadata": {
        "colab": {
          "base_uri": "https://localhost:8080/"
        },
        "id": "R0DjUSYl3KNo",
        "outputId": "b8a841b0-bda5-472b-87c2-17ead20f1ad1"
      },
      "execution_count": 14,
      "outputs": [
        {
          "output_type": "stream",
          "name": "stdout",
          "text": [
            "13128\n",
            "22151\n"
          ]
        }
      ]
    },
    {
      "cell_type": "code",
      "source": [
        "# up-sampling to make the data balance\n",
        "# Separate majority and minority classes\n",
        "df = pd.DataFrame.from_records(all_data)\n",
        "header = ['label']\n",
        "for i in range(63):\n",
        "  header.append(i)\n",
        "\n",
        "df.columns = header\n",
        "df_majority = df[df.label==0]\n",
        "df_minority = df[df.label==1]\n",
        "print(\"before re-sampling, not fall vs fall: \")\n",
        "print(df['label'].value_counts())\n",
        "\n",
        "from sklearn.utils import resample\n",
        "print(\"begin to re sample...\")\n",
        "# Upsample minority class\n",
        "df_minority_upsampled = resample(df_minority, \n",
        "                                 replace=True,      # sample with replacement\n",
        "                                 n_samples=not_fall)    # to match majority class\n",
        "                                  \n",
        "# Combine majority class with upsampled minority class\n",
        "df_upsampled = pd.concat([df_majority, df_minority_upsampled])\n",
        " \n",
        "print(\"after re-sampling...\")\n",
        "# Display new class counts\n",
        "df_upsampled.label.value_counts()"
      ],
      "metadata": {
        "colab": {
          "base_uri": "https://localhost:8080/"
        },
        "id": "jryJ2GBM3Mqk",
        "outputId": "50aaeb53-b9ce-4718-f80a-b36276fe2aff"
      },
      "execution_count": 15,
      "outputs": [
        {
          "output_type": "stream",
          "name": "stdout",
          "text": [
            "before re-sampling, not fall vs fall: \n",
            "0    22151\n",
            "1    13128\n",
            "Name: label, dtype: int64\n",
            "begin to re sample...\n",
            "after re-sampling...\n"
          ]
        },
        {
          "output_type": "execute_result",
          "data": {
            "text/plain": [
              "0    22151\n",
              "1    22151\n",
              "Name: label, dtype: int64"
            ]
          },
          "metadata": {},
          "execution_count": 15
        }
      ]
    },
    {
      "cell_type": "code",
      "source": [
        "all_data = df_upsampled.values\n",
        "\n",
        "print(all_data[0])\n",
        "print(len(all_data[0]))\n",
        "print(\"number of all data:\", len(all_data))"
      ],
      "metadata": {
        "colab": {
          "base_uri": "https://localhost:8080/"
        },
        "id": "cJMESK9u3PKl",
        "outputId": "eabb48a5-fd07-44ff-9c6f-eb4e5388178a"
      },
      "execution_count": 16,
      "outputs": [
        {
          "output_type": "stream",
          "name": "stdout",
          "text": [
            "[0.         0.81401875 0.534075   0.833728   0.85089219 0.544925\n",
            " 0.739747   0.84474375 0.55314167 0.726633   0.86419687 0.64582917\n",
            " 0.800764   0.84575781 0.6923125  0.742877   0.8580375  0.53944583\n",
            " 0.745059   0.89484844 0.64597917 0.841464   0.84885312 0.7140375\n",
            " 0.817947   0.89385469 0.70589583 0.607432   0.88261563 0.69233333\n",
            " 0.534525   0.82324219 0.7549625  0.862423   0.86623281 0.9077125\n",
            " 0.612664   0.90306562 0.71138333 0.619415   0.83656563 0.78499167\n",
            " 0.760066   0.87544375 0.9186625  0.65847    0.85294062 0.967775\n",
            " 0.604373   0.86418438 0.97047917 0.532739   0.8846625  0.9268875\n",
            " 0.655722   0.84677969 0.954175   0.399536   0.84678594 0.94869583\n",
            " 0.344383   0.87544531 0.90509583 0.153482  ]\n",
            "64\n",
            "number of all data: 44302\n"
          ]
        }
      ]
    },
    {
      "cell_type": "code",
      "source": [
        "# split data into train and test set ##train chatgpt from here\n",
        "np.random.shuffle(all_data)\n",
        "split_point = len(all_data) // 9\n",
        "print(\"split point:\", split_point)\n",
        "test_data = all_data[:split_point]\n",
        "train_data = all_data[split_point: ]\n",
        "\n",
        "print(\"number of test data:\", len(test_data))\n",
        "print(\"number of train data:\",len(train_data))\n",
        "\n",
        "print(train_data[0])"
      ],
      "metadata": {
        "colab": {
          "base_uri": "https://localhost:8080/"
        },
        "id": "i2W1O3NR3UKe",
        "outputId": "082eec08-0de6-401f-fae2-59c7096818ea"
      },
      "execution_count": 36,
      "outputs": [
        {
          "output_type": "stream",
          "name": "stdout",
          "text": [
            "split point: 4922\n",
            "number of test data: 4922\n",
            "number of train data: 39380\n",
            "[0.         0.63706562 0.25034333 0.834785   0.63606719 0.29406167\n",
            " 0.913583   0.61969219 0.29407292 0.873138   0.61560313 0.36228083\n",
            " 0.794662   0.61865156 0.4275375  0.796851   0.65245156 0.29404417\n",
            " 0.883025   0.66467344 0.35952917 0.813385   0.6657     0.42759167\n",
            " 0.81153    0.63913281 0.43307083 0.743139   0.62689844 0.43312917\n",
            " 0.751411   0.62790937 0.53390833 0.784722   0.62785781 0.6131125\n",
            " 0.721369   0.65037031 0.433075   0.767547   0.65137969 0.53397083\n",
            " 0.833732   0.65042187 0.6214     0.837774   0.65242656 0.64310417\n",
            " 0.593304   0.65852031 0.6404     0.619632   0.64932969 0.6294875\n",
            " 0.624665   0.62786875 0.63225    0.516333   0.62377656 0.6241875\n",
            " 0.539352   0.62992656 0.62126667 0.560284  ]\n"
          ]
        }
      ]
    },
    {
      "cell_type": "code",
      "source": [
        "print(len(train_data))\n",
        "print(len(train_data[0]))\n",
        "\n",
        "# new_data = train_data[:,:4]+train_data[:,7:25]"
      ],
      "metadata": {
        "id": "H_8M6zN63_bt",
        "colab": {
          "base_uri": "https://localhost:8080/"
        },
        "outputId": "b841ec6d-523c-4431-dd91-b4b95ad0e72c"
      },
      "execution_count": 42,
      "outputs": [
        {
          "output_type": "stream",
          "name": "stdout",
          "text": [
            "39380\n",
            "64\n"
          ]
        }
      ]
    },
    {
      "cell_type": "code",
      "source": [
        "#grouping_important_features"
      ],
      "metadata": {
        "id": "nf0Nrbo7bh0O"
      },
      "execution_count": null,
      "outputs": []
    },
    {
      "cell_type": "code",
      "source": [
        "first = train_data[:,:4]\n",
        "len(first[0])\n",
        "print(first.shape)"
      ],
      "metadata": {
        "colab": {
          "base_uri": "https://localhost:8080/"
        },
        "id": "MEVQoG6vLGnZ",
        "outputId": "70b4d6e7-a0fa-477f-bb2f-bbd033f4f624"
      },
      "execution_count": 40,
      "outputs": [
        {
          "output_type": "stream",
          "name": "stdout",
          "text": [
            "(39380, 4)\n"
          ]
        }
      ]
    },
    {
      "cell_type": "code",
      "source": [
        "second = train_data[:,7:25]\n",
        "len(second[0])"
      ],
      "metadata": {
        "colab": {
          "base_uri": "https://localhost:8080/"
        },
        "id": "TKfV-nlaMOVf",
        "outputId": "27e9627a-399f-4724-95db-34b1c364e8e4"
      },
      "execution_count": 30,
      "outputs": [
        {
          "output_type": "execute_result",
          "data": {
            "text/plain": [
              "18"
            ]
          },
          "metadata": {},
          "execution_count": 30
        }
      ]
    },
    {
      "cell_type": "code",
      "source": [
        "third = train_data[:,28:49]\n",
        "len(third[0])"
      ],
      "metadata": {
        "colab": {
          "base_uri": "https://localhost:8080/"
        },
        "id": "hPXqNI4MMnK4",
        "outputId": "c4e2c582-670b-4fe6-d119-a0835565db07"
      },
      "execution_count": 31,
      "outputs": [
        {
          "output_type": "execute_result",
          "data": {
            "text/plain": [
              "21"
            ]
          },
          "metadata": {},
          "execution_count": 31
        }
      ]
    },
    {
      "cell_type": "code",
      "source": [
        "fourth = train_data[:,52:58]\n",
        "len(fourth[0])"
      ],
      "metadata": {
        "colab": {
          "base_uri": "https://localhost:8080/"
        },
        "id": "H7zi3RMqM4z5",
        "outputId": "4f805db7-e6aa-49a3-aec7-a05ba0ad5e8c"
      },
      "execution_count": 32,
      "outputs": [
        {
          "output_type": "execute_result",
          "data": {
            "text/plain": [
              "6"
            ]
          },
          "metadata": {},
          "execution_count": 32
        }
      ]
    },
    {
      "cell_type": "code",
      "source": [
        "fifth = train_data[:,61:64]\n",
        "len(fifth[0])"
      ],
      "metadata": {
        "colab": {
          "base_uri": "https://localhost:8080/"
        },
        "id": "frfMnv9ONHM3",
        "outputId": "d44b4177-5e4f-4fa8-c438-a06b2a385338"
      },
      "execution_count": 33,
      "outputs": [
        {
          "output_type": "execute_result",
          "data": {
            "text/plain": [
              "3"
            ]
          },
          "metadata": {},
          "execution_count": 33
        }
      ]
    },
    {
      "cell_type": "code",
      "source": [
        "import numpy as np\n",
        "\n",
        "# assume train_data is your 2D list of size (39380,64)\n",
        "selected_cols = np.concatenate((train_data[:, :4], train_data[:, 7:25], train_data[:, 28:49], train_data[:, 52:58], train_data[:, 61:64]), axis=1)\n"
      ],
      "metadata": {
        "id": "eNQ7jHKRUdic"
      },
      "execution_count": 44,
      "outputs": []
    },
    {
      "cell_type": "code",
      "source": [
        "# # assume train_data is your 2D list of size (39380,64)\n",
        "# selected_cols = train_data[:, :4] + train_data[:, 7:25] + train_data[:, 28:49] + train_data[:, 52:58] + train_data[:, 61:64]"
      ],
      "metadata": {
        "id": "z0PmlZULUG3E"
      },
      "execution_count": 45,
      "outputs": []
    },
    {
      "cell_type": "code",
      "source": [
        "# train_data = []\n",
        "# train_data = [row1+row2 for row1,row2 in zip(first,second) ]"
      ],
      "metadata": {
        "id": "d_pCW-trRDID"
      },
      "execution_count": 46,
      "outputs": []
    },
    {
      "cell_type": "code",
      "source": [
        "# # concatenate the two lists\n",
        "# train_data = []\n",
        "# concatenated_list = []\n",
        "# for i in range(len(first)):\n",
        "#     train_data.append(first[i] + second[i] + third[i] + fourth[i] + fifth[i])\n",
        "\n",
        "# # print the concatenated list\n",
        "# print(len(train_data))\n",
        "# print(len(train_data[0]))"
      ],
      "metadata": {
        "id": "qGQ7dGd9O8WV"
      },
      "execution_count": 47,
      "outputs": []
    },
    {
      "cell_type": "code",
      "source": [
        "print(len(selected_cols))\n",
        "print(len(selected_cols[0]))"
      ],
      "metadata": {
        "colab": {
          "base_uri": "https://localhost:8080/"
        },
        "id": "rgYvraLrUjr3",
        "outputId": "9ee7ec79-631b-4830-f3a4-238bfd0ddf01"
      },
      "execution_count": 51,
      "outputs": [
        {
          "output_type": "stream",
          "name": "stdout",
          "text": [
            "39380\n",
            "52\n"
          ]
        }
      ]
    },
    {
      "cell_type": "code",
      "source": [
        "# train_data = first + second +third +fourth +fifth`\n",
        "# print(len(train_data[0]))\n",
        "# print(len(train_data))\n",
        "# train_data"
      ],
      "metadata": {
        "id": "yOpQgfacJEVF"
      },
      "execution_count": 53,
      "outputs": []
    },
    {
      "cell_type": "code",
      "source": [
        "train_data = []\n",
        "train_data = selected_cols"
      ],
      "metadata": {
        "id": "bufDx1axVqRC"
      },
      "execution_count": 54,
      "outputs": []
    },
    {
      "cell_type": "code",
      "source": [
        "print(len(train_data[0]))\n",
        "print(len(train_data))"
      ],
      "metadata": {
        "colab": {
          "base_uri": "https://localhost:8080/"
        },
        "id": "x2UyaHTKVv8p",
        "outputId": "240f084e-0f63-4196-945b-c46c057e4051"
      },
      "execution_count": 55,
      "outputs": [
        {
          "output_type": "stream",
          "name": "stdout",
          "text": [
            "52\n",
            "39380\n"
          ]
        }
      ]
    },
    {
      "cell_type": "code",
      "source": [
        "# solution 1: train model using lstm\n",
        "from tensorflow.keras.layers import LSTM\n",
        "from tensorflow.keras import callbacks\n",
        "from tensorflow.keras import layers\n",
        "from numpy import array\n",
        "from tensorflow.keras.models import Sequential\n",
        "\n",
        "def scheduler(epoch):\n",
        "  if epoch < 10:\n",
        "    return 0.001\n",
        "  else:\n",
        "    return 0.001 * np.exp(0.1 * (10 - epoch))\n",
        "  \n",
        "x_train = []\n",
        "y_train = []\n",
        "\n",
        "for record in train_data:\n",
        "  x_train.append(record[1:]) # [x,63] size x is 39380\n",
        "  label = int(record[0])\n",
        "  y_train.append(label) \n",
        "\n",
        "def train_lstm_model(x_train, y_train):\n",
        "  x_train = array(x_train)\n",
        "  x_train = x_train.reshape((len(x_train), 1, len(x_train[0])))\n",
        "  print(\"x_train.shape\", x_train.shape)\n",
        "  print(x_train[0])\n",
        "\n",
        "  y_train = array(y_train)\n",
        "  print(\"y_train.shape\", y_train.shape)\n",
        "\n",
        "  # imrpove log: use batch size 16 and add one more lstm layer\n",
        "\n",
        "  lstm_model = Sequential()\n",
        "  lstm_model.add(LSTM(16, \n",
        "                input_shape=(1, 51),#62\n",
        "                return_sequences=True))\n",
        "  lstm_model.add(LSTM(16, ))\n",
        "  lstm_model.add(layers.Dense(1, activation='sigmoid'))\n",
        "  lstm_model.compile(optimizer='rmsprop',\n",
        "                loss='binary_crossentropy',\n",
        "                metrics=['acc',\n",
        "                        metrics.AUC(), \n",
        "                        metrics.FalseNegatives(),\n",
        "                        metrics.Recall(),\n",
        "                        metrics.Precision(),\n",
        "                        metrics.FalseNegatives(),\n",
        "                        metrics.TrueNegatives(),\n",
        "                        metrics.FalsePositives(),\n",
        "                        metrics.TruePositives()])\n",
        "  lstm_history = lstm_model.fit(x_train, y_train,\n",
        "                      epochs=100,\n",
        "                      batch_size=16,\n",
        "                      validation_split=0.2,\n",
        "                      callbacks=[callbacks.EarlyStopping(monitor='val_loss', patience=5),\n",
        "                      callbacks.LearningRateScheduler(scheduler)])\n",
        "  print(\"finish training lstm model\")\n",
        "  return lstm_model, lstm_history\n",
        "\n",
        "lstm_model, lstm_history = train_lstm_model(x_train, y_train)"
      ],
      "metadata": {
        "id": "b4jTicFy3XRu",
        "colab": {
          "base_uri": "https://localhost:8080/"
        },
        "outputId": "4fb6df80-341f-40d3-fac0-fa44460cb6c5"
      },
      "execution_count": 57,
      "outputs": [
        {
          "output_type": "stream",
          "name": "stdout",
          "text": [
            "x_train.shape (39380, 1, 51)\n",
            "[[0.63706562 0.25034333 0.834785   0.61969219 0.29407292 0.873138\n",
            "  0.61560313 0.36228083 0.794662   0.61865156 0.4275375  0.796851\n",
            "  0.65245156 0.29404417 0.883025   0.66467344 0.35952917 0.813385\n",
            "  0.6657     0.42759167 0.81153    0.62689844 0.43312917 0.751411\n",
            "  0.62790937 0.53390833 0.784722   0.62785781 0.6131125  0.721369\n",
            "  0.65037031 0.433075   0.767547   0.65137969 0.53397083 0.833732\n",
            "  0.65042187 0.6214     0.837774   0.65242656 0.64310417 0.593304\n",
            "  0.64932969 0.6294875  0.624665   0.62786875 0.63225    0.516333\n",
            "  0.62992656 0.62126667 0.560284  ]]\n",
            "y_train.shape (39380,)\n",
            "Epoch 1/100\n",
            "1969/1969 [==============================] - 25s 8ms/step - loss: 0.4320 - acc: 0.8010 - auc_2: 0.8791 - false_negatives_4: 2397.0000 - recall_2: 0.8466 - precision_2: 0.7736 - false_negatives_5: 2397.0000 - true_negatives_2: 12007.0000 - false_positives_2: 3872.0000 - true_positives_2: 13228.0000 - val_loss: 0.3295 - val_acc: 0.8690 - val_auc_2: 0.9362 - val_false_negatives_4: 230.0000 - val_recall_2: 0.9426 - val_precision_2: 0.8248 - val_false_negatives_5: 230.0000 - val_true_negatives_2: 3068.0000 - val_false_positives_2: 802.0000 - val_true_positives_2: 3776.0000 - lr: 0.0010\n",
            "Epoch 2/100\n",
            "1969/1969 [==============================] - 14s 7ms/step - loss: 0.3171 - acc: 0.8716 - auc_2: 0.9382 - false_negatives_4: 1323.0000 - recall_2: 0.9153 - precision_2: 0.8401 - false_negatives_5: 1323.0000 - true_negatives_2: 13156.0000 - false_positives_2: 2723.0000 - true_positives_2: 14302.0000 - val_loss: 0.2945 - val_acc: 0.8867 - val_auc_2: 0.9502 - val_false_negatives_4: 477.0000 - val_recall_2: 0.8809 - val_precision_2: 0.8948 - val_false_negatives_5: 477.0000 - val_true_negatives_2: 3455.0000 - val_false_positives_2: 415.0000 - val_true_positives_2: 3529.0000 - lr: 0.0010\n",
            "Epoch 3/100\n",
            "1969/1969 [==============================] - 15s 8ms/step - loss: 0.2876 - acc: 0.8853 - auc_2: 0.9494 - false_negatives_4: 1278.0000 - recall_2: 0.9182 - precision_2: 0.8600 - false_negatives_5: 1278.0000 - true_negatives_2: 13543.0000 - false_positives_2: 2336.0000 - true_positives_2: 14347.0000 - val_loss: 0.2617 - val_acc: 0.8996 - val_auc_2: 0.9583 - val_false_negatives_4: 324.0000 - val_recall_2: 0.9191 - val_precision_2: 0.8874 - val_false_negatives_5: 324.0000 - val_true_negatives_2: 3403.0000 - val_false_positives_2: 467.0000 - val_true_positives_2: 3682.0000 - lr: 0.0010\n",
            "Epoch 4/100\n",
            "1969/1969 [==============================] - 14s 7ms/step - loss: 0.2688 - acc: 0.8948 - auc_2: 0.9557 - false_negatives_4: 1166.0000 - recall_2: 0.9254 - precision_2: 0.8707 - false_negatives_5: 1166.0000 - true_negatives_2: 13732.0000 - false_positives_2: 2147.0000 - true_positives_2: 14459.0000 - val_loss: 0.2469 - val_acc: 0.9064 - val_auc_2: 0.9631 - val_false_negatives_4: 228.0000 - val_recall_2: 0.9431 - val_precision_2: 0.8813 - val_false_negatives_5: 228.0000 - val_true_negatives_2: 3361.0000 - val_false_positives_2: 509.0000 - val_true_positives_2: 3778.0000 - lr: 0.0010\n",
            "Epoch 5/100\n",
            "1969/1969 [==============================] - 13s 7ms/step - loss: 0.2555 - acc: 0.9004 - auc_2: 0.9594 - false_negatives_4: 1139.0000 - recall_2: 0.9271 - precision_2: 0.8788 - false_negatives_5: 1139.0000 - true_negatives_2: 13881.0000 - false_positives_2: 1998.0000 - true_positives_2: 14486.0000 - val_loss: 0.2372 - val_acc: 0.9099 - val_auc_2: 0.9655 - val_false_negatives_4: 237.0000 - val_recall_2: 0.9408 - val_precision_2: 0.8885 - val_false_negatives_5: 237.0000 - val_true_negatives_2: 3397.0000 - val_false_positives_2: 473.0000 - val_true_positives_2: 3769.0000 - lr: 0.0010\n",
            "Epoch 6/100\n",
            "1969/1969 [==============================] - 14s 7ms/step - loss: 0.2446 - acc: 0.9025 - auc_2: 0.9627 - false_negatives_4: 1132.0000 - recall_2: 0.9276 - precision_2: 0.8820 - false_negatives_5: 1132.0000 - true_negatives_2: 13940.0000 - false_positives_2: 1939.0000 - true_positives_2: 14493.0000 - val_loss: 0.2253 - val_acc: 0.9158 - val_auc_2: 0.9685 - val_false_negatives_4: 300.0000 - val_recall_2: 0.9251 - val_precision_2: 0.9108 - val_false_negatives_5: 300.0000 - val_true_negatives_2: 3507.0000 - val_false_positives_2: 363.0000 - val_true_positives_2: 3706.0000 - lr: 0.0010\n",
            "Epoch 7/100\n",
            "1969/1969 [==============================] - 13s 7ms/step - loss: 0.2366 - acc: 0.9076 - auc_2: 0.9651 - false_negatives_4: 1097.0000 - recall_2: 0.9298 - precision_2: 0.8889 - false_negatives_5: 1097.0000 - true_negatives_2: 14064.0000 - false_positives_2: 1815.0000 - true_positives_2: 14528.0000 - val_loss: 0.2267 - val_acc: 0.9139 - val_auc_2: 0.9682 - val_false_negatives_4: 222.0000 - val_recall_2: 0.9446 - val_precision_2: 0.8925 - val_false_negatives_5: 222.0000 - val_true_negatives_2: 3414.0000 - val_false_positives_2: 456.0000 - val_true_positives_2: 3784.0000 - lr: 0.0010\n",
            "Epoch 8/100\n",
            "1969/1969 [==============================] - 13s 7ms/step - loss: 0.2300 - acc: 0.9095 - auc_2: 0.9666 - false_negatives_4: 1083.0000 - recall_2: 0.9307 - precision_2: 0.8915 - false_negatives_5: 1083.0000 - true_negatives_2: 14110.0000 - false_positives_2: 1769.0000 - true_positives_2: 14542.0000 - val_loss: 0.2119 - val_acc: 0.9177 - val_auc_2: 0.9715 - val_false_negatives_4: 287.0000 - val_recall_2: 0.9284 - val_precision_2: 0.9115 - val_false_negatives_5: 287.0000 - val_true_negatives_2: 3509.0000 - val_false_positives_2: 361.0000 - val_true_positives_2: 3719.0000 - lr: 0.0010\n",
            "Epoch 9/100\n",
            "1969/1969 [==============================] - 13s 7ms/step - loss: 0.2236 - acc: 0.9122 - auc_2: 0.9684 - false_negatives_4: 1060.0000 - recall_2: 0.9322 - precision_2: 0.8952 - false_negatives_5: 1060.0000 - true_negatives_2: 14174.0000 - false_positives_2: 1705.0000 - true_positives_2: 14565.0000 - val_loss: 0.2170 - val_acc: 0.9158 - val_auc_2: 0.9714 - val_false_negatives_4: 234.0000 - val_recall_2: 0.9416 - val_precision_2: 0.8979 - val_false_negatives_5: 234.0000 - val_true_negatives_2: 3441.0000 - val_false_positives_2: 429.0000 - val_true_positives_2: 3772.0000 - lr: 0.0010\n",
            "Epoch 10/100\n",
            "1969/1969 [==============================] - 14s 7ms/step - loss: 0.2186 - acc: 0.9134 - auc_2: 0.9697 - false_negatives_4: 1040.0000 - recall_2: 0.9334 - precision_2: 0.8963 - false_negatives_5: 1040.0000 - true_negatives_2: 14192.0000 - false_positives_2: 1687.0000 - true_positives_2: 14585.0000 - val_loss: 0.2360 - val_acc: 0.9096 - val_auc_2: 0.9713 - val_false_negatives_4: 448.0000 - val_recall_2: 0.8882 - val_precision_2: 0.9309 - val_false_negatives_5: 448.0000 - val_true_negatives_2: 3606.0000 - val_false_positives_2: 264.0000 - val_true_positives_2: 3558.0000 - lr: 0.0010\n",
            "Epoch 11/100\n",
            "1969/1969 [==============================] - 14s 7ms/step - loss: 0.2141 - acc: 0.9158 - auc_2: 0.9708 - false_negatives_4: 1013.0000 - recall_2: 0.9352 - precision_2: 0.8991 - false_negatives_5: 1013.0000 - true_negatives_2: 14240.0000 - false_positives_2: 1639.0000 - true_positives_2: 14612.0000 - val_loss: 0.2216 - val_acc: 0.9120 - val_auc_2: 0.9720 - val_false_negatives_4: 192.0000 - val_recall_2: 0.9521 - val_precision_2: 0.8839 - val_false_negatives_5: 192.0000 - val_true_negatives_2: 3369.0000 - val_false_positives_2: 501.0000 - val_true_positives_2: 3814.0000 - lr: 0.0010\n",
            "Epoch 12/100\n",
            "1969/1969 [==============================] - 15s 8ms/step - loss: 0.2093 - acc: 0.9182 - auc_2: 0.9719 - false_negatives_4: 975.0000 - recall_2: 0.9376 - precision_2: 0.9014 - false_negatives_5: 975.0000 - true_negatives_2: 14277.0000 - false_positives_2: 1602.0000 - true_positives_2: 14650.0000 - val_loss: 0.1942 - val_acc: 0.9255 - val_auc_2: 0.9755 - val_false_negatives_4: 243.0000 - val_recall_2: 0.9393 - val_precision_2: 0.9162 - val_false_negatives_5: 243.0000 - val_true_negatives_2: 3526.0000 - val_false_positives_2: 344.0000 - val_true_positives_2: 3763.0000 - lr: 9.0484e-04\n",
            "Epoch 13/100\n",
            "1969/1969 [==============================] - 21s 10ms/step - loss: 0.2042 - acc: 0.9192 - auc_2: 0.9732 - false_negatives_4: 976.0000 - recall_2: 0.9375 - precision_2: 0.9033 - false_negatives_5: 976.0000 - true_negatives_2: 14311.0000 - false_positives_2: 1568.0000 - true_positives_2: 14649.0000 - val_loss: 0.1940 - val_acc: 0.9257 - val_auc_2: 0.9762 - val_false_negatives_4: 202.0000 - val_recall_2: 0.9496 - val_precision_2: 0.9085 - val_false_negatives_5: 202.0000 - val_true_negatives_2: 3487.0000 - val_false_positives_2: 383.0000 - val_true_positives_2: 3804.0000 - lr: 8.1873e-04\n",
            "Epoch 14/100\n",
            "1969/1969 [==============================] - 14s 7ms/step - loss: 0.2012 - acc: 0.9218 - auc_2: 0.9739 - false_negatives_4: 926.0000 - recall_2: 0.9407 - precision_2: 0.9052 - false_negatives_5: 926.0000 - true_negatives_2: 14340.0000 - false_positives_2: 1539.0000 - true_positives_2: 14699.0000 - val_loss: 0.1930 - val_acc: 0.9262 - val_auc_2: 0.9764 - val_false_negatives_4: 203.0000 - val_recall_2: 0.9493 - val_precision_2: 0.9096 - val_false_negatives_5: 203.0000 - val_true_negatives_2: 3492.0000 - val_false_positives_2: 378.0000 - val_true_positives_2: 3803.0000 - lr: 7.4082e-04\n",
            "Epoch 15/100\n",
            "1969/1969 [==============================] - 14s 7ms/step - loss: 0.1968 - acc: 0.9227 - auc_2: 0.9750 - false_negatives_4: 922.0000 - recall_2: 0.9410 - precision_2: 0.9067 - false_negatives_5: 922.0000 - true_negatives_2: 14366.0000 - false_positives_2: 1513.0000 - true_positives_2: 14703.0000 - val_loss: 0.1904 - val_acc: 0.9259 - val_auc_2: 0.9767 - val_false_negatives_4: 230.0000 - val_recall_2: 0.9426 - val_precision_2: 0.9143 - val_false_negatives_5: 230.0000 - val_true_negatives_2: 3516.0000 - val_false_positives_2: 354.0000 - val_true_positives_2: 3776.0000 - lr: 6.7032e-04\n",
            "Epoch 16/100\n",
            "1969/1969 [==============================] - 17s 9ms/step - loss: 0.1934 - acc: 0.9235 - auc_2: 0.9758 - false_negatives_4: 930.0000 - recall_2: 0.9405 - precision_2: 0.9084 - false_negatives_5: 930.0000 - true_negatives_2: 14398.0000 - false_positives_2: 1481.0000 - true_positives_2: 14695.0000 - val_loss: 0.2061 - val_acc: 0.9214 - val_auc_2: 0.9760 - val_false_negatives_4: 365.0000 - val_recall_2: 0.9089 - val_precision_2: 0.9348 - val_false_negatives_5: 365.0000 - val_true_negatives_2: 3616.0000 - val_false_positives_2: 254.0000 - val_true_positives_2: 3641.0000 - lr: 6.0653e-04\n",
            "Epoch 17/100\n",
            "1969/1969 [==============================] - 16s 8ms/step - loss: 0.1908 - acc: 0.9250 - auc_2: 0.9762 - false_negatives_4: 908.0000 - recall_2: 0.9419 - precision_2: 0.9100 - false_negatives_5: 908.0000 - true_negatives_2: 14423.0000 - false_positives_2: 1456.0000 - true_positives_2: 14717.0000 - val_loss: 0.1839 - val_acc: 0.9293 - val_auc_2: 0.9778 - val_false_negatives_4: 232.0000 - val_recall_2: 0.9421 - val_precision_2: 0.9207 - val_false_negatives_5: 232.0000 - val_true_negatives_2: 3545.0000 - val_false_positives_2: 325.0000 - val_true_positives_2: 3774.0000 - lr: 5.4881e-04\n",
            "Epoch 18/100\n",
            "1969/1969 [==============================] - 14s 7ms/step - loss: 0.1882 - acc: 0.9260 - auc_2: 0.9769 - false_negatives_4: 891.0000 - recall_2: 0.9430 - precision_2: 0.9109 - false_negatives_5: 891.0000 - true_negatives_2: 14438.0000 - false_positives_2: 1441.0000 - true_positives_2: 14734.0000 - val_loss: 0.1856 - val_acc: 0.9290 - val_auc_2: 0.9774 - val_false_negatives_4: 236.0000 - val_recall_2: 0.9411 - val_precision_2: 0.9211 - val_false_negatives_5: 236.0000 - val_true_negatives_2: 3547.0000 - val_false_positives_2: 323.0000 - val_true_positives_2: 3770.0000 - lr: 4.9659e-04\n",
            "Epoch 19/100\n",
            "1969/1969 [==============================] - 14s 7ms/step - loss: 0.1859 - acc: 0.9269 - auc_2: 0.9775 - false_negatives_4: 890.0000 - recall_2: 0.9430 - precision_2: 0.9126 - false_negatives_5: 890.0000 - true_negatives_2: 14467.0000 - false_positives_2: 1412.0000 - true_positives_2: 14735.0000 - val_loss: 0.1823 - val_acc: 0.9297 - val_auc_2: 0.9786 - val_false_negatives_4: 214.0000 - val_recall_2: 0.9466 - val_precision_2: 0.9177 - val_false_negatives_5: 214.0000 - val_true_negatives_2: 3530.0000 - val_false_positives_2: 340.0000 - val_true_positives_2: 3792.0000 - lr: 4.4933e-04\n",
            "Epoch 20/100\n",
            "1969/1969 [==============================] - 13s 7ms/step - loss: 0.1838 - acc: 0.9279 - auc_2: 0.9778 - false_negatives_4: 872.0000 - recall_2: 0.9442 - precision_2: 0.9133 - false_negatives_5: 872.0000 - true_negatives_2: 14479.0000 - false_positives_2: 1400.0000 - true_positives_2: 14753.0000 - val_loss: 0.1809 - val_acc: 0.9299 - val_auc_2: 0.9787 - val_false_negatives_4: 225.0000 - val_recall_2: 0.9438 - val_precision_2: 0.9204 - val_false_negatives_5: 225.0000 - val_true_negatives_2: 3543.0000 - val_false_positives_2: 327.0000 - val_true_positives_2: 3781.0000 - lr: 4.0657e-04\n",
            "Epoch 21/100\n",
            "1969/1969 [==============================] - 14s 7ms/step - loss: 0.1820 - acc: 0.9288 - auc_2: 0.9785 - false_negatives_4: 860.0000 - recall_2: 0.9450 - precision_2: 0.9144 - false_negatives_5: 860.0000 - true_negatives_2: 14496.0000 - false_positives_2: 1383.0000 - true_positives_2: 14765.0000 - val_loss: 0.1799 - val_acc: 0.9318 - val_auc_2: 0.9788 - val_false_negatives_4: 200.0000 - val_recall_2: 0.9501 - val_precision_2: 0.9187 - val_false_negatives_5: 200.0000 - val_true_negatives_2: 3533.0000 - val_false_positives_2: 337.0000 - val_true_positives_2: 3806.0000 - lr: 3.6788e-04\n",
            "Epoch 22/100\n",
            "1969/1969 [==============================] - 14s 7ms/step - loss: 0.1803 - acc: 0.9292 - auc_2: 0.9787 - false_negatives_4: 845.0000 - recall_2: 0.9459 - precision_2: 0.9144 - false_negatives_5: 845.0000 - true_negatives_2: 14495.0000 - false_positives_2: 1384.0000 - true_positives_2: 14780.0000 - val_loss: 0.1817 - val_acc: 0.9331 - val_auc_2: 0.9792 - val_false_negatives_4: 248.0000 - val_recall_2: 0.9381 - val_precision_2: 0.9309 - val_false_negatives_5: 248.0000 - val_true_negatives_2: 3591.0000 - val_false_positives_2: 279.0000 - val_true_positives_2: 3758.0000 - lr: 3.3287e-04\n",
            "Epoch 23/100\n",
            "1969/1969 [==============================] - 13s 7ms/step - loss: 0.1795 - acc: 0.9301 - auc_2: 0.9788 - false_negatives_4: 844.0000 - recall_2: 0.9460 - precision_2: 0.9158 - false_negatives_5: 844.0000 - true_negatives_2: 14520.0000 - false_positives_2: 1359.0000 - true_positives_2: 14781.0000 - val_loss: 0.1797 - val_acc: 0.9317 - val_auc_2: 0.9793 - val_false_negatives_4: 256.0000 - val_recall_2: 0.9361 - val_precision_2: 0.9301 - val_false_negatives_5: 256.0000 - val_true_negatives_2: 3588.0000 - val_false_positives_2: 282.0000 - val_true_positives_2: 3750.0000 - lr: 3.0119e-04\n",
            "Epoch 24/100\n",
            "1969/1969 [==============================] - 16s 8ms/step - loss: 0.1778 - acc: 0.9299 - auc_2: 0.9795 - false_negatives_4: 853.0000 - recall_2: 0.9454 - precision_2: 0.9159 - false_negatives_5: 853.0000 - true_negatives_2: 14523.0000 - false_positives_2: 1356.0000 - true_positives_2: 14772.0000 - val_loss: 0.1793 - val_acc: 0.9336 - val_auc_2: 0.9798 - val_false_negatives_4: 249.0000 - val_recall_2: 0.9378 - val_precision_2: 0.9320 - val_false_negatives_5: 249.0000 - val_true_negatives_2: 3596.0000 - val_false_positives_2: 274.0000 - val_true_positives_2: 3757.0000 - lr: 2.7253e-04\n",
            "Epoch 25/100\n",
            "1969/1969 [==============================] - 13s 7ms/step - loss: 0.1766 - acc: 0.9305 - auc_2: 0.9795 - false_negatives_4: 823.0000 - recall_2: 0.9473 - precision_2: 0.9155 - false_negatives_5: 823.0000 - true_negatives_2: 14512.0000 - false_positives_2: 1367.0000 - true_positives_2: 14802.0000 - val_loss: 0.1819 - val_acc: 0.9278 - val_auc_2: 0.9791 - val_false_negatives_4: 189.0000 - val_recall_2: 0.9528 - val_precision_2: 0.9095 - val_false_negatives_5: 189.0000 - val_true_negatives_2: 3490.0000 - val_false_positives_2: 380.0000 - val_true_positives_2: 3817.0000 - lr: 2.4660e-04\n",
            "Epoch 26/100\n",
            "1969/1969 [==============================] - 14s 7ms/step - loss: 0.1752 - acc: 0.9313 - auc_2: 0.9798 - false_negatives_4: 816.0000 - recall_2: 0.9478 - precision_2: 0.9166 - false_negatives_5: 816.0000 - true_negatives_2: 14532.0000 - false_positives_2: 1347.0000 - true_positives_2: 14809.0000 - val_loss: 0.1762 - val_acc: 0.9332 - val_auc_2: 0.9800 - val_false_negatives_4: 247.0000 - val_recall_2: 0.9383 - val_precision_2: 0.9309 - val_false_negatives_5: 247.0000 - val_true_negatives_2: 3591.0000 - val_false_positives_2: 279.0000 - val_true_positives_2: 3759.0000 - lr: 2.2313e-04\n",
            "Epoch 27/100\n",
            "1969/1969 [==============================] - 13s 7ms/step - loss: 0.1748 - acc: 0.9309 - auc_2: 0.9800 - false_negatives_4: 830.0000 - recall_2: 0.9469 - precision_2: 0.9166 - false_negatives_5: 830.0000 - true_negatives_2: 14533.0000 - false_positives_2: 1346.0000 - true_positives_2: 14795.0000 - val_loss: 0.1768 - val_acc: 0.9332 - val_auc_2: 0.9801 - val_false_negatives_4: 256.0000 - val_recall_2: 0.9361 - val_precision_2: 0.9328 - val_false_negatives_5: 256.0000 - val_true_negatives_2: 3600.0000 - val_false_positives_2: 270.0000 - val_true_positives_2: 3750.0000 - lr: 2.0190e-04\n",
            "Epoch 28/100\n",
            "1969/1969 [==============================] - 13s 7ms/step - loss: 0.1733 - acc: 0.9317 - auc_2: 0.9802 - false_negatives_4: 817.0000 - recall_2: 0.9477 - precision_2: 0.9173 - false_negatives_5: 817.0000 - true_negatives_2: 14544.0000 - false_positives_2: 1335.0000 - true_positives_2: 14808.0000 - val_loss: 0.1756 - val_acc: 0.9338 - val_auc_2: 0.9803 - val_false_negatives_4: 239.0000 - val_recall_2: 0.9403 - val_precision_2: 0.9304 - val_false_negatives_5: 239.0000 - val_true_negatives_2: 3588.0000 - val_false_positives_2: 282.0000 - val_true_positives_2: 3767.0000 - lr: 1.8268e-04\n",
            "Epoch 29/100\n",
            "1969/1969 [==============================] - 14s 7ms/step - loss: 0.1729 - acc: 0.9324 - auc_2: 0.9804 - false_negatives_4: 806.0000 - recall_2: 0.9484 - precision_2: 0.9180 - false_negatives_5: 806.0000 - true_negatives_2: 14555.0000 - false_positives_2: 1324.0000 - true_positives_2: 14819.0000 - val_loss: 0.1744 - val_acc: 0.9330 - val_auc_2: 0.9800 - val_false_negatives_4: 214.0000 - val_recall_2: 0.9466 - val_precision_2: 0.9235 - val_false_negatives_5: 214.0000 - val_true_negatives_2: 3556.0000 - val_false_positives_2: 314.0000 - val_true_positives_2: 3792.0000 - lr: 1.6530e-04\n",
            "Epoch 30/100\n",
            "1969/1969 [==============================] - 13s 7ms/step - loss: 0.1720 - acc: 0.9324 - auc_2: 0.9806 - false_negatives_4: 802.0000 - recall_2: 0.9487 - precision_2: 0.9177 - false_negatives_5: 802.0000 - true_negatives_2: 14550.0000 - false_positives_2: 1329.0000 - true_positives_2: 14823.0000 - val_loss: 0.1763 - val_acc: 0.9328 - val_auc_2: 0.9796 - val_false_negatives_4: 213.0000 - val_recall_2: 0.9468 - val_precision_2: 0.9231 - val_false_negatives_5: 213.0000 - val_true_negatives_2: 3554.0000 - val_false_positives_2: 316.0000 - val_true_positives_2: 3793.0000 - lr: 1.4957e-04\n",
            "Epoch 31/100\n",
            "1969/1969 [==============================] - 14s 7ms/step - loss: 0.1715 - acc: 0.9326 - auc_2: 0.9806 - false_negatives_4: 802.0000 - recall_2: 0.9487 - precision_2: 0.9182 - false_negatives_5: 802.0000 - true_negatives_2: 14558.0000 - false_positives_2: 1321.0000 - true_positives_2: 14823.0000 - val_loss: 0.1755 - val_acc: 0.9326 - val_auc_2: 0.9805 - val_false_negatives_4: 255.0000 - val_recall_2: 0.9363 - val_precision_2: 0.9315 - val_false_negatives_5: 255.0000 - val_true_negatives_2: 3594.0000 - val_false_positives_2: 276.0000 - val_true_positives_2: 3751.0000 - lr: 1.3534e-04\n",
            "Epoch 32/100\n",
            "1969/1969 [==============================] - 13s 7ms/step - loss: 0.1706 - acc: 0.9332 - auc_2: 0.9809 - false_negatives_4: 795.0000 - recall_2: 0.9491 - precision_2: 0.9188 - false_negatives_5: 795.0000 - true_negatives_2: 14568.0000 - false_positives_2: 1311.0000 - true_positives_2: 14830.0000 - val_loss: 0.1744 - val_acc: 0.9331 - val_auc_2: 0.9807 - val_false_negatives_4: 249.0000 - val_recall_2: 0.9378 - val_precision_2: 0.9311 - val_false_negatives_5: 249.0000 - val_true_negatives_2: 3592.0000 - val_false_positives_2: 278.0000 - val_true_positives_2: 3757.0000 - lr: 1.2246e-04\n",
            "Epoch 33/100\n",
            "1969/1969 [==============================] - 14s 7ms/step - loss: 0.1705 - acc: 0.9327 - auc_2: 0.9810 - false_negatives_4: 797.0000 - recall_2: 0.9490 - precision_2: 0.9181 - false_negatives_5: 797.0000 - true_negatives_2: 14556.0000 - false_positives_2: 1323.0000 - true_positives_2: 14828.0000 - val_loss: 0.1740 - val_acc: 0.9314 - val_auc_2: 0.9806 - val_false_negatives_4: 200.0000 - val_recall_2: 0.9501 - val_precision_2: 0.9180 - val_false_negatives_5: 200.0000 - val_true_negatives_2: 3530.0000 - val_false_positives_2: 340.0000 - val_true_positives_2: 3806.0000 - lr: 1.1080e-04\n",
            "Epoch 34/100\n",
            "1969/1969 [==============================] - 14s 7ms/step - loss: 0.1699 - acc: 0.9334 - auc_2: 0.9811 - false_negatives_4: 792.0000 - recall_2: 0.9493 - precision_2: 0.9191 - false_negatives_5: 792.0000 - true_negatives_2: 14573.0000 - false_positives_2: 1306.0000 - true_positives_2: 14833.0000 - val_loss: 0.1719 - val_acc: 0.9345 - val_auc_2: 0.9807 - val_false_negatives_4: 225.0000 - val_recall_2: 0.9438 - val_precision_2: 0.9285 - val_false_negatives_5: 225.0000 - val_true_negatives_2: 3579.0000 - val_false_positives_2: 291.0000 - val_true_positives_2: 3781.0000 - lr: 1.0026e-04\n",
            "Epoch 35/100\n",
            "1969/1969 [==============================] - 14s 7ms/step - loss: 0.1693 - acc: 0.9329 - auc_2: 0.9813 - false_negatives_4: 803.0000 - recall_2: 0.9486 - precision_2: 0.9187 - false_negatives_5: 803.0000 - true_negatives_2: 14567.0000 - false_positives_2: 1312.0000 - true_positives_2: 14822.0000 - val_loss: 0.1713 - val_acc: 0.9341 - val_auc_2: 0.9808 - val_false_negatives_4: 219.0000 - val_recall_2: 0.9453 - val_precision_2: 0.9266 - val_false_negatives_5: 219.0000 - val_true_negatives_2: 3570.0000 - val_false_positives_2: 300.0000 - val_true_positives_2: 3787.0000 - lr: 9.0718e-05\n",
            "Epoch 36/100\n",
            "1969/1969 [==============================] - 13s 7ms/step - loss: 0.1691 - acc: 0.9331 - auc_2: 0.9813 - false_negatives_4: 795.0000 - recall_2: 0.9491 - precision_2: 0.9187 - false_negatives_5: 795.0000 - true_negatives_2: 14566.0000 - false_positives_2: 1313.0000 - true_positives_2: 14830.0000 - val_loss: 0.1702 - val_acc: 0.9351 - val_auc_2: 0.9810 - val_false_negatives_4: 223.0000 - val_recall_2: 0.9443 - val_precision_2: 0.9293 - val_false_negatives_5: 223.0000 - val_true_negatives_2: 3582.0000 - val_false_positives_2: 288.0000 - val_true_positives_2: 3783.0000 - lr: 8.2085e-05\n",
            "Epoch 37/100\n",
            "1969/1969 [==============================] - 14s 7ms/step - loss: 0.1685 - acc: 0.9332 - auc_2: 0.9814 - false_negatives_4: 797.0000 - recall_2: 0.9490 - precision_2: 0.9189 - false_negatives_5: 797.0000 - true_negatives_2: 14570.0000 - false_positives_2: 1309.0000 - true_positives_2: 14828.0000 - val_loss: 0.1705 - val_acc: 0.9352 - val_auc_2: 0.9811 - val_false_negatives_4: 219.0000 - val_recall_2: 0.9453 - val_precision_2: 0.9286 - val_false_negatives_5: 219.0000 - val_true_negatives_2: 3579.0000 - val_false_positives_2: 291.0000 - val_true_positives_2: 3787.0000 - lr: 7.4274e-05\n",
            "Epoch 38/100\n",
            "1969/1969 [==============================] - 13s 7ms/step - loss: 0.1685 - acc: 0.9331 - auc_2: 0.9814 - false_negatives_4: 797.0000 - recall_2: 0.9490 - precision_2: 0.9188 - false_negatives_5: 797.0000 - true_negatives_2: 14569.0000 - false_positives_2: 1310.0000 - true_positives_2: 14828.0000 - val_loss: 0.1706 - val_acc: 0.9347 - val_auc_2: 0.9810 - val_false_negatives_4: 225.0000 - val_recall_2: 0.9438 - val_precision_2: 0.9290 - val_false_negatives_5: 225.0000 - val_true_negatives_2: 3581.0000 - val_false_positives_2: 289.0000 - val_true_positives_2: 3781.0000 - lr: 6.7206e-05\n",
            "Epoch 39/100\n",
            "1969/1969 [==============================] - 13s 7ms/step - loss: 0.1679 - acc: 0.9337 - auc_2: 0.9816 - false_negatives_4: 796.0000 - recall_2: 0.9491 - precision_2: 0.9197 - false_negatives_5: 796.0000 - true_negatives_2: 14585.0000 - false_positives_2: 1294.0000 - true_positives_2: 14829.0000 - val_loss: 0.1713 - val_acc: 0.9345 - val_auc_2: 0.9812 - val_false_negatives_4: 233.0000 - val_recall_2: 0.9418 - val_precision_2: 0.9302 - val_false_negatives_5: 233.0000 - val_true_negatives_2: 3587.0000 - val_false_positives_2: 283.0000 - val_true_positives_2: 3773.0000 - lr: 6.0810e-05\n",
            "Epoch 40/100\n",
            "1969/1969 [==============================] - 14s 7ms/step - loss: 0.1679 - acc: 0.9334 - auc_2: 0.9814 - false_negatives_4: 791.0000 - recall_2: 0.9494 - precision_2: 0.9190 - false_negatives_5: 791.0000 - true_negatives_2: 14572.0000 - false_positives_2: 1307.0000 - true_positives_2: 14834.0000 - val_loss: 0.1705 - val_acc: 0.9347 - val_auc_2: 0.9811 - val_false_negatives_4: 230.0000 - val_recall_2: 0.9426 - val_precision_2: 0.9300 - val_false_negatives_5: 230.0000 - val_true_negatives_2: 3586.0000 - val_false_positives_2: 284.0000 - val_true_positives_2: 3776.0000 - lr: 5.5023e-05\n",
            "Epoch 41/100\n",
            "1969/1969 [==============================] - 14s 7ms/step - loss: 0.1675 - acc: 0.9333 - auc_2: 0.9817 - false_negatives_4: 786.0000 - recall_2: 0.9497 - precision_2: 0.9185 - false_negatives_5: 786.0000 - true_negatives_2: 14563.0000 - false_positives_2: 1316.0000 - true_positives_2: 14839.0000 - val_loss: 0.1711 - val_acc: 0.9344 - val_auc_2: 0.9812 - val_false_negatives_4: 238.0000 - val_recall_2: 0.9406 - val_precision_2: 0.9311 - val_false_negatives_5: 238.0000 - val_true_negatives_2: 3591.0000 - val_false_positives_2: 279.0000 - val_true_positives_2: 3768.0000 - lr: 4.9787e-05\n",
            "finish training lstm model\n"
          ]
        }
      ]
    },
    {
      "cell_type": "code",
      "source": [
        "lstm_model.summary()\n",
        "lstm_model.save(\"/content/drive/My Drive/final_project/lstm_model.h5\")"
      ],
      "metadata": {
        "colab": {
          "base_uri": "https://localhost:8080/"
        },
        "id": "Dui_8UsFXCC0",
        "outputId": "7c855327-b4c5-4cc2-fb45-041ffb0e5d2b"
      },
      "execution_count": 58,
      "outputs": [
        {
          "output_type": "stream",
          "name": "stdout",
          "text": [
            "Model: \"sequential_2\"\n",
            "_________________________________________________________________\n",
            " Layer (type)                Output Shape              Param #   \n",
            "=================================================================\n",
            " lstm_4 (LSTM)               (None, 1, 16)             4352      \n",
            "                                                                 \n",
            " lstm_5 (LSTM)               (None, 16)                2112      \n",
            "                                                                 \n",
            " dense_2 (Dense)             (None, 1)                 17        \n",
            "                                                                 \n",
            "=================================================================\n",
            "Total params: 6,481\n",
            "Trainable params: 6,481\n",
            "Non-trainable params: 0\n",
            "_________________________________________________________________\n"
          ]
        }
      ]
    },
    {
      "cell_type": "code",
      "source": [
        "# plotting the results\n",
        "\n",
        "import matplotlib.pyplot as plt\n",
        "\n",
        "def plotting_training(history):\n",
        "  # Plot training & validation accuracy values\n",
        "  plt.plot(history.history['acc'])\n",
        "  plt.plot(history.history['val_acc'])\n",
        "  plt.title('Model accuracy')\n",
        "  plt.ylabel('Accuracy')\n",
        "  plt.xlabel('Epoch')\n",
        "  plt.legend(['Train', 'Test'], loc='upper left')\n",
        "  plt.show()\n",
        "  # Plot training & validation loss values\n",
        "  loss = history.history['loss']\n",
        "  val_loss = history.history['val_loss']\n",
        "  epochs = range(1, len(loss) + 1)\n",
        "  plt.figure()\n",
        "  plt.plot(epochs, loss, 'bo', label=\"Training loss\")\n",
        "  plt.plot(epochs, val_loss, 'b', label='Validation loss')\n",
        "  plt.title('Training and validation loss')\n",
        "  plt.xlabel('epoch', fontsize=10)\n",
        "  plt.ylabel('loss', fontsize=10)\n",
        "  plt.ylim(0.0,0.5)\n",
        "  plt.legend()\n",
        "  plt.show()"
      ],
      "metadata": {
        "id": "f0v6_vSVXuKY"
      },
      "execution_count": 59,
      "outputs": []
    },
    {
      "cell_type": "code",
      "source": [
        "plotting_training(lstm_history)"
      ],
      "metadata": {
        "colab": {
          "base_uri": "https://localhost:8080/",
          "height": 927
        },
        "id": "0QeAwfbgXy5f",
        "outputId": "8cacdbea-432c-4a90-c8c2-7ccfa0a25176"
      },
      "execution_count": 60,
      "outputs": [
        {
          "output_type": "display_data",
          "data": {
            "text/plain": [
              "<Figure size 640x480 with 1 Axes>"
            ],
            "image/png": "[encoded data removed]"
          },
          "metadata": {}
        },
        {
          "output_type": "display_data",
          "data": {
            "text/plain": [
              "<Figure size 640x480 with 1 Axes>"
            ],
            "image/png": "[encoded data removed]"
          },
          "metadata": {}
        }
      ]
    },
    {
      "cell_type": "code",
      "source": [
        "# test \n",
        "# for lstm\n",
        "x_test = []\n",
        "y_test = []\n",
        "\n",
        "for record in train_data:\n",
        "  x_test.append(record[1:])\n",
        "  label = int(record[0])\n",
        "  y_test.append(label) \n",
        "\n",
        "x_test = array(x_test)\n",
        "x_test = x_test.reshape((len(x_test), 1, len(x_test[0])))\n",
        "\n",
        "y_test = array(y_test)\n",
        "\n",
        "test_score = lstm_model.evaluate(x_test, y_test)\n",
        "print(test_score)"
      ],
      "metadata": {
        "colab": {
          "base_uri": "https://localhost:8080/"
        },
        "id": "SR93YCSoYLzz",
        "outputId": "9ea88af5-76f1-4e03-9cc7-e8cedfce59f9"
      },
      "execution_count": 61,
      "outputs": [
        {
          "output_type": "stream",
          "name": "stdout",
          "text": [
            "1231/1231 [==============================] - 6s 5ms/step - loss: 0.1685 - acc: 0.9337 - auc_2: 0.9817 - false_negatives_4: 1105.0000 - recall_2: 0.9437 - precision_2: 0.9248 - false_negatives_5: 1105.0000 - true_negatives_2: 18243.0000 - false_positives_2: 1506.0000 - true_positives_2: 18526.0000\n",
            "[0.1685086041688919, 0.9336972832679749, 0.9817471504211426, 1105.0, 0.9437114596366882, 0.9248203039169312, 1105.0, 18243.0, 1506.0, 18526.0]\n"
          ]
        }
      ]
    },
    {
      "cell_type": "code",
      "source": [
        "# solution 2: train model using CNN\n",
        "from tensorflow.keras.models import Sequential\n",
        "from tensorflow.keras.layers import Dense, Conv2D, Flatten, MaxPooling2D\n",
        "\n",
        "def scheduler(epoch):\n",
        "  if epoch < 10:\n",
        "    return 0.001\n",
        "  else:\n",
        "    return 0.001 * np.exp(0.1 * (10 - epoch))\n",
        "\n",
        "x_train = []\n",
        "y_train = []\n",
        "\n",
        "for record in train_data:\n",
        "  x_train.append(record[1:])\n",
        "  label = int(record[0])\n",
        "  y_train.append(label) \n",
        "\n",
        "def train_cnn_model(x_train, y_train):\n",
        "  x_train = array(x_train)\n",
        "  x_train = x_train.reshape((len(x_train), 3, int(len(x_train[0])/3), 1))\n",
        "\n",
        "  y_train = array(y_train)\n",
        "\n",
        "  #create model\n",
        "  cnn_model = Sequential()\n",
        "  cnn_model.add(Conv2D(64, \n",
        "                  kernel_size=3, \n",
        "                  activation='relu', \n",
        "                  input_shape=(3,17,1), #3,21,1\n",
        "                  padding='same'))\n",
        "  cnn_model.add(layers.BatchNormalization(1))\n",
        "  cnn_model.add(Conv2D(64, \n",
        "                  kernel_size=3, \n",
        "                  activation='relu', \n",
        "                  padding='same'))\n",
        "  cnn_model.add(layers.BatchNormalization(1))\n",
        "  cnn_model.add(MaxPooling2D(2,2))\n",
        "  cnn_model.add(Flatten())\n",
        "  cnn_model.add(Dense(512, activation = 'relu')) \n",
        "  cnn_model.add(Dense(1, activation='sigmoid'))\n",
        "\n",
        "  # compile and fit\n",
        "  cnn_model.compile(optimizer='Adam',\n",
        "                loss='binary_crossentropy',\n",
        "                metrics=['acc', \n",
        "                        metrics.AUC(), \n",
        "                        metrics.FalseNegatives(),\n",
        "                        metrics.Recall(),\n",
        "                        metrics.Precision(),\n",
        "                        metrics.FalseNegatives(),\n",
        "                        metrics.TrueNegatives(),\n",
        "                        metrics.FalsePositives(),\n",
        "                        metrics.TruePositives()])\n",
        "  cnn_history = cnn_model.fit(x_train, y_train,\n",
        "                      epochs=100,\n",
        "                      batch_size=16,\n",
        "                      validation_split=0.2,\n",
        "                      callbacks=[callbacks.EarlyStopping(monitor='val_loss', patience=5),\n",
        "                      callbacks.LearningRateScheduler(scheduler)])\n",
        "    \n",
        "  print(\"finish training cnn model\")\n",
        "  return cnn_model, cnn_history\n",
        "\n",
        "\n",
        "cnn_model, cnn_history = train_cnn_model(x_train, y_train)"
      ],
      "metadata": {
        "colab": {
          "base_uri": "https://localhost:8080/"
        },
        "id": "4ivIagAmaHta",
        "outputId": "c4974290-ddc4-41ce-d422-400bc01d10b8"
      },
      "execution_count": 63,
      "outputs": [
        {
          "output_type": "stream",
          "name": "stdout",
          "text": [
            "Epoch 1/100\n",
            "1969/1969 [==============================] - 21s 7ms/step - loss: 0.2741 - acc: 0.8869 - auc_4: 0.9543 - false_negatives_8: 1503.0000 - recall_4: 0.9038 - precision_4: 0.8728 - false_negatives_9: 1503.0000 - true_negatives_4: 13820.0000 - false_positives_4: 2059.0000 - true_positives_4: 14122.0000 - val_loss: 0.2024 - val_acc: 0.9242 - val_auc_4: 0.9763 - val_false_negatives_8: 296.0000 - val_recall_4: 0.9261 - val_precision_4: 0.9250 - val_false_negatives_9: 296.0000 - val_true_negatives_4: 3569.0000 - val_false_positives_4: 301.0000 - val_true_positives_4: 3710.0000 - lr: 0.0010\n",
            "Epoch 2/100\n",
            "1969/1969 [==============================] - 12s 6ms/step - loss: 0.1768 - acc: 0.9274 - auc_4: 0.9803 - false_negatives_8: 955.0000 - recall_4: 0.9389 - precision_4: 0.9167 - false_negatives_9: 955.0000 - true_negatives_4: 14546.0000 - false_positives_4: 1333.0000 - true_positives_4: 14670.0000 - val_loss: 0.1402 - val_acc: 0.9431 - val_auc_4: 0.9872 - val_false_negatives_8: 207.0000 - val_recall_4: 0.9483 - val_precision_4: 0.9403 - val_false_negatives_9: 207.0000 - val_true_negatives_4: 3629.0000 - val_false_positives_4: 241.0000 - val_true_positives_4: 3799.0000 - lr: 0.0010\n",
            "Epoch 3/100\n",
            "1969/1969 [==============================] - 13s 7ms/step - loss: 0.1454 - acc: 0.9390 - auc_4: 0.9864 - false_negatives_8: 728.0000 - recall_4: 0.9534 - precision_4: 0.9257 - false_negatives_9: 728.0000 - true_negatives_4: 14684.0000 - false_positives_4: 1195.0000 - true_positives_4: 14897.0000 - val_loss: 0.1251 - val_acc: 0.9523 - val_auc_4: 0.9903 - val_false_negatives_8: 102.0000 - val_recall_4: 0.9745 - val_precision_4: 0.9344 - val_false_negatives_9: 102.0000 - val_true_negatives_4: 3596.0000 - val_false_positives_4: 274.0000 - val_true_positives_4: 3904.0000 - lr: 0.0010\n",
            "Epoch 4/100\n",
            "1969/1969 [==============================] - 13s 7ms/step - loss: 0.1256 - acc: 0.9467 - auc_4: 0.9894 - false_negatives_8: 526.0000 - recall_4: 0.9663 - precision_4: 0.9291 - false_negatives_9: 526.0000 - true_negatives_4: 14726.0000 - false_positives_4: 1153.0000 - true_positives_4: 15099.0000 - val_loss: 0.1281 - val_acc: 0.9496 - val_auc_4: 0.9895 - val_false_negatives_8: 175.0000 - val_recall_4: 0.9563 - val_precision_4: 0.9452 - val_false_negatives_9: 175.0000 - val_true_negatives_4: 3648.0000 - val_false_positives_4: 222.0000 - val_true_positives_4: 3831.0000 - lr: 0.0010\n",
            "Epoch 5/100\n",
            "1969/1969 [==============================] - 12s 6ms/step - loss: 0.1150 - acc: 0.9501 - auc_4: 0.9907 - false_negatives_8: 462.0000 - recall_4: 0.9704 - precision_4: 0.9317 - false_negatives_9: 462.0000 - true_negatives_4: 14768.0000 - false_positives_4: 1111.0000 - true_positives_4: 15163.0000 - val_loss: 0.1115 - val_acc: 0.9542 - val_auc_4: 0.9915 - val_false_negatives_8: 120.0000 - val_recall_4: 0.9700 - val_precision_4: 0.9416 - val_false_negatives_9: 120.0000 - val_true_negatives_4: 3629.0000 - val_false_positives_4: 241.0000 - val_true_positives_4: 3886.0000 - lr: 0.0010\n",
            "Epoch 6/100\n",
            "1969/1969 [==============================] - 15s 8ms/step - loss: 0.1055 - acc: 0.9545 - auc_4: 0.9920 - false_negatives_8: 359.0000 - recall_4: 0.9770 - precision_4: 0.9342 - false_negatives_9: 359.0000 - true_negatives_4: 14803.0000 - false_positives_4: 1076.0000 - true_positives_4: 15266.0000 - val_loss: 0.1094 - val_acc: 0.9537 - val_auc_4: 0.9923 - val_false_negatives_8: 140.0000 - val_recall_4: 0.9651 - val_precision_4: 0.9450 - val_false_negatives_9: 140.0000 - val_true_negatives_4: 3645.0000 - val_false_positives_4: 225.0000 - val_true_positives_4: 3866.0000 - lr: 0.0010\n",
            "Epoch 7/100\n",
            "1969/1969 [==============================] - 15s 7ms/step - loss: 0.0970 - acc: 0.9568 - auc_4: 0.9932 - false_negatives_8: 305.0000 - recall_4: 0.9805 - precision_4: 0.9355 - false_negatives_9: 305.0000 - true_negatives_4: 14822.0000 - false_positives_4: 1057.0000 - true_positives_4: 15320.0000 - val_loss: 0.1262 - val_acc: 0.9493 - val_auc_4: 0.9894 - val_false_negatives_8: 113.0000 - val_recall_4: 0.9718 - val_precision_4: 0.9316 - val_false_negatives_9: 113.0000 - val_true_negatives_4: 3584.0000 - val_false_positives_4: 286.0000 - val_true_positives_4: 3893.0000 - lr: 0.0010\n",
            "Epoch 8/100\n",
            "1969/1969 [==============================] - 13s 7ms/step - loss: 0.0935 - acc: 0.9580 - auc_4: 0.9933 - false_negatives_8: 280.0000 - recall_4: 0.9821 - precision_4: 0.9364 - false_negatives_9: 280.0000 - true_negatives_4: 14837.0000 - false_positives_4: 1042.0000 - true_positives_4: 15345.0000 - val_loss: 0.1038 - val_acc: 0.9631 - val_auc_4: 0.9927 - val_false_negatives_8: 73.0000 - val_recall_4: 0.9818 - val_precision_4: 0.9475 - val_false_negatives_9: 73.0000 - val_true_negatives_4: 3652.0000 - val_false_positives_4: 218.0000 - val_true_positives_4: 3933.0000 - lr: 0.0010\n",
            "Epoch 9/100\n",
            "1969/1969 [==============================] - 13s 7ms/step - loss: 0.0882 - acc: 0.9599 - auc_4: 0.9940 - false_negatives_8: 272.0000 - recall_4: 0.9826 - precision_4: 0.9394 - false_negatives_9: 272.0000 - true_negatives_4: 14889.0000 - false_positives_4: 990.0000 - true_positives_4: 15353.0000 - val_loss: 0.0891 - val_acc: 0.9618 - val_auc_4: 0.9938 - val_false_negatives_8: 66.0000 - val_recall_4: 0.9835 - val_precision_4: 0.9437 - val_false_negatives_9: 66.0000 - val_true_negatives_4: 3635.0000 - val_false_positives_4: 235.0000 - val_true_positives_4: 3940.0000 - lr: 0.0010\n",
            "Epoch 10/100\n",
            "1969/1969 [==============================] - 12s 6ms/step - loss: 0.0851 - acc: 0.9615 - auc_4: 0.9944 - false_negatives_8: 223.0000 - recall_4: 0.9857 - precision_4: 0.9397 - false_negatives_9: 223.0000 - true_negatives_4: 14890.0000 - false_positives_4: 989.0000 - true_positives_4: 15402.0000 - val_loss: 0.1148 - val_acc: 0.9586 - val_auc_4: 0.9913 - val_false_negatives_8: 89.0000 - val_recall_4: 0.9778 - val_precision_4: 0.9429 - val_false_negatives_9: 89.0000 - val_true_negatives_4: 3633.0000 - val_false_positives_4: 237.0000 - val_true_positives_4: 3917.0000 - lr: 0.0010\n",
            "Epoch 11/100\n",
            "1969/1969 [==============================] - 14s 7ms/step - loss: 0.0836 - acc: 0.9622 - auc_4: 0.9944 - false_negatives_8: 210.0000 - recall_4: 0.9866 - precision_4: 0.9402 - false_negatives_9: 210.0000 - true_negatives_4: 14898.0000 - false_positives_4: 981.0000 - true_positives_4: 15415.0000 - val_loss: 0.0894 - val_acc: 0.9629 - val_auc_4: 0.9938 - val_false_negatives_8: 71.0000 - val_recall_4: 0.9823 - val_precision_4: 0.9468 - val_false_negatives_9: 71.0000 - val_true_negatives_4: 3649.0000 - val_false_positives_4: 221.0000 - val_true_positives_4: 3935.0000 - lr: 0.0010\n",
            "Epoch 12/100\n",
            "1969/1969 [==============================] - 13s 7ms/step - loss: 0.0760 - acc: 0.9656 - auc_4: 0.9951 - false_negatives_8: 142.0000 - recall_4: 0.9909 - precision_4: 0.9426 - false_negatives_9: 142.0000 - true_negatives_4: 14937.0000 - false_positives_4: 942.0000 - true_positives_4: 15483.0000 - val_loss: 0.1002 - val_acc: 0.9611 - val_auc_4: 0.9933 - val_false_negatives_8: 85.0000 - val_recall_4: 0.9788 - val_precision_4: 0.9466 - val_false_negatives_9: 85.0000 - val_true_negatives_4: 3649.0000 - val_false_positives_4: 221.0000 - val_true_positives_4: 3921.0000 - lr: 9.0484e-04\n",
            "Epoch 13/100\n",
            "1969/1969 [==============================] - 12s 6ms/step - loss: 0.0731 - acc: 0.9660 - auc_4: 0.9956 - false_negatives_8: 136.0000 - recall_4: 0.9913 - precision_4: 0.9431 - false_negatives_9: 136.0000 - true_negatives_4: 14944.0000 - false_positives_4: 935.0000 - true_positives_4: 15489.0000 - val_loss: 0.0820 - val_acc: 0.9660 - val_auc_4: 0.9945 - val_false_negatives_8: 45.0000 - val_recall_4: 0.9888 - val_precision_4: 0.9467 - val_false_negatives_9: 45.0000 - val_true_negatives_4: 3647.0000 - val_false_positives_4: 223.0000 - val_true_positives_4: 3961.0000 - lr: 8.1873e-04\n",
            "Epoch 14/100\n",
            "1969/1969 [==============================] - 13s 6ms/step - loss: 0.0701 - acc: 0.9669 - auc_4: 0.9958 - false_negatives_8: 149.0000 - recall_4: 0.9905 - precision_4: 0.9454 - false_negatives_9: 149.0000 - true_negatives_4: 14985.0000 - false_positives_4: 894.0000 - true_positives_4: 15476.0000 - val_loss: 0.0841 - val_acc: 0.9653 - val_auc_4: 0.9942 - val_false_negatives_8: 52.0000 - val_recall_4: 0.9870 - val_precision_4: 0.9471 - val_false_negatives_9: 52.0000 - val_true_negatives_4: 3649.0000 - val_false_positives_4: 221.0000 - val_true_positives_4: 3954.0000 - lr: 7.4082e-04\n",
            "Epoch 15/100\n",
            "1969/1969 [==============================] - 12s 6ms/step - loss: 0.0689 - acc: 0.9679 - auc_4: 0.9958 - false_negatives_8: 103.0000 - recall_4: 0.9934 - precision_4: 0.9447 - false_negatives_9: 103.0000 - true_negatives_4: 14970.0000 - false_positives_4: 909.0000 - true_positives_4: 15522.0000 - val_loss: 0.0859 - val_acc: 0.9662 - val_auc_4: 0.9942 - val_false_negatives_8: 53.0000 - val_recall_4: 0.9868 - val_precision_4: 0.9489 - val_false_negatives_9: 53.0000 - val_true_negatives_4: 3657.0000 - val_false_positives_4: 213.0000 - val_true_positives_4: 3953.0000 - lr: 6.7032e-04\n",
            "Epoch 16/100\n",
            "1969/1969 [==============================] - 11s 5ms/step - loss: 0.0646 - acc: 0.9688 - auc_4: 0.9962 - false_negatives_8: 91.0000 - recall_4: 0.9942 - precision_4: 0.9457 - false_negatives_9: 91.0000 - true_negatives_4: 14987.0000 - false_positives_4: 892.0000 - true_positives_4: 15534.0000 - val_loss: 0.0871 - val_acc: 0.9665 - val_auc_4: 0.9940 - val_false_negatives_8: 27.0000 - val_recall_4: 0.9933 - val_precision_4: 0.9438 - val_false_negatives_9: 27.0000 - val_true_negatives_4: 3633.0000 - val_false_positives_4: 237.0000 - val_true_positives_4: 3979.0000 - lr: 6.0653e-04\n",
            "Epoch 17/100\n",
            "1969/1969 [==============================] - 15s 8ms/step - loss: 0.0632 - acc: 0.9695 - auc_4: 0.9963 - false_negatives_8: 74.0000 - recall_4: 0.9953 - precision_4: 0.9461 - false_negatives_9: 74.0000 - true_negatives_4: 14993.0000 - false_positives_4: 886.0000 - true_positives_4: 15551.0000 - val_loss: 0.0811 - val_acc: 0.9679 - val_auc_4: 0.9948 - val_false_negatives_8: 38.0000 - val_recall_4: 0.9905 - val_precision_4: 0.9486 - val_false_negatives_9: 38.0000 - val_true_negatives_4: 3655.0000 - val_false_positives_4: 215.0000 - val_true_positives_4: 3968.0000 - lr: 5.4881e-04\n",
            "Epoch 18/100\n",
            "1969/1969 [==============================] - 14s 7ms/step - loss: 0.0613 - acc: 0.9703 - auc_4: 0.9965 - false_negatives_8: 59.0000 - recall_4: 0.9962 - precision_4: 0.9467 - false_negatives_9: 59.0000 - true_negatives_4: 15003.0000 - false_positives_4: 876.0000 - true_positives_4: 15566.0000 - val_loss: 0.0895 - val_acc: 0.9661 - val_auc_4: 0.9943 - val_false_negatives_8: 47.0000 - val_recall_4: 0.9883 - val_precision_4: 0.9474 - val_false_negatives_9: 47.0000 - val_true_negatives_4: 3650.0000 - val_false_positives_4: 220.0000 - val_true_positives_4: 3959.0000 - lr: 4.9659e-04\n",
            "Epoch 19/100\n",
            "1969/1969 [==============================] - 11s 6ms/step - loss: 0.0601 - acc: 0.9708 - auc_4: 0.9965 - false_negatives_8: 53.0000 - recall_4: 0.9966 - precision_4: 0.9473 - false_negatives_9: 53.0000 - true_negatives_4: 15012.0000 - false_positives_4: 867.0000 - true_positives_4: 15572.0000 - val_loss: 0.0939 - val_acc: 0.9658 - val_auc_4: 0.9936 - val_false_negatives_8: 32.0000 - val_recall_4: 0.9920 - val_precision_4: 0.9437 - val_false_negatives_9: 32.0000 - val_true_negatives_4: 3633.0000 - val_false_positives_4: 237.0000 - val_true_positives_4: 3974.0000 - lr: 4.4933e-04\n",
            "Epoch 20/100\n",
            "1969/1969 [==============================] - 12s 6ms/step - loss: 0.0587 - acc: 0.9710 - auc_4: 0.9967 - false_negatives_8: 53.0000 - recall_4: 0.9966 - precision_4: 0.9477 - false_negatives_9: 53.0000 - true_negatives_4: 15019.0000 - false_positives_4: 860.0000 - true_positives_4: 15572.0000 - val_loss: 0.0856 - val_acc: 0.9671 - val_auc_4: 0.9942 - val_false_negatives_8: 47.0000 - val_recall_4: 0.9883 - val_precision_4: 0.9492 - val_false_negatives_9: 47.0000 - val_true_negatives_4: 3658.0000 - val_false_positives_4: 212.0000 - val_true_positives_4: 3959.0000 - lr: 4.0657e-04\n",
            "Epoch 21/100\n",
            "1969/1969 [==============================] - 13s 7ms/step - loss: 0.0584 - acc: 0.9711 - auc_4: 0.9967 - false_negatives_8: 49.0000 - recall_4: 0.9969 - precision_4: 0.9476 - false_negatives_9: 49.0000 - true_negatives_4: 15018.0000 - false_positives_4: 861.0000 - true_positives_4: 15576.0000 - val_loss: 0.0838 - val_acc: 0.9684 - val_auc_4: 0.9940 - val_false_negatives_8: 42.0000 - val_recall_4: 0.9895 - val_precision_4: 0.9504 - val_false_negatives_9: 42.0000 - val_true_negatives_4: 3663.0000 - val_false_positives_4: 207.0000 - val_true_positives_4: 3964.0000 - lr: 3.6788e-04\n",
            "Epoch 22/100\n",
            "1969/1969 [==============================] - 17s 8ms/step - loss: 0.0572 - acc: 0.9716 - auc_4: 0.9968 - false_negatives_8: 38.0000 - recall_4: 0.9976 - precision_4: 0.9479 - false_negatives_9: 38.0000 - true_negatives_4: 15022.0000 - false_positives_4: 857.0000 - true_positives_4: 15587.0000 - val_loss: 0.0872 - val_acc: 0.9675 - val_auc_4: 0.9945 - val_false_negatives_8: 37.0000 - val_recall_4: 0.9908 - val_precision_4: 0.9477 - val_false_negatives_9: 37.0000 - val_true_negatives_4: 3651.0000 - val_false_positives_4: 219.0000 - val_true_positives_4: 3969.0000 - lr: 3.3287e-04\n",
            "finish training cnn model\n"
          ]
        }
      ]
    },
    {
      "cell_type": "code",
      "source": [
        "cnn_model.summary()\n",
        "cnn_model.save(\"/content/drive/My Drive/final_project/cnn_model.h5\")"
      ],
      "metadata": {
        "colab": {
          "base_uri": "https://localhost:8080/"
        },
        "id": "0u0eFHDDaivH",
        "outputId": "c4762c75-d39f-4798-9102-efaad6e747ec"
      },
      "execution_count": 64,
      "outputs": [
        {
          "output_type": "stream",
          "name": "stdout",
          "text": [
            "Model: \"sequential_4\"\n",
            "_________________________________________________________________\n",
            " Layer (type)                Output Shape              Param #   \n",
            "=================================================================\n",
            " conv2d_2 (Conv2D)           (None, 3, 17, 64)         640       \n",
            "                                                                 \n",
            " batch_normalization_2 (Batc  (None, 3, 17, 64)        12        \n",
            " hNormalization)                                                 \n",
            "                                                                 \n",
            " conv2d_3 (Conv2D)           (None, 3, 17, 64)         36928     \n",
            "                                                                 \n",
            " batch_normalization_3 (Batc  (None, 3, 17, 64)        12        \n",
            " hNormalization)                                                 \n",
            "                                                                 \n",
            " max_pooling2d_1 (MaxPooling  (None, 1, 8, 64)         0         \n",
            " 2D)                                                             \n",
            "                                                                 \n",
            " flatten_1 (Flatten)         (None, 512)               0         \n",
            "                                                                 \n",
            " dense_5 (Dense)             (None, 512)               262656    \n",
            "                                                                 \n",
            " dense_6 (Dense)             (None, 1)                 513       \n",
            "                                                                 \n",
            "=================================================================\n",
            "Total params: 300,761\n",
            "Trainable params: 300,749\n",
            "Non-trainable params: 12\n",
            "_________________________________________________________________\n"
          ]
        }
      ]
    },
    {
      "cell_type": "code",
      "source": [
        "plotting_training(cnn_history)"
      ],
      "metadata": {
        "colab": {
          "base_uri": "https://localhost:8080/",
          "height": 927
        },
        "id": "zPkm0LNxa6vS",
        "outputId": "a57b7cb3-5daa-4ebc-b992-239c7dfc9918"
      },
      "execution_count": 65,
      "outputs": [
        {
          "output_type": "display_data",
          "data": {
            "text/plain": [
              "<Figure size 640x480 with 1 Axes>"
            ],
            "image/png": "[encoded data removed]"
          },
          "metadata": {}
        },
        {
          "output_type": "display_data",
          "data": {
            "text/plain": [
              "<Figure size 640x480 with 1 Axes>"
            ],
            "image/png": "[encoded data removed]"
          },
          "metadata": {}
        }
      ]
    },
    {
      "cell_type": "code",
      "source": [
        "# test\n",
        "# for cnn 2d\n",
        "x_test = []\n",
        "y_test = []\n",
        "\n",
        "for record in train_data:\n",
        "  x_test.append(record[1:])\n",
        "  label = int(record[0])\n",
        "  y_test.append(label) \n",
        "\n",
        "x_test = array(x_test)\n",
        "x_test = x_test.reshape((len(x_test), 3, int(len(x_test[0])/3), 1))\n",
        "\n",
        "y_test = array(y_test)\n",
        "\n",
        "test_score = cnn_model.evaluate(x_test, y_test)\n",
        "print(test_score)"
      ],
      "metadata": {
        "colab": {
          "base_uri": "https://localhost:8080/"
        },
        "id": "_prrUsIIa_3q",
        "outputId": "27ff6474-41c1-4c80-b6e9-853be3a104b8"
      },
      "execution_count": 66,
      "outputs": [
        {
          "output_type": "stream",
          "name": "stdout",
          "text": [
            "1231/1231 [==============================] - 5s 4ms/step - loss: 0.0628 - acc: 0.9708 - auc_4: 0.9964 - false_negatives_8: 69.0000 - recall_4: 0.9965 - precision_4: 0.9476 - false_negatives_9: 69.0000 - true_negatives_4: 18668.0000 - false_positives_4: 1081.0000 - true_positives_4: 19562.0000\n",
            "[0.06277123838663101, 0.9707973599433899, 0.9963855743408203, 69.0, 0.99648517370224, 0.9476335644721985, 69.0, 18668.0, 1081.0, 19562.0]\n"
          ]
        }
      ]
    },
    {
      "cell_type": "code",
      "source": [
        "# train the final lstm model with all data (include test data) \n",
        "\n",
        "x_train_final = []\n",
        "y_train_final = []\n",
        "\n",
        "for record in all_data:\n",
        "  x_train_final.append(record[1:])\n",
        "  label = int(record[0])\n",
        "  y_train_final.append(label) \n",
        "\n"
      ],
      "metadata": {
        "id": "KYCpEgX8bUCF"
      },
      "execution_count": 67,
      "outputs": []
    }
  ]
}